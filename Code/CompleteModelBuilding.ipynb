{
 "cells": [
  {
   "cell_type": "markdown",
   "id": "248f077c-3108-4aac-8714-d00a0ef63d73",
   "metadata": {},
   "source": [
    "## Final Model Building"
   ]
  },
  {
   "cell_type": "markdown",
   "id": "d50569f2-40d0-47ac-b5a8-11d3265b46e7",
   "metadata": {},
   "source": [
    "- Final model\n",
    "- Feature Selection using SHAP"
   ]
  },
  {
   "cell_type": "code",
   "execution_count": 1,
   "id": "c8b1e765-7f18-407b-ad40-b692e7cfbae7",
   "metadata": {
    "tags": []
   },
   "outputs": [],
   "source": [
    "# pip install optuna"
   ]
  },
  {
   "cell_type": "code",
   "execution_count": 2,
   "id": "e546f2ba-2b2e-4b37-b5c0-c22331a8b1a2",
   "metadata": {
    "tags": []
   },
   "outputs": [],
   "source": [
    "# for EDA\n",
    "import numpy as np # linear algebra\n",
    "import pandas as pd # data processing, CSV file I/O (e.g. pd.read_csv)\n",
    "import matplotlib.pyplot as plt\n",
    "import matplotlib as mpl\n",
    "import seaborn as sns\n",
    "import matplotlib.colors\n",
    "import matplotlib.ticker as mtick\n",
    "\n",
    "\n",
    "# feature scaler\n",
    "from sklearn.preprocessing import StandardScaler, OrdinalEncoder\n",
    "\n",
    "# for fixing the imbalanced dataset and split\n",
    "from imblearn.over_sampling import SMOTE, ADASYN\n",
    "from imblearn.under_sampling import RandomUnderSampler, EditedNearestNeighbours\n",
    "from imblearn.combine import SMOTEENN\n",
    "\n",
    "# for model evaluation\n",
    "from sklearn.metrics import accuracy_score, roc_auc_score, mean_squared_error\n",
    "from sklearn.metrics import confusion_matrix, classification_report\n",
    "\n",
    "# models selection \n",
    "from sklearn.linear_model import LogisticRegression\n",
    "from sklearn.naive_bayes import GaussianNB\n",
    "from sklearn.neighbors import KNeighborsClassifier\n",
    "from sklearn.tree import DecisionTreeClassifier\n",
    "from sklearn import svm\n",
    "from sklearn.ensemble import RandomForestClassifier, GradientBoostingClassifier\n",
    "from sklearn.ensemble import AdaBoostClassifier\n",
    "from xgboost import XGBClassifier\n",
    "from lightgbm import LGBMClassifier\n",
    "from catboost import CatBoostClassifier\n",
    "\n",
    "\n",
    "# for the gridsearch\n",
    "from sklearn.model_selection import GridSearchCV"
   ]
  },
  {
   "cell_type": "code",
   "execution_count": 3,
   "id": "b872a436-0a98-41ca-a24d-d052b3aa6fd8",
   "metadata": {
    "tags": []
   },
   "outputs": [],
   "source": [
    "#Load the data using Pandas\n",
    "filePath = '/Users/namithabhaskar/Documents/MsSem4ClassworkAssignments/capstoneProject/Data/Diabetes/archive/diabetes_binary_health_indicators_BRFSS2015.csv'\n",
    "df = pd.read_csv(filePath)\n",
    "filePath1 = '/Users/namithabhaskar/Documents/MsSem4ClassworkAssignments/capstoneProject/Data/Diabetes/archive/diabetes_binary_5050split_health_indicators_BRFSS2015.csv'\n",
    "baldf = pd.read_csv(filePath1)"
   ]
  },
  {
   "cell_type": "code",
   "execution_count": 4,
   "id": "f7e58cb4-9fd8-44e2-8f41-a17315cf4dc0",
   "metadata": {
    "tags": []
   },
   "outputs": [
    {
     "data": {
      "text/html": [
       "<div>\n",
       "<style scoped>\n",
       "    .dataframe tbody tr th:only-of-type {\n",
       "        vertical-align: middle;\n",
       "    }\n",
       "\n",
       "    .dataframe tbody tr th {\n",
       "        vertical-align: top;\n",
       "    }\n",
       "\n",
       "    .dataframe thead th {\n",
       "        text-align: right;\n",
       "    }\n",
       "</style>\n",
       "<table border=\"1\" class=\"dataframe\">\n",
       "  <thead>\n",
       "    <tr style=\"text-align: right;\">\n",
       "      <th></th>\n",
       "      <th>Diabetes_binary</th>\n",
       "      <th>HighBP</th>\n",
       "      <th>HighChol</th>\n",
       "      <th>CholCheck</th>\n",
       "      <th>BMI</th>\n",
       "      <th>Smoker</th>\n",
       "      <th>Stroke</th>\n",
       "      <th>HeartDiseaseorAttack</th>\n",
       "      <th>PhysActivity</th>\n",
       "      <th>Fruits</th>\n",
       "      <th>...</th>\n",
       "      <th>AnyHealthcare</th>\n",
       "      <th>NoDocbcCost</th>\n",
       "      <th>GenHlth</th>\n",
       "      <th>MentHlth</th>\n",
       "      <th>PhysHlth</th>\n",
       "      <th>DiffWalk</th>\n",
       "      <th>Sex</th>\n",
       "      <th>Age</th>\n",
       "      <th>Education</th>\n",
       "      <th>Income</th>\n",
       "    </tr>\n",
       "  </thead>\n",
       "  <tbody>\n",
       "    <tr>\n",
       "      <th>0</th>\n",
       "      <td>0.0</td>\n",
       "      <td>1.0</td>\n",
       "      <td>1.0</td>\n",
       "      <td>1.0</td>\n",
       "      <td>40.0</td>\n",
       "      <td>1.0</td>\n",
       "      <td>0.0</td>\n",
       "      <td>0.0</td>\n",
       "      <td>0.0</td>\n",
       "      <td>0.0</td>\n",
       "      <td>...</td>\n",
       "      <td>1.0</td>\n",
       "      <td>0.0</td>\n",
       "      <td>5.0</td>\n",
       "      <td>18.0</td>\n",
       "      <td>15.0</td>\n",
       "      <td>1.0</td>\n",
       "      <td>0.0</td>\n",
       "      <td>9.0</td>\n",
       "      <td>4.0</td>\n",
       "      <td>3.0</td>\n",
       "    </tr>\n",
       "    <tr>\n",
       "      <th>1</th>\n",
       "      <td>0.0</td>\n",
       "      <td>0.0</td>\n",
       "      <td>0.0</td>\n",
       "      <td>0.0</td>\n",
       "      <td>25.0</td>\n",
       "      <td>1.0</td>\n",
       "      <td>0.0</td>\n",
       "      <td>0.0</td>\n",
       "      <td>1.0</td>\n",
       "      <td>0.0</td>\n",
       "      <td>...</td>\n",
       "      <td>0.0</td>\n",
       "      <td>1.0</td>\n",
       "      <td>3.0</td>\n",
       "      <td>0.0</td>\n",
       "      <td>0.0</td>\n",
       "      <td>0.0</td>\n",
       "      <td>0.0</td>\n",
       "      <td>7.0</td>\n",
       "      <td>6.0</td>\n",
       "      <td>1.0</td>\n",
       "    </tr>\n",
       "    <tr>\n",
       "      <th>2</th>\n",
       "      <td>0.0</td>\n",
       "      <td>1.0</td>\n",
       "      <td>1.0</td>\n",
       "      <td>1.0</td>\n",
       "      <td>28.0</td>\n",
       "      <td>0.0</td>\n",
       "      <td>0.0</td>\n",
       "      <td>0.0</td>\n",
       "      <td>0.0</td>\n",
       "      <td>1.0</td>\n",
       "      <td>...</td>\n",
       "      <td>1.0</td>\n",
       "      <td>1.0</td>\n",
       "      <td>5.0</td>\n",
       "      <td>30.0</td>\n",
       "      <td>30.0</td>\n",
       "      <td>1.0</td>\n",
       "      <td>0.0</td>\n",
       "      <td>9.0</td>\n",
       "      <td>4.0</td>\n",
       "      <td>8.0</td>\n",
       "    </tr>\n",
       "    <tr>\n",
       "      <th>3</th>\n",
       "      <td>0.0</td>\n",
       "      <td>1.0</td>\n",
       "      <td>0.0</td>\n",
       "      <td>1.0</td>\n",
       "      <td>27.0</td>\n",
       "      <td>0.0</td>\n",
       "      <td>0.0</td>\n",
       "      <td>0.0</td>\n",
       "      <td>1.0</td>\n",
       "      <td>1.0</td>\n",
       "      <td>...</td>\n",
       "      <td>1.0</td>\n",
       "      <td>0.0</td>\n",
       "      <td>2.0</td>\n",
       "      <td>0.0</td>\n",
       "      <td>0.0</td>\n",
       "      <td>0.0</td>\n",
       "      <td>0.0</td>\n",
       "      <td>11.0</td>\n",
       "      <td>3.0</td>\n",
       "      <td>6.0</td>\n",
       "    </tr>\n",
       "    <tr>\n",
       "      <th>4</th>\n",
       "      <td>0.0</td>\n",
       "      <td>1.0</td>\n",
       "      <td>1.0</td>\n",
       "      <td>1.0</td>\n",
       "      <td>24.0</td>\n",
       "      <td>0.0</td>\n",
       "      <td>0.0</td>\n",
       "      <td>0.0</td>\n",
       "      <td>1.0</td>\n",
       "      <td>1.0</td>\n",
       "      <td>...</td>\n",
       "      <td>1.0</td>\n",
       "      <td>0.0</td>\n",
       "      <td>2.0</td>\n",
       "      <td>3.0</td>\n",
       "      <td>0.0</td>\n",
       "      <td>0.0</td>\n",
       "      <td>0.0</td>\n",
       "      <td>11.0</td>\n",
       "      <td>5.0</td>\n",
       "      <td>4.0</td>\n",
       "    </tr>\n",
       "  </tbody>\n",
       "</table>\n",
       "<p>5 rows × 22 columns</p>\n",
       "</div>"
      ],
      "text/plain": [
       "   Diabetes_binary  HighBP  HighChol  CholCheck   BMI  Smoker  Stroke  \\\n",
       "0              0.0     1.0       1.0        1.0  40.0     1.0     0.0   \n",
       "1              0.0     0.0       0.0        0.0  25.0     1.0     0.0   \n",
       "2              0.0     1.0       1.0        1.0  28.0     0.0     0.0   \n",
       "3              0.0     1.0       0.0        1.0  27.0     0.0     0.0   \n",
       "4              0.0     1.0       1.0        1.0  24.0     0.0     0.0   \n",
       "\n",
       "   HeartDiseaseorAttack  PhysActivity  Fruits  ...  AnyHealthcare  \\\n",
       "0                   0.0           0.0     0.0  ...            1.0   \n",
       "1                   0.0           1.0     0.0  ...            0.0   \n",
       "2                   0.0           0.0     1.0  ...            1.0   \n",
       "3                   0.0           1.0     1.0  ...            1.0   \n",
       "4                   0.0           1.0     1.0  ...            1.0   \n",
       "\n",
       "   NoDocbcCost  GenHlth  MentHlth  PhysHlth  DiffWalk  Sex   Age  Education  \\\n",
       "0          0.0      5.0      18.0      15.0       1.0  0.0   9.0        4.0   \n",
       "1          1.0      3.0       0.0       0.0       0.0  0.0   7.0        6.0   \n",
       "2          1.0      5.0      30.0      30.0       1.0  0.0   9.0        4.0   \n",
       "3          0.0      2.0       0.0       0.0       0.0  0.0  11.0        3.0   \n",
       "4          0.0      2.0       3.0       0.0       0.0  0.0  11.0        5.0   \n",
       "\n",
       "   Income  \n",
       "0     3.0  \n",
       "1     1.0  \n",
       "2     8.0  \n",
       "3     6.0  \n",
       "4     4.0  \n",
       "\n",
       "[5 rows x 22 columns]"
      ]
     },
     "execution_count": 4,
     "metadata": {},
     "output_type": "execute_result"
    }
   ],
   "source": [
    "df.head()"
   ]
  },
  {
   "cell_type": "code",
   "execution_count": 5,
   "id": "53e7bd8e-51d9-4c98-8900-89fb2102dea9",
   "metadata": {
    "tags": []
   },
   "outputs": [
    {
     "data": {
      "text/html": [
       "<div>\n",
       "<style scoped>\n",
       "    .dataframe tbody tr th:only-of-type {\n",
       "        vertical-align: middle;\n",
       "    }\n",
       "\n",
       "    .dataframe tbody tr th {\n",
       "        vertical-align: top;\n",
       "    }\n",
       "\n",
       "    .dataframe thead th {\n",
       "        text-align: right;\n",
       "    }\n",
       "</style>\n",
       "<table border=\"1\" class=\"dataframe\">\n",
       "  <thead>\n",
       "    <tr style=\"text-align: right;\">\n",
       "      <th></th>\n",
       "      <th>Diabetes_binary</th>\n",
       "      <th>HighBP</th>\n",
       "      <th>HighChol</th>\n",
       "      <th>CholCheck</th>\n",
       "      <th>BMI</th>\n",
       "      <th>Smoker</th>\n",
       "      <th>Stroke</th>\n",
       "      <th>HeartDiseaseorAttack</th>\n",
       "      <th>PhysActivity</th>\n",
       "      <th>Fruits</th>\n",
       "      <th>...</th>\n",
       "      <th>AnyHealthcare</th>\n",
       "      <th>NoDocbcCost</th>\n",
       "      <th>GenHlth</th>\n",
       "      <th>MentHlth</th>\n",
       "      <th>PhysHlth</th>\n",
       "      <th>DiffWalk</th>\n",
       "      <th>Sex</th>\n",
       "      <th>Age</th>\n",
       "      <th>Education</th>\n",
       "      <th>Income</th>\n",
       "    </tr>\n",
       "  </thead>\n",
       "  <tbody>\n",
       "    <tr>\n",
       "      <th>253675</th>\n",
       "      <td>0.0</td>\n",
       "      <td>1.0</td>\n",
       "      <td>1.0</td>\n",
       "      <td>1.0</td>\n",
       "      <td>45.0</td>\n",
       "      <td>0.0</td>\n",
       "      <td>0.0</td>\n",
       "      <td>0.0</td>\n",
       "      <td>0.0</td>\n",
       "      <td>1.0</td>\n",
       "      <td>...</td>\n",
       "      <td>1.0</td>\n",
       "      <td>0.0</td>\n",
       "      <td>3.0</td>\n",
       "      <td>0.0</td>\n",
       "      <td>5.0</td>\n",
       "      <td>0.0</td>\n",
       "      <td>1.0</td>\n",
       "      <td>5.0</td>\n",
       "      <td>6.0</td>\n",
       "      <td>7.0</td>\n",
       "    </tr>\n",
       "    <tr>\n",
       "      <th>253676</th>\n",
       "      <td>1.0</td>\n",
       "      <td>1.0</td>\n",
       "      <td>1.0</td>\n",
       "      <td>1.0</td>\n",
       "      <td>18.0</td>\n",
       "      <td>0.0</td>\n",
       "      <td>0.0</td>\n",
       "      <td>0.0</td>\n",
       "      <td>0.0</td>\n",
       "      <td>0.0</td>\n",
       "      <td>...</td>\n",
       "      <td>1.0</td>\n",
       "      <td>0.0</td>\n",
       "      <td>4.0</td>\n",
       "      <td>0.0</td>\n",
       "      <td>0.0</td>\n",
       "      <td>1.0</td>\n",
       "      <td>0.0</td>\n",
       "      <td>11.0</td>\n",
       "      <td>2.0</td>\n",
       "      <td>4.0</td>\n",
       "    </tr>\n",
       "    <tr>\n",
       "      <th>253677</th>\n",
       "      <td>0.0</td>\n",
       "      <td>0.0</td>\n",
       "      <td>0.0</td>\n",
       "      <td>1.0</td>\n",
       "      <td>28.0</td>\n",
       "      <td>0.0</td>\n",
       "      <td>0.0</td>\n",
       "      <td>0.0</td>\n",
       "      <td>1.0</td>\n",
       "      <td>1.0</td>\n",
       "      <td>...</td>\n",
       "      <td>1.0</td>\n",
       "      <td>0.0</td>\n",
       "      <td>1.0</td>\n",
       "      <td>0.0</td>\n",
       "      <td>0.0</td>\n",
       "      <td>0.0</td>\n",
       "      <td>0.0</td>\n",
       "      <td>2.0</td>\n",
       "      <td>5.0</td>\n",
       "      <td>2.0</td>\n",
       "    </tr>\n",
       "    <tr>\n",
       "      <th>253678</th>\n",
       "      <td>0.0</td>\n",
       "      <td>1.0</td>\n",
       "      <td>0.0</td>\n",
       "      <td>1.0</td>\n",
       "      <td>23.0</td>\n",
       "      <td>0.0</td>\n",
       "      <td>0.0</td>\n",
       "      <td>0.0</td>\n",
       "      <td>0.0</td>\n",
       "      <td>1.0</td>\n",
       "      <td>...</td>\n",
       "      <td>1.0</td>\n",
       "      <td>0.0</td>\n",
       "      <td>3.0</td>\n",
       "      <td>0.0</td>\n",
       "      <td>0.0</td>\n",
       "      <td>0.0</td>\n",
       "      <td>1.0</td>\n",
       "      <td>7.0</td>\n",
       "      <td>5.0</td>\n",
       "      <td>1.0</td>\n",
       "    </tr>\n",
       "    <tr>\n",
       "      <th>253679</th>\n",
       "      <td>1.0</td>\n",
       "      <td>1.0</td>\n",
       "      <td>1.0</td>\n",
       "      <td>1.0</td>\n",
       "      <td>25.0</td>\n",
       "      <td>0.0</td>\n",
       "      <td>0.0</td>\n",
       "      <td>1.0</td>\n",
       "      <td>1.0</td>\n",
       "      <td>1.0</td>\n",
       "      <td>...</td>\n",
       "      <td>1.0</td>\n",
       "      <td>0.0</td>\n",
       "      <td>2.0</td>\n",
       "      <td>0.0</td>\n",
       "      <td>0.0</td>\n",
       "      <td>0.0</td>\n",
       "      <td>0.0</td>\n",
       "      <td>9.0</td>\n",
       "      <td>6.0</td>\n",
       "      <td>2.0</td>\n",
       "    </tr>\n",
       "  </tbody>\n",
       "</table>\n",
       "<p>5 rows × 22 columns</p>\n",
       "</div>"
      ],
      "text/plain": [
       "        Diabetes_binary  HighBP  HighChol  CholCheck   BMI  Smoker  Stroke  \\\n",
       "253675              0.0     1.0       1.0        1.0  45.0     0.0     0.0   \n",
       "253676              1.0     1.0       1.0        1.0  18.0     0.0     0.0   \n",
       "253677              0.0     0.0       0.0        1.0  28.0     0.0     0.0   \n",
       "253678              0.0     1.0       0.0        1.0  23.0     0.0     0.0   \n",
       "253679              1.0     1.0       1.0        1.0  25.0     0.0     0.0   \n",
       "\n",
       "        HeartDiseaseorAttack  PhysActivity  Fruits  ...  AnyHealthcare  \\\n",
       "253675                   0.0           0.0     1.0  ...            1.0   \n",
       "253676                   0.0           0.0     0.0  ...            1.0   \n",
       "253677                   0.0           1.0     1.0  ...            1.0   \n",
       "253678                   0.0           0.0     1.0  ...            1.0   \n",
       "253679                   1.0           1.0     1.0  ...            1.0   \n",
       "\n",
       "        NoDocbcCost  GenHlth  MentHlth  PhysHlth  DiffWalk  Sex   Age  \\\n",
       "253675          0.0      3.0       0.0       5.0       0.0  1.0   5.0   \n",
       "253676          0.0      4.0       0.0       0.0       1.0  0.0  11.0   \n",
       "253677          0.0      1.0       0.0       0.0       0.0  0.0   2.0   \n",
       "253678          0.0      3.0       0.0       0.0       0.0  1.0   7.0   \n",
       "253679          0.0      2.0       0.0       0.0       0.0  0.0   9.0   \n",
       "\n",
       "        Education  Income  \n",
       "253675        6.0     7.0  \n",
       "253676        2.0     4.0  \n",
       "253677        5.0     2.0  \n",
       "253678        5.0     1.0  \n",
       "253679        6.0     2.0  \n",
       "\n",
       "[5 rows x 22 columns]"
      ]
     },
     "execution_count": 5,
     "metadata": {},
     "output_type": "execute_result"
    }
   ],
   "source": [
    "df.tail()"
   ]
  },
  {
   "cell_type": "code",
   "execution_count": 6,
   "id": "80892c1b-6097-4234-9d6c-ebc84bce5b62",
   "metadata": {
    "tags": []
   },
   "outputs": [
    {
     "data": {
      "text/plain": [
       "Diabetes_binary         0\n",
       "HighBP                  0\n",
       "HighChol                0\n",
       "CholCheck               0\n",
       "BMI                     0\n",
       "Smoker                  0\n",
       "Stroke                  0\n",
       "HeartDiseaseorAttack    0\n",
       "PhysActivity            0\n",
       "Fruits                  0\n",
       "Veggies                 0\n",
       "HvyAlcoholConsump       0\n",
       "AnyHealthcare           0\n",
       "NoDocbcCost             0\n",
       "GenHlth                 0\n",
       "MentHlth                0\n",
       "PhysHlth                0\n",
       "DiffWalk                0\n",
       "Sex                     0\n",
       "Age                     0\n",
       "Education               0\n",
       "Income                  0\n",
       "dtype: int64"
      ]
     },
     "execution_count": 6,
     "metadata": {},
     "output_type": "execute_result"
    }
   ],
   "source": [
    "df.isna().sum()"
   ]
  },
  {
   "cell_type": "code",
   "execution_count": 7,
   "id": "cf8cce0d-ae2c-4c6d-a217-ea1d09e35b02",
   "metadata": {
    "tags": []
   },
   "outputs": [
    {
     "name": "stdout",
     "output_type": "stream",
     "text": [
      "<class 'pandas.core.frame.DataFrame'>\n",
      "RangeIndex: 253680 entries, 0 to 253679\n",
      "Data columns (total 22 columns):\n",
      " #   Column                Non-Null Count   Dtype  \n",
      "---  ------                --------------   -----  \n",
      " 0   Diabetes_binary       253680 non-null  float64\n",
      " 1   HighBP                253680 non-null  float64\n",
      " 2   HighChol              253680 non-null  float64\n",
      " 3   CholCheck             253680 non-null  float64\n",
      " 4   BMI                   253680 non-null  float64\n",
      " 5   Smoker                253680 non-null  float64\n",
      " 6   Stroke                253680 non-null  float64\n",
      " 7   HeartDiseaseorAttack  253680 non-null  float64\n",
      " 8   PhysActivity          253680 non-null  float64\n",
      " 9   Fruits                253680 non-null  float64\n",
      " 10  Veggies               253680 non-null  float64\n",
      " 11  HvyAlcoholConsump     253680 non-null  float64\n",
      " 12  AnyHealthcare         253680 non-null  float64\n",
      " 13  NoDocbcCost           253680 non-null  float64\n",
      " 14  GenHlth               253680 non-null  float64\n",
      " 15  MentHlth              253680 non-null  float64\n",
      " 16  PhysHlth              253680 non-null  float64\n",
      " 17  DiffWalk              253680 non-null  float64\n",
      " 18  Sex                   253680 non-null  float64\n",
      " 19  Age                   253680 non-null  float64\n",
      " 20  Education             253680 non-null  float64\n",
      " 21  Income                253680 non-null  float64\n",
      "dtypes: float64(22)\n",
      "memory usage: 42.6 MB\n"
     ]
    }
   ],
   "source": [
    "df.info()"
   ]
  },
  {
   "cell_type": "markdown",
   "id": "e7eb606c-c46a-482d-8903-a91b8a1d9f72",
   "metadata": {},
   "source": [
    "## Data Preprocessing"
   ]
  },
  {
   "cell_type": "code",
   "execution_count": 8,
   "id": "ee534789-aed0-43a1-a200-1111413b0fc5",
   "metadata": {
    "tags": []
   },
   "outputs": [],
   "source": [
    "df = df.astype(int)"
   ]
  },
  {
   "cell_type": "code",
   "execution_count": 9,
   "id": "664410c4-53d9-4405-9fa1-41923c3b37ba",
   "metadata": {
    "tags": []
   },
   "outputs": [
    {
     "name": "stdout",
     "output_type": "stream",
     "text": [
      "<class 'pandas.core.frame.DataFrame'>\n",
      "RangeIndex: 253680 entries, 0 to 253679\n",
      "Data columns (total 22 columns):\n",
      " #   Column                Non-Null Count   Dtype\n",
      "---  ------                --------------   -----\n",
      " 0   Diabetes_binary       253680 non-null  int64\n",
      " 1   HighBP                253680 non-null  int64\n",
      " 2   HighChol              253680 non-null  int64\n",
      " 3   CholCheck             253680 non-null  int64\n",
      " 4   BMI                   253680 non-null  int64\n",
      " 5   Smoker                253680 non-null  int64\n",
      " 6   Stroke                253680 non-null  int64\n",
      " 7   HeartDiseaseorAttack  253680 non-null  int64\n",
      " 8   PhysActivity          253680 non-null  int64\n",
      " 9   Fruits                253680 non-null  int64\n",
      " 10  Veggies               253680 non-null  int64\n",
      " 11  HvyAlcoholConsump     253680 non-null  int64\n",
      " 12  AnyHealthcare         253680 non-null  int64\n",
      " 13  NoDocbcCost           253680 non-null  int64\n",
      " 14  GenHlth               253680 non-null  int64\n",
      " 15  MentHlth              253680 non-null  int64\n",
      " 16  PhysHlth              253680 non-null  int64\n",
      " 17  DiffWalk              253680 non-null  int64\n",
      " 18  Sex                   253680 non-null  int64\n",
      " 19  Age                   253680 non-null  int64\n",
      " 20  Education             253680 non-null  int64\n",
      " 21  Income                253680 non-null  int64\n",
      "dtypes: int64(22)\n",
      "memory usage: 42.6 MB\n"
     ]
    }
   ],
   "source": [
    "df.info()"
   ]
  },
  {
   "cell_type": "code",
   "execution_count": 10,
   "id": "a2a8fcb4-a494-4cbf-9736-4245d408c24c",
   "metadata": {
    "tags": []
   },
   "outputs": [
    {
     "data": {
      "text/plain": [
       "24206"
      ]
     },
     "execution_count": 10,
     "metadata": {},
     "output_type": "execute_result"
    }
   ],
   "source": [
    "df.duplicated().sum()"
   ]
  },
  {
   "cell_type": "code",
   "execution_count": 11,
   "id": "a05c105a-51d1-4e72-842c-d7aa7905e7ed",
   "metadata": {
    "tags": []
   },
   "outputs": [],
   "source": [
    "df.drop_duplicates(inplace=True)"
   ]
  },
  {
   "cell_type": "code",
   "execution_count": 12,
   "id": "bd433aa1-3b37-43a8-a5a3-be16e6cc882b",
   "metadata": {
    "tags": []
   },
   "outputs": [
    {
     "data": {
      "text/plain": [
       "0"
      ]
     },
     "execution_count": 12,
     "metadata": {},
     "output_type": "execute_result"
    }
   ],
   "source": [
    "df.duplicated().sum()"
   ]
  },
  {
   "cell_type": "code",
   "execution_count": 13,
   "id": "e90bd499-bca1-45a4-ae62-fe72a70e9021",
   "metadata": {
    "tags": []
   },
   "outputs": [
    {
     "data": {
      "text/plain": [
       "(229474, 22)"
      ]
     },
     "execution_count": 13,
     "metadata": {},
     "output_type": "execute_result"
    }
   ],
   "source": [
    "df.shape"
   ]
  },
  {
   "cell_type": "markdown",
   "id": "a4f56dfe-cd62-45ff-8745-5c7c0b08d77b",
   "metadata": {},
   "source": [
    "## Changing the Bin Size"
   ]
  },
  {
   "cell_type": "code",
   "execution_count": 14,
   "id": "1e2d8eae-0aab-4e90-afac-9289b1848100",
   "metadata": {
    "tags": []
   },
   "outputs": [],
   "source": [
    "fulldf = df"
   ]
  },
  {
   "cell_type": "code",
   "execution_count": 15,
   "id": "21a0c098-3b38-4afd-965b-8f788327f748",
   "metadata": {
    "tags": []
   },
   "outputs": [
    {
     "name": "stdout",
     "output_type": "stream",
     "text": [
      "<class 'pandas.core.frame.DataFrame'>\n",
      "Index: 229474 entries, 0 to 253679\n",
      "Data columns (total 22 columns):\n",
      " #   Column                Non-Null Count   Dtype\n",
      "---  ------                --------------   -----\n",
      " 0   Diabetes_binary       229474 non-null  int64\n",
      " 1   HighBP                229474 non-null  int64\n",
      " 2   HighChol              229474 non-null  int64\n",
      " 3   CholCheck             229474 non-null  int64\n",
      " 4   BMI                   229474 non-null  int64\n",
      " 5   Smoker                229474 non-null  int64\n",
      " 6   Stroke                229474 non-null  int64\n",
      " 7   HeartDiseaseorAttack  229474 non-null  int64\n",
      " 8   PhysActivity          229474 non-null  int64\n",
      " 9   Fruits                229474 non-null  int64\n",
      " 10  Veggies               229474 non-null  int64\n",
      " 11  HvyAlcoholConsump     229474 non-null  int64\n",
      " 12  AnyHealthcare         229474 non-null  int64\n",
      " 13  NoDocbcCost           229474 non-null  int64\n",
      " 14  GenHlth               229474 non-null  int64\n",
      " 15  MentHlth              229474 non-null  int64\n",
      " 16  PhysHlth              229474 non-null  int64\n",
      " 17  DiffWalk              229474 non-null  int64\n",
      " 18  Sex                   229474 non-null  int64\n",
      " 19  Age                   229474 non-null  int64\n",
      " 20  Education             229474 non-null  int64\n",
      " 21  Income                229474 non-null  int64\n",
      "dtypes: int64(22)\n",
      "memory usage: 40.3 MB\n"
     ]
    }
   ],
   "source": [
    "fulldf.info()"
   ]
  },
  {
   "cell_type": "code",
   "execution_count": 16,
   "id": "3289cbf1-40d2-422a-a0e6-e5441df738c6",
   "metadata": {
    "tags": []
   },
   "outputs": [
    {
     "name": "stdout",
     "output_type": "stream",
     "text": [
      "Age_Categorized\n",
      "2    111391\n",
      "3     83256\n",
      "1     34827\n",
      "Name: count, dtype: int64\n"
     ]
    }
   ],
   "source": [
    "# AGE \n",
    "# Define the mapping from 13 categories to 3 integer groups\n",
    "age_mapping = {\n",
    "    1: 1, 2: 1, 3: 1, 4: 1,  # Categories 1-4 → 1 (18-39)\n",
    "    5: 2, 6: 2, 7: 2, 8: 2, 9: 2,  # Categories 5-9 → 2 (40-64)\n",
    "    10: 3, 11: 3, 12: 3, 13: 3  # Categories 10-13 → 3 (65-99)\n",
    "}\n",
    "\n",
    "# Apply the mapping to create a new column\n",
    "fulldf[\"Age_Categorized\"] = fulldf[\"Age\"].map(age_mapping)\n",
    "\n",
    "# Display the counts of new categories\n",
    "print(fulldf[\"Age_Categorized\"].value_counts())"
   ]
  },
  {
   "cell_type": "code",
   "execution_count": 17,
   "id": "b9981ce5-5ea8-4b42-967d-70ccf5c3cef6",
   "metadata": {
    "tags": []
   },
   "outputs": [
    {
     "name": "stdout",
     "output_type": "stream",
     "text": [
      "Education_Categorized\n",
      "3    88225\n",
      "1    74805\n",
      "2    66444\n",
      "Name: count, dtype: int64\n"
     ]
    }
   ],
   "source": [
    "# EDUCATION\n",
    "# Define the mapping for Education categories\n",
    "education_mapping = {\n",
    "    1: 1, 2: 1, 3: 1, 4: 1,  # Combine categories 1-4 → 1 (Up to High School)\n",
    "    5: 2,  # Keep category 5 → 2 (Some College)\n",
    "    6: 3   # Keep category 6 → 3 (College Graduate)\n",
    "}\n",
    "\n",
    "# Apply the mapping to create a new column\n",
    "fulldf[\"Education_Categorized\"] = fulldf[\"Education\"].map(education_mapping)\n",
    "\n",
    "# Display the counts of new categories\n",
    "print(fulldf[\"Education_Categorized\"].value_counts())"
   ]
  },
  {
   "cell_type": "code",
   "execution_count": 18,
   "id": "a493fcbf-1382-469f-a68d-a64df33add1a",
   "metadata": {
    "tags": []
   },
   "outputs": [
    {
     "name": "stdout",
     "output_type": "stream",
     "text": [
      "Income_Categorized\n",
      "1    82746\n",
      "2    75088\n",
      "3    71640\n",
      "Name: count, dtype: int64\n"
     ]
    }
   ],
   "source": [
    "# INCOME\n",
    "# Define the mapping for Education categories\n",
    "income_mapping = {\n",
    "    1: 1, 2: 1, 3: 1, 4: 1, 5: 1,  # Combine categories 1-5 → 1 ($0 - $35,000)\n",
    "    6: 2, 7: 2,  # Keep category 6-7 → 2 ($35,000 - $75,000)\n",
    "    8: 3   # Keep category 8 → 3 (more than $75,000)\n",
    "}\n",
    "\n",
    "# Apply the mapping to create a new column\n",
    "fulldf[\"Income_Categorized\"] = fulldf[\"Income\"].map(income_mapping)\n",
    "\n",
    "# Display the counts of new categories\n",
    "print(fulldf[\"Income_Categorized\"].value_counts())"
   ]
  },
  {
   "cell_type": "code",
   "execution_count": 19,
   "id": "4ef2ee6b-6c1a-478d-954d-542d4963d5f0",
   "metadata": {
    "tags": []
   },
   "outputs": [
    {
     "name": "stdout",
     "output_type": "stream",
     "text": [
      "<class 'pandas.core.frame.DataFrame'>\n",
      "Index: 229474 entries, 0 to 253679\n",
      "Data columns (total 25 columns):\n",
      " #   Column                 Non-Null Count   Dtype\n",
      "---  ------                 --------------   -----\n",
      " 0   Diabetes_binary        229474 non-null  int64\n",
      " 1   HighBP                 229474 non-null  int64\n",
      " 2   HighChol               229474 non-null  int64\n",
      " 3   CholCheck              229474 non-null  int64\n",
      " 4   BMI                    229474 non-null  int64\n",
      " 5   Smoker                 229474 non-null  int64\n",
      " 6   Stroke                 229474 non-null  int64\n",
      " 7   HeartDiseaseorAttack   229474 non-null  int64\n",
      " 8   PhysActivity           229474 non-null  int64\n",
      " 9   Fruits                 229474 non-null  int64\n",
      " 10  Veggies                229474 non-null  int64\n",
      " 11  HvyAlcoholConsump      229474 non-null  int64\n",
      " 12  AnyHealthcare          229474 non-null  int64\n",
      " 13  NoDocbcCost            229474 non-null  int64\n",
      " 14  GenHlth                229474 non-null  int64\n",
      " 15  MentHlth               229474 non-null  int64\n",
      " 16  PhysHlth               229474 non-null  int64\n",
      " 17  DiffWalk               229474 non-null  int64\n",
      " 18  Sex                    229474 non-null  int64\n",
      " 19  Age                    229474 non-null  int64\n",
      " 20  Education              229474 non-null  int64\n",
      " 21  Income                 229474 non-null  int64\n",
      " 22  Age_Categorized        229474 non-null  int64\n",
      " 23  Education_Categorized  229474 non-null  int64\n",
      " 24  Income_Categorized     229474 non-null  int64\n",
      "dtypes: int64(25)\n",
      "memory usage: 45.5 MB\n"
     ]
    }
   ],
   "source": [
    "fulldf.info()"
   ]
  },
  {
   "cell_type": "code",
   "execution_count": 20,
   "id": "ba08d757-ecaf-4abf-a16d-4a6ad70d2c2a",
   "metadata": {
    "tags": []
   },
   "outputs": [],
   "source": [
    "fulldf = fulldf.drop(columns=['Age','Education','Income'])"
   ]
  },
  {
   "cell_type": "code",
   "execution_count": 21,
   "id": "fd104640-4056-4a6a-bb67-a4f64369a4fe",
   "metadata": {
    "tags": []
   },
   "outputs": [
    {
     "name": "stdout",
     "output_type": "stream",
     "text": [
      "<class 'pandas.core.frame.DataFrame'>\n",
      "Index: 229474 entries, 0 to 253679\n",
      "Data columns (total 22 columns):\n",
      " #   Column                 Non-Null Count   Dtype\n",
      "---  ------                 --------------   -----\n",
      " 0   Diabetes_binary        229474 non-null  int64\n",
      " 1   HighBP                 229474 non-null  int64\n",
      " 2   HighChol               229474 non-null  int64\n",
      " 3   CholCheck              229474 non-null  int64\n",
      " 4   BMI                    229474 non-null  int64\n",
      " 5   Smoker                 229474 non-null  int64\n",
      " 6   Stroke                 229474 non-null  int64\n",
      " 7   HeartDiseaseorAttack   229474 non-null  int64\n",
      " 8   PhysActivity           229474 non-null  int64\n",
      " 9   Fruits                 229474 non-null  int64\n",
      " 10  Veggies                229474 non-null  int64\n",
      " 11  HvyAlcoholConsump      229474 non-null  int64\n",
      " 12  AnyHealthcare          229474 non-null  int64\n",
      " 13  NoDocbcCost            229474 non-null  int64\n",
      " 14  GenHlth                229474 non-null  int64\n",
      " 15  MentHlth               229474 non-null  int64\n",
      " 16  PhysHlth               229474 non-null  int64\n",
      " 17  DiffWalk               229474 non-null  int64\n",
      " 18  Sex                    229474 non-null  int64\n",
      " 19  Age_Categorized        229474 non-null  int64\n",
      " 20  Education_Categorized  229474 non-null  int64\n",
      " 21  Income_Categorized     229474 non-null  int64\n",
      "dtypes: int64(22)\n",
      "memory usage: 40.3 MB\n"
     ]
    }
   ],
   "source": [
    "fulldf.info()"
   ]
  },
  {
   "cell_type": "code",
   "execution_count": 22,
   "id": "5e76d2c9-11ac-495e-942c-07f7c1f79d06",
   "metadata": {
    "tags": []
   },
   "outputs": [],
   "source": [
    "X = fulldf.drop(columns=['Diabetes_binary']) \n",
    "y = fulldf['Diabetes_binary'] "
   ]
  },
  {
   "cell_type": "code",
   "execution_count": 23,
   "id": "90097e14-0cb4-40db-b66a-69ac3834a748",
   "metadata": {
    "tags": []
   },
   "outputs": [
    {
     "data": {
      "text/plain": [
       "(229474, 21)"
      ]
     },
     "execution_count": 23,
     "metadata": {},
     "output_type": "execute_result"
    }
   ],
   "source": [
    "X.shape"
   ]
  },
  {
   "cell_type": "code",
   "execution_count": 24,
   "id": "7e50b0bb-0a3b-4dc0-80a9-135da07e97d3",
   "metadata": {
    "tags": []
   },
   "outputs": [
    {
     "data": {
      "text/plain": [
       "(229474,)"
      ]
     },
     "execution_count": 24,
     "metadata": {},
     "output_type": "execute_result"
    }
   ],
   "source": [
    "y.shape"
   ]
  },
  {
   "cell_type": "markdown",
   "id": "b503eba9-b820-4375-9857-064b87e8ad18",
   "metadata": {},
   "source": [
    "## Resampling - SMOTE_ENN/ SMOTE-TOMEK"
   ]
  },
  {
   "cell_type": "code",
   "execution_count": 25,
   "id": "547a6583-aa2a-43fe-b576-0a457c1b12dd",
   "metadata": {
    "tags": []
   },
   "outputs": [],
   "source": [
    "from sklearn.model_selection import train_test_split\n",
    "from imblearn.combine import SMOTETomek\n",
    "from imblearn.under_sampling import TomekLinks\n",
    "\n",
    "# Split first\n",
    "X_train, X_test, y_train, y_test = train_test_split(X, y, test_size=0.2, random_state=42)\n",
    "\n",
    "# Apply resampling only on training set\n",
    "# resampler = SMOTEENN(random_state=42)\n",
    "# resampler = SMOTE(random_state=42)\n",
    "resampler=SMOTETomek(tomek=TomekLinks(sampling_strategy='majority')) \n",
    "X_train_resampled, y_train_resampled = resampler.fit_resample(X_train, y_train)\n",
    "\n",
    "# Scaling\n",
    "scaler = StandardScaler()\n",
    "X_train_resampled = scaler.fit_transform(X_train_resampled)\n",
    "X_test = scaler.transform(X_test)  # Only transform, don't fit again!"
   ]
  },
  {
   "cell_type": "code",
   "execution_count": 26,
   "id": "a8a0af63-3d24-4976-9c84-27e5ce3d5191",
   "metadata": {
    "tags": []
   },
   "outputs": [
    {
     "data": {
      "image/png": "[encoded data removed]",
      "text/plain": [
       "<Figure size 1200x500 with 2 Axes>"
      ]
     },
     "metadata": {},
     "output_type": "display_data"
    }
   ],
   "source": [
    "from collections import Counter\n",
    "import matplotlib.pyplot as plt\n",
    "import seaborn as sns\n",
    "\n",
    "# Count the number of instances per class before and after resampling\n",
    "before_counts = Counter(y_train)  # Only using training set before resampling\n",
    "after_counts = Counter(y_train_resampled)  # After resampling\n",
    "\n",
    "# Convert to lists for plotting\n",
    "classes = list(before_counts.keys())\n",
    "before_values = [before_counts[c] for c in classes]\n",
    "after_values = [after_counts[c] for c in classes]\n",
    "\n",
    "# Plot the class distributions\n",
    "fig, axes = plt.subplots(1, 2, figsize=(12, 5))\n",
    "\n",
    "# Before Resampling\n",
    "sns.barplot(x=classes, y=before_values, ax=axes[0], palette=\"Blues\", hue=classes, legend=True)\n",
    "axes[0].set_title(\"Class Distribution Before Resampling\")\n",
    "axes[0].set_xlabel(\"Class\")\n",
    "axes[0].set_ylabel(\"Count\")\n",
    "\n",
    "# After Resampling\n",
    "sns.barplot(x=classes, y=after_values, ax=axes[1], palette=\"Greens\", hue=classes, legend=True)\n",
    "axes[1].set_title(\"Class Distribution After Resampling (SMOTE-TOMEK)\")\n",
    "axes[1].set_xlabel(\"Class\")\n",
    "axes[1].set_ylabel(\"Count\")\n",
    "\n",
    "plt.tight_layout()\n",
    "plt.show()\n"
   ]
  },
  {
   "cell_type": "code",
   "execution_count": 27,
   "id": "e82cbb14-4806-4e79-8f54-9116a75875d6",
   "metadata": {
    "tags": []
   },
   "outputs": [
    {
     "name": "stdout",
     "output_type": "stream",
     "text": [
      "Before Resampling: Counter({0: 155564, 1: 28015})\n",
      "After Resampling : Counter({1: 155564, 0: 153341})\n"
     ]
    }
   ],
   "source": [
    "from collections import Counter\n",
    "print(\"Before Resampling:\", Counter(y_train))\n",
    "print(\"After Resampling :\", Counter(y_train_resampled))"
   ]
  },
  {
   "cell_type": "markdown",
   "id": "3e75d207-cf57-46dd-b751-41c0b2fa88d4",
   "metadata": {},
   "source": [
    "## KNN"
   ]
  },
  {
   "cell_type": "code",
   "execution_count": 28,
   "id": "3eeb2e23-f2c0-4561-92ce-960d0479649f",
   "metadata": {
    "tags": []
   },
   "outputs": [
    {
     "name": "stdout",
     "output_type": "stream",
     "text": [
      "KNN Classifier Results:\n",
      "\n",
      "Training Performance:\n",
      "Accuracy : 0.8460\n",
      "Precision: 0.8185\n",
      "Recall   : 0.8920\n",
      "F1 Score : 0.8536\n",
      "\n",
      "---------------------------------------\n",
      "\n",
      "Test Performance:\n",
      "Accuracy : 0.6947\n",
      "Precision: 0.2682\n",
      "Recall   : 0.5661\n",
      "F1 Score : 0.3639\n",
      "\n",
      "\n",
      "Classification Report:\n",
      "              precision    recall  f1-score   support\n",
      "\n",
      "           0       0.90      0.72      0.80     38813\n",
      "           1       0.27      0.57      0.36      7082\n",
      "\n",
      "    accuracy                           0.69     45895\n",
      "   macro avg       0.58      0.64      0.58     45895\n",
      "weighted avg       0.80      0.69      0.73     45895\n",
      "\n"
     ]
    }
   ],
   "source": [
    "from sklearn.neighbors import KNeighborsClassifier\n",
    "from sklearn.metrics import accuracy_score, precision_score, recall_score, f1_score, classification_report\n",
    "import pandas as pd\n",
    "\n",
    "# Instantiate the KNN model\n",
    "knn = KNeighborsClassifier(n_neighbors=5, metric='manhattan')  \n",
    "\n",
    "# Train the model on resampled training data\n",
    "knn.fit(X_train_resampled, y_train_resampled)\n",
    "\n",
    "# Predictions on Training Data\n",
    "y_train_pred = knn.predict(X_train_resampled)\n",
    "\n",
    "# Predictions on Test Data\n",
    "y_test_pred = knn.predict(X_test)\n",
    "\n",
    "# Evaluation on Training Data\n",
    "train_accuracy_knn = accuracy_score(y_train_resampled, y_train_pred)\n",
    "train_precision_knn = precision_score(y_train_resampled, y_train_pred, average='binary')\n",
    "train_recall_knn = recall_score(y_train_resampled, y_train_pred, average='binary')  \n",
    "train_f1_knn = f1_score(y_train_resampled, y_train_pred, average='binary')\n",
    "\n",
    "# Evaluation on Test Data\n",
    "test_accuracy_knn = accuracy_score(y_test, y_test_pred)\n",
    "test_precision_knn = precision_score(y_test, y_test_pred, average='binary')\n",
    "test_recall_knn = recall_score(y_test, y_test_pred, average='binary')  \n",
    "test_f1_knn = f1_score(y_test, y_test_pred, average='binary')\n",
    "\n",
    "# Display Results\n",
    "print(\"KNN Classifier Results:\\n\")\n",
    "print(\"Training Performance:\")\n",
    "print(f\"Accuracy : {train_accuracy_knn:.4f}\")\n",
    "print(f\"Precision: {train_precision_knn:.4f}\")\n",
    "print(f\"Recall   : {train_recall_knn:.4f}\")\n",
    "print(f\"F1 Score : {train_f1_knn:.4f}\\n\")\n",
    "\n",
    "print(\"---------------------------------------\\n\")\n",
    "\n",
    "print(\"Test Performance:\")\n",
    "print(f\"Accuracy : {test_accuracy_knn:.4f}\")\n",
    "print(f\"Precision: {test_precision_knn:.4f}\")\n",
    "print(f\"Recall   : {test_recall_knn:.4f}\")\n",
    "print(f\"F1 Score : {test_f1_knn:.4f}\\n\")\n",
    "\n",
    "print(\"\\nClassification Report:\")\n",
    "print(classification_report(y_test, y_test_pred))\n"
   ]
  },
  {
   "cell_type": "markdown",
   "id": "43d89cf6-7bbd-4957-b690-7ff0147041bf",
   "metadata": {},
   "source": [
    "## Decision Tree"
   ]
  },
  {
   "cell_type": "code",
   "execution_count": 29,
   "id": "2e17c55f-45e0-402f-b863-f17782106d07",
   "metadata": {
    "tags": []
   },
   "outputs": [
    {
     "name": "stdout",
     "output_type": "stream",
     "text": [
      "Decision Tree Results:\n",
      "\n",
      "Training Performance:\n",
      "Accuracy : 0.9523\n",
      "Precision: 0.9352\n",
      "Recall   : 0.9726\n",
      "F1 Score : 0.9535\n",
      "\n",
      "---------------------------------------\n",
      "\n",
      "Test Performance:\n",
      "Accuracy : 0.7107\n",
      "Precision: 0.2558\n",
      "Recall_0 : 0.7568\n",
      "Recall_1 : 0.4581\n",
      "F1 Score : 0.3282\n",
      "\n",
      "Classification Report:\n",
      "              precision    recall  f1-score   support\n",
      "\n",
      "           0       0.88      0.76      0.82     38813\n",
      "           1       0.26      0.46      0.33      7082\n",
      "\n",
      "    accuracy                           0.71     45895\n",
      "   macro avg       0.57      0.61      0.57     45895\n",
      "weighted avg       0.79      0.71      0.74     45895\n",
      "\n"
     ]
    }
   ],
   "source": [
    "from sklearn.tree import DecisionTreeClassifier\n",
    "from sklearn.metrics import accuracy_score, precision_score, recall_score, f1_score, classification_report\n",
    "\n",
    "# Instantiate the Decision Tree model\n",
    "dt = DecisionTreeClassifier(max_depth=25, random_state=508312)\n",
    "\n",
    "# Train the model\n",
    "dt.fit(X_train_resampled, y_train_resampled)\n",
    "\n",
    "# Predictions on Training Data\n",
    "y_train_pred = dt.predict(X_train_resampled)\n",
    "\n",
    "# Predictions on Test Data\n",
    "y_test_pred = dt.predict(X_test)\n",
    "\n",
    "# Evaluation on Training Data\n",
    "train_accuracy_dt = accuracy_score(y_train_resampled, y_train_pred)\n",
    "train_precision_dt = precision_score(y_train_resampled, y_train_pred, average='binary')\n",
    "train_recall_dt = recall_score(y_train_resampled, y_train_pred, average='binary')  \n",
    "train_f1_dt = f1_score(y_train_resampled, y_train_pred, average='binary')\n",
    "\n",
    "# Evaluation on Test Data\n",
    "test_accuracy_dt = accuracy_score(y_test, y_test_pred)\n",
    "test_precision_dt = precision_score(y_test, y_test_pred, average='binary')\n",
    "test_recall_0_dt = recall_score(y_test, y_test_pred, average='binary', pos_label=0)\n",
    "test_recall_1_dt = recall_score(y_test, y_test_pred, average='binary', pos_label=1)\n",
    "test_f1_dt = f1_score(y_test, y_test_pred, average='binary')\n",
    "\n",
    "# Display Results\n",
    "print(\"Decision Tree Results:\")\n",
    "print()\n",
    "print(\"Training Performance:\")\n",
    "print(f\"Accuracy : {train_accuracy_dt:.4f}\")\n",
    "print(f\"Precision: {train_precision_dt:.4f}\")\n",
    "print(f\"Recall   : {train_recall_dt:.4f}\")\n",
    "print(f\"F1 Score : {train_f1_dt:.4f}\")\n",
    "print()\n",
    "print(\"---------------------------------------\")\n",
    "print()\n",
    "print(\"Test Performance:\")\n",
    "print(f\"Accuracy : {test_accuracy_dt:.4f}\")\n",
    "print(f\"Precision: {test_precision_dt:.4f}\")\n",
    "print(f\"Recall_0 : {test_recall_0_dt:.4f}\")\n",
    "print(f\"Recall_1 : {test_recall_1_dt:.4f}\")\n",
    "print(f\"F1 Score : {test_f1_dt:.4f}\")\n",
    "print(\"\\nClassification Report:\")\n",
    "print(classification_report(y_test, y_test_pred))"
   ]
  },
  {
   "cell_type": "markdown",
   "id": "a393ac75-dc2d-4c14-8c8b-eeddfa085343",
   "metadata": {},
   "source": [
    "## Random Forest"
   ]
  },
  {
   "cell_type": "code",
   "execution_count": 30,
   "id": "d14275a8-5006-46aa-9c94-84823917d970",
   "metadata": {
    "tags": []
   },
   "outputs": [
    {
     "name": "stdout",
     "output_type": "stream",
     "text": [
      "Random Forest Results:\n",
      "\n",
      "Training Performance:\n",
      "Accuracy : 0.9649\n",
      "Precision: 0.9488\n",
      "Recall   : 0.9833\n",
      "F1 Score : 0.9657\n",
      "\n",
      "---------------------------------------\n",
      "\n",
      "Test Performance:\n",
      "Accuracy : 0.7555\n",
      "Precision: 0.3157\n",
      "Recall_0 : 0.8019\n",
      "Recall_1 : 0.5010\n",
      "F1 Score : 0.3874\n",
      "\n",
      "Classification Report:\n",
      "              precision    recall  f1-score   support\n",
      "\n",
      "           0       0.90      0.80      0.85     38813\n",
      "           1       0.32      0.50      0.39      7082\n",
      "\n",
      "    accuracy                           0.76     45895\n",
      "   macro avg       0.61      0.65      0.62     45895\n",
      "weighted avg       0.81      0.76      0.78     45895\n",
      "\n"
     ]
    }
   ],
   "source": [
    "from sklearn.ensemble import RandomForestClassifier\n",
    "from sklearn.metrics import accuracy_score, precision_score, recall_score, f1_score, classification_report\n",
    "\n",
    "# Instantiate the Random Forest model\n",
    "rf = RandomForestClassifier(n_estimators=50, max_depth=25, random_state=508312)\n",
    "\n",
    "# Train the model\n",
    "rf.fit(X_train_resampled, y_train_resampled)\n",
    "\n",
    "# Predictions on Training Data\n",
    "y_train_pred = rf.predict(X_train_resampled)\n",
    "\n",
    "# Predictions on Test Data\n",
    "y_test_pred = rf.predict(X_test)\n",
    "\n",
    "# Evaluation on Training Data\n",
    "train_accuracy_rf = accuracy_score(y_train_resampled, y_train_pred)\n",
    "train_precision_rf = precision_score(y_train_resampled, y_train_pred, average='binary')\n",
    "train_recall_rf = recall_score(y_train_resampled, y_train_pred, average='binary')  \n",
    "train_f1_rf = f1_score(y_train_resampled, y_train_pred, average='binary')\n",
    "\n",
    "# Evaluation on Test Data\n",
    "test_accuracy_rf = accuracy_score(y_test, y_test_pred)\n",
    "test_precision_rf = precision_score(y_test, y_test_pred, average='binary')\n",
    "test_recall_0_rf = recall_score(y_test, y_test_pred, average='binary', pos_label=0)\n",
    "test_recall_1_rf = recall_score(y_test, y_test_pred, average='binary', pos_label=1)\n",
    "test_f1_rf = f1_score(y_test, y_test_pred, average='binary')\n",
    "\n",
    "# Display Results\n",
    "print(\"Random Forest Results:\")\n",
    "print()\n",
    "print(\"Training Performance:\")\n",
    "print(f\"Accuracy : {train_accuracy_rf:.4f}\")\n",
    "print(f\"Precision: {train_precision_rf:.4f}\")\n",
    "print(f\"Recall   : {train_recall_rf:.4f}\")\n",
    "print(f\"F1 Score : {train_f1_rf:.4f}\")\n",
    "print()\n",
    "print(\"---------------------------------------\")\n",
    "print()\n",
    "print(\"Test Performance:\")\n",
    "print(f\"Accuracy : {test_accuracy_rf:.4f}\")\n",
    "print(f\"Precision: {test_precision_rf:.4f}\")\n",
    "print(f\"Recall_0 : {test_recall_0_rf:.4f}\")\n",
    "print(f\"Recall_1 : {test_recall_1_rf:.4f}\")\n",
    "print(f\"F1 Score : {test_f1_rf:.4f}\")\n",
    "print(\"\\nClassification Report:\")\n",
    "print(classification_report(y_test, y_test_pred))"
   ]
  },
  {
   "cell_type": "markdown",
   "id": "d7985174-3554-4618-88f6-c1b520d18493",
   "metadata": {},
   "source": [
    "## AdaBoost"
   ]
  },
  {
   "cell_type": "code",
   "execution_count": 31,
   "id": "091f259b-a087-47c5-9440-5f83486f1b2f",
   "metadata": {
    "tags": []
   },
   "outputs": [
    {
     "name": "stdout",
     "output_type": "stream",
     "text": [
      "AdaBoost Results:\n",
      "\n",
      "Training Performance:\n",
      "Accuracy : 0.7310\n",
      "Precision: 0.7212\n",
      "Recall   : 0.7594\n",
      "F1 Score : 0.7398\n",
      "\n",
      "---------------------------------------\n",
      "\n",
      "Test Performance:\n",
      "Accuracy : 0.7055\n",
      "Precision: 0.3071\n",
      "Recall_0 : 0.7022\n",
      "Recall_1 : 0.7235\n",
      "F1 Score : 0.4312\n",
      "\n",
      "Classification Report:\n",
      "              precision    recall  f1-score   support\n",
      "\n",
      "           0       0.93      0.70      0.80     38813\n",
      "           1       0.31      0.72      0.43      7082\n",
      "\n",
      "    accuracy                           0.71     45895\n",
      "   macro avg       0.62      0.71      0.62     45895\n",
      "weighted avg       0.84      0.71      0.74     45895\n",
      "\n"
     ]
    }
   ],
   "source": [
    "from sklearn.metrics import accuracy_score, precision_score, recall_score, f1_score, classification_report\n",
    "\n",
    "# Instantiate the AdaBoost model\n",
    "adaboost = AdaBoostClassifier(n_estimators=200, learning_rate=0.9, random_state=508312)\n",
    "\n",
    "# Train the model\n",
    "adaboost.fit(X_train_resampled, y_train_resampled)\n",
    "\n",
    "# Predictions on Training Data\n",
    "y_train_pred = adaboost.predict(X_train_resampled)\n",
    "\n",
    "# Predictions on Test Data\n",
    "y_test_pred = adaboost.predict(X_test)\n",
    "\n",
    "# Evaluation on Training Data\n",
    "train_accuracy_ada = accuracy_score(y_train_resampled, y_train_pred)\n",
    "train_precision_ada = precision_score(y_train_resampled, y_train_pred, average='binary')\n",
    "train_recall_ada = recall_score(y_train_resampled, y_train_pred, average='binary')  \n",
    "train_f1_ada = f1_score(y_train_resampled, y_train_pred, average='binary')\n",
    "\n",
    "# Evaluation on Test Data\n",
    "test_accuracy_ada = accuracy_score(y_test, y_test_pred)\n",
    "test_precision_ada = precision_score(y_test, y_test_pred, average='binary')\n",
    "test_recall_0_ada = recall_score(y_test, y_test_pred, average='binary', pos_label=0)\n",
    "test_recall_1_ada = recall_score(y_test, y_test_pred, average='binary', pos_label=1)\n",
    "test_f1_ada = f1_score(y_test, y_test_pred, average='binary')\n",
    "\n",
    "# Display Results\n",
    "print(\"AdaBoost Results:\")\n",
    "print()\n",
    "print(\"Training Performance:\")\n",
    "print(f\"Accuracy : {train_accuracy_ada:.4f}\")\n",
    "print(f\"Precision: {train_precision_ada:.4f}\")\n",
    "print(f\"Recall   : {train_recall_ada:.4f}\")\n",
    "print(f\"F1 Score : {train_f1_ada:.4f}\")\n",
    "print()\n",
    "print(\"---------------------------------------\")\n",
    "print()\n",
    "print(\"Test Performance:\")\n",
    "print(f\"Accuracy : {test_accuracy_ada:.4f}\")\n",
    "print(f\"Precision: {test_precision_ada:.4f}\")\n",
    "print(f\"Recall_0 : {test_recall_0_ada:.4f}\")\n",
    "print(f\"Recall_1 : {test_recall_1_ada:.4f}\")\n",
    "print(f\"F1 Score : {test_f1_ada:.4f}\")\n",
    "print(\"\\nClassification Report:\")\n",
    "print(classification_report(y_test, y_test_pred))"
   ]
  },
  {
   "cell_type": "markdown",
   "id": "ac67fa57-aaef-4126-a72f-725bc2e7b4bb",
   "metadata": {},
   "source": [
    "## CatBoost"
   ]
  },
  {
   "cell_type": "code",
   "execution_count": 32,
   "id": "549be108-788a-4ab7-b9a7-0470e5240b99",
   "metadata": {
    "tags": []
   },
   "outputs": [
    {
     "name": "stdout",
     "output_type": "stream",
     "text": [
      "CatBoost Results:\n",
      "\n",
      "Training Performance:\n",
      "Accuracy : 0.8370\n",
      "Precision: 0.8128\n",
      "Recall   : 0.8787\n",
      "F1 Score : 0.8444\n",
      "\n",
      "---------------------------------------\n",
      "\n",
      "Test Performance:\n",
      "Accuracy : 0.7219\n",
      "Precision: 0.2999\n",
      "Recall_0 : 0.7440\n",
      "Recall_1 : 0.6011\n",
      "F1 Score : 0.4002\n",
      "\n",
      "Classification Report:\n",
      "              precision    recall  f1-score   support\n",
      "\n",
      "           0       0.91      0.74      0.82     38813\n",
      "           1       0.30      0.60      0.40      7082\n",
      "\n",
      "    accuracy                           0.72     45895\n",
      "   macro avg       0.61      0.67      0.61     45895\n",
      "weighted avg       0.82      0.72      0.75     45895\n",
      "\n"
     ]
    }
   ],
   "source": [
    "from sklearn.metrics import accuracy_score, precision_score, recall_score, f1_score, classification_report\n",
    "\n",
    "# Instantiate the CatBoost model\n",
    "catboost = CatBoostClassifier(iterations=150, learning_rate=0.5, depth=10, random_seed=508312, verbose=0)\n",
    "\n",
    "# Train the model\n",
    "catboost.fit(X_train_resampled, y_train_resampled)\n",
    "\n",
    "# Predictions on Training Data\n",
    "y_train_pred = catboost.predict(X_train_resampled)\n",
    "\n",
    "# Predictions on Test Data\n",
    "y_test_pred = catboost.predict(X_test)\n",
    "\n",
    "# Evaluation on Training Data\n",
    "train_accuracy_cat = accuracy_score(y_train_resampled, y_train_pred)\n",
    "train_precision_cat = precision_score(y_train_resampled, y_train_pred, average='binary')\n",
    "train_recall_cat = recall_score(y_train_resampled, y_train_pred, average='binary')  \n",
    "train_f1_cat = f1_score(y_train_resampled, y_train_pred, average='binary')\n",
    "\n",
    "# Evaluation on Test Data\n",
    "test_accuracy_cat = accuracy_score(y_test, y_test_pred)\n",
    "test_precision_cat = precision_score(y_test, y_test_pred, average='binary')\n",
    "test_recall_0_cat = recall_score(y_test, y_test_pred, average='binary', pos_label=0)\n",
    "test_recall_1_cat = recall_score(y_test, y_test_pred, average='binary', pos_label=1)\n",
    "test_f1_cat = f1_score(y_test, y_test_pred, average='binary')\n",
    "\n",
    "# Display Results\n",
    "print(\"CatBoost Results:\")\n",
    "print()\n",
    "print(\"Training Performance:\")\n",
    "print(f\"Accuracy : {train_accuracy_cat:.4f}\")\n",
    "print(f\"Precision: {train_precision_cat:.4f}\")\n",
    "print(f\"Recall   : {train_recall_cat:.4f}\")\n",
    "print(f\"F1 Score : {train_f1_cat:.4f}\")\n",
    "print()\n",
    "print(\"---------------------------------------\")\n",
    "print()\n",
    "print(\"Test Performance:\")\n",
    "print(f\"Accuracy : {test_accuracy_cat:.4f}\")\n",
    "print(f\"Precision: {test_precision_cat:.4f}\")\n",
    "print(f\"Recall_0 : {test_recall_0_cat:.4f}\")\n",
    "print(f\"Recall_1 : {test_recall_1_cat:.4f}\")\n",
    "print(f\"F1 Score : {test_f1_cat:.4f}\")\n",
    "print(\"\\nClassification Report:\")\n",
    "print(classification_report(y_test, y_test_pred))"
   ]
  },
  {
   "cell_type": "markdown",
   "id": "452203e2-5516-47ab-906c-995ca22989e4",
   "metadata": {},
   "source": [
    "## Gradient Boosting"
   ]
  },
  {
   "cell_type": "code",
   "execution_count": 33,
   "id": "b35aa4a1-d9cc-4ffb-bc28-d4e0afc12ede",
   "metadata": {
    "tags": []
   },
   "outputs": [
    {
     "name": "stdout",
     "output_type": "stream",
     "text": [
      "GradientBoosting Results:\n",
      "\n",
      "Training Performance:\n",
      "Accuracy : 0.8141\n",
      "Precision: 0.7872\n",
      "Recall   : 0.8646\n",
      "F1 Score : 0.8241\n",
      "\n",
      "---------------------------------------\n",
      "\n",
      "Test Performance:\n",
      "Accuracy : 0.7161\n",
      "Precision: 0.3040\n",
      "Recall_0 : 0.7280\n",
      "Recall_1 : 0.6509\n",
      "F1 Score : 0.4144\n",
      "\n",
      "Classification Report:\n",
      "              precision    recall  f1-score   support\n",
      "\n",
      "           0       0.92      0.73      0.81     38813\n",
      "           1       0.30      0.65      0.41      7082\n",
      "\n",
      "    accuracy                           0.72     45895\n",
      "   macro avg       0.61      0.69      0.61     45895\n",
      "weighted avg       0.82      0.72      0.75     45895\n",
      "\n"
     ]
    }
   ],
   "source": [
    "# Instantiate the model\n",
    "boosting = GradientBoostingClassifier(n_estimators=200, learning_rate=0.05, max_depth=10, random_state=508312)\n",
    "\n",
    "# Train the model\n",
    "boosting.fit(X_train_resampled, y_train_resampled)\n",
    "\n",
    "# Predictions on Training Data\n",
    "y_train_pred = boosting.predict(X_train_resampled)\n",
    "\n",
    "# Predictions on Test Data\n",
    "y_test_pred = boosting.predict(X_test)\n",
    "\n",
    "# Evaluation on Training Data\n",
    "train_accuracy_gb = accuracy_score(y_train_resampled, y_train_pred)\n",
    "train_precision_gb = precision_score(y_train_resampled, y_train_pred, average='binary')\n",
    "train_recall_gb = recall_score(y_train_resampled, y_train_pred, average='binary')  \n",
    "train_f1_gb = f1_score(y_train_resampled, y_train_pred, average='binary')\n",
    "\n",
    "# Evaluation on Test Data\n",
    "test_accuracy_gb = accuracy_score(y_test, y_test_pred)\n",
    "test_precision_gb = precision_score(y_test, y_test_pred, average='binary')\n",
    "test_recall_0_gb = recall_score(y_test, y_test_pred, average='binary', pos_label=0)\n",
    "test_recall_1_gb = recall_score(y_test, y_test_pred, average='binary', pos_label=1)\n",
    "test_f1_gb = f1_score(y_test, y_test_pred, average='binary')\n",
    "\n",
    "# Display Results\n",
    "print(\"GradientBoosting Results:\")\n",
    "print()\n",
    "print(\"Training Performance:\")\n",
    "print(f\"Accuracy : {train_accuracy_gb:.4f}\")\n",
    "print(f\"Precision: {train_precision_gb:.4f}\")\n",
    "print(f\"Recall   : {train_recall_gb:.4f}\")\n",
    "print(f\"F1 Score : {train_f1_gb:.4f}\")\n",
    "print()\n",
    "print(\"---------------------------------------\")\n",
    "print()\n",
    "print(\"Test Performance:\")\n",
    "print(f\"Accuracy : {test_accuracy_gb:.4f}\")\n",
    "print(f\"Precision: {test_precision_gb:.4f}\")\n",
    "print(f\"Recall_0 : {test_recall_0_gb:.4f}\")\n",
    "print(f\"Recall_1 : {test_recall_1_gb:.4f}\")\n",
    "print(f\"F1 Score : {test_f1_gb:.4f}\")\n",
    "print(\"\\nClassification Report:\")\n",
    "print(classification_report(y_test, y_test_pred))"
   ]
  },
  {
   "cell_type": "markdown",
   "id": "eb773592-e2b0-4616-8831-952e9e95980f",
   "metadata": {},
   "source": [
    "## XGBoost"
   ]
  },
  {
   "cell_type": "code",
   "execution_count": 34,
   "id": "c53a67c4-6165-43f5-97d5-e54e6dfe7d48",
   "metadata": {
    "tags": []
   },
   "outputs": [
    {
     "name": "stdout",
     "output_type": "stream",
     "text": [
      "XGBoot Results:\n",
      "\n",
      "Training Performance:\n",
      "Accuracy : 0.7593\n",
      "Precision: 0.7419\n",
      "Recall   : 0.8005\n",
      "F1 Score : 0.7701\n",
      "\n",
      "---------------------------------------\n",
      "\n",
      "Test Performance:\n",
      "Accuracy : 0.7058\n",
      "Precision: 0.3005\n",
      "Recall_0 : 0.7100\n",
      "Recall_1 : 0.6829\n",
      "F1 Score : 0.4173\n",
      "\n",
      "Classification Report:\n",
      "              precision    recall  f1-score   support\n",
      "\n",
      "           0       0.92      0.71      0.80     38813\n",
      "           1       0.30      0.68      0.42      7082\n",
      "\n",
      "    accuracy                           0.71     45895\n",
      "   macro avg       0.61      0.70      0.61     45895\n",
      "weighted avg       0.83      0.71      0.74     45895\n",
      "\n"
     ]
    }
   ],
   "source": [
    "# Instantiate the model\n",
    "xgb = XGBClassifier(n_estimators=75, learning_rate=0.7, max_depth=5, eval_metric='logloss', random_state=508312)\n",
    "\n",
    "# Train the model\n",
    "xgb.fit(X_train_resampled, y_train_resampled)\n",
    "\n",
    "# Predictions on Training Data\n",
    "y_train_pred = xgb.predict(X_train_resampled)\n",
    "\n",
    "# Predictions on Test Data\n",
    "y_test_pred = xgb.predict(X_test)\n",
    "\n",
    "# Evaluation on Training Data\n",
    "train_accuracy_xgb = accuracy_score(y_train_resampled, y_train_pred)\n",
    "train_precision_xgb = precision_score(y_train_resampled, y_train_pred, average='binary')\n",
    "train_recall_xgb = recall_score(y_train_resampled, y_train_pred, average='binary')  \n",
    "train_f1_xgb = f1_score(y_train_resampled, y_train_pred, average='binary')\n",
    "\n",
    "# Evaluation on Test Data\n",
    "test_accuracy_xgb = accuracy_score(y_test, y_test_pred)\n",
    "test_precision_xgb = precision_score(y_test, y_test_pred, average='binary')\n",
    "test_recall_0_xgb = recall_score(y_test, y_test_pred, average='binary', pos_label=0)\n",
    "test_recall_1_xgb = recall_score(y_test, y_test_pred, average='binary', pos_label=1)\n",
    "test_f1_xgb = f1_score(y_test, y_test_pred, average='binary')\n",
    "\n",
    "# Display Results\n",
    "print(\"XGBoot Results:\")\n",
    "print()\n",
    "print(\"Training Performance:\")\n",
    "print(f\"Accuracy : {train_accuracy_xgb:.4f}\")\n",
    "print(f\"Precision: {train_precision_xgb:.4f}\")\n",
    "print(f\"Recall   : {train_recall_xgb:.4f}\")\n",
    "print(f\"F1 Score : {train_f1_xgb:.4f}\")\n",
    "print()\n",
    "print(\"---------------------------------------\")\n",
    "print()\n",
    "print(\"Test Performance:\")\n",
    "print(f\"Accuracy : {test_accuracy_xgb:.4f}\")\n",
    "print(f\"Precision: {test_precision_xgb:.4f}\")\n",
    "print(f\"Recall_0 : {test_recall_0_xgb:.4f}\")\n",
    "print(f\"Recall_1 : {test_recall_1_xgb:.4f}\")\n",
    "print(f\"F1 Score : {test_f1_xgb:.4f}\")\n",
    "print(\"\\nClassification Report:\")\n",
    "print(classification_report(y_test, y_test_pred))"
   ]
  },
  {
   "cell_type": "markdown",
   "id": "3cf132f3-b4cf-4667-bcd9-a515a7d74e1a",
   "metadata": {},
   "source": [
    "## LightGBM"
   ]
  },
  {
   "cell_type": "code",
   "execution_count": 35,
   "id": "0386dfed-886c-4a47-9134-b0c438518069",
   "metadata": {
    "tags": []
   },
   "outputs": [
    {
     "name": "stdout",
     "output_type": "stream",
     "text": [
      "[LightGBM] [Info] Number of positive: 155564, number of negative: 153341\n",
      "[LightGBM] [Info] Auto-choosing row-wise multi-threading, the overhead of testing was 0.014428 seconds.\n",
      "You can set `force_row_wise=true` to remove the overhead.\n",
      "And if memory is not enough, you can set `force_col_wise=true`.\n",
      "[LightGBM] [Info] Total Bins 209\n",
      "[LightGBM] [Info] Number of data points in the train set: 308905, number of used features: 21\n",
      "[LightGBM] [Info] [binary:BoostFromScore]: pavg=0.503598 -> initscore=0.014393\n",
      "[LightGBM] [Info] Start training from score 0.014393\n"
     ]
    },
    {
     "name": "stderr",
     "output_type": "stream",
     "text": [
      "/Users/namithabhaskar/anaconda3/lib/python3.11/site-packages/sklearn/utils/validation.py:2739: UserWarning: X does not have valid feature names, but LGBMClassifier was fitted with feature names\n",
      "  warnings.warn(\n",
      "/Users/namithabhaskar/anaconda3/lib/python3.11/site-packages/sklearn/utils/validation.py:2739: UserWarning: X does not have valid feature names, but LGBMClassifier was fitted with feature names\n",
      "  warnings.warn(\n"
     ]
    },
    {
     "name": "stdout",
     "output_type": "stream",
     "text": [
      "LightGBM Results:\n",
      "\n",
      "Training Performance:\n",
      "Accuracy : 0.7698\n",
      "Precision: 0.7491\n",
      "Recall   : 0.8162\n",
      "F1 Score : 0.7812\n",
      "\n",
      "---------------------------------------\n",
      "\n",
      "Test Performance:\n",
      "Accuracy : 0.7029\n",
      "Precision: 0.2971\n",
      "Recall_0 : 0.7076\n",
      "Recall_1 : 0.6772\n",
      "F1 Score : 0.4130\n",
      "\n",
      "Classification Report:\n",
      "              precision    recall  f1-score   support\n",
      "\n",
      "           0       0.92      0.71      0.80     38813\n",
      "           1       0.30      0.68      0.41      7082\n",
      "\n",
      "    accuracy                           0.70     45895\n",
      "   macro avg       0.61      0.69      0.61     45895\n",
      "weighted avg       0.83      0.70      0.74     45895\n",
      "\n"
     ]
    }
   ],
   "source": [
    "from sklearn.metrics import accuracy_score, precision_score, recall_score, f1_score, classification_report\n",
    "\n",
    "# Instantiate the model\n",
    "lgb = LGBMClassifier(learning_rate=0.5, num_leaves=40, max_depth=15, random_state=42)\n",
    "\n",
    "# Train the model\n",
    "lgb.fit(X_train_resampled, y_train_resampled, eval_set=[(X_test,y_test),(X_train_resampled,y_train_resampled)], eval_metric='logloss')\n",
    "\n",
    "# Predictions on Training Data\n",
    "y_train_pred = lgb.predict(X_train_resampled)\n",
    "\n",
    "# Predictions on Test Data\n",
    "y_test_pred = lgb.predict(X_test)\n",
    "\n",
    "# Evaluation on Training Data\n",
    "train_accuracy_lgb = accuracy_score(y_train_resampled, y_train_pred)\n",
    "train_precision_lgb = precision_score(y_train_resampled, y_train_pred, average='binary')\n",
    "train_recall_lgb = recall_score(y_train_resampled, y_train_pred, average='binary')  \n",
    "train_f1_lgb = f1_score(y_train_resampled, y_train_pred, average='binary')\n",
    "\n",
    "# Evaluation on Test Data\n",
    "test_accuracy_lgb = accuracy_score(y_test, y_test_pred)\n",
    "test_precision_lgb = precision_score(y_test, y_test_pred, average='binary')\n",
    "test_recall_0_lgb = recall_score(y_test, y_test_pred, average='binary', pos_label=0)\n",
    "test_recall_1_lgb = recall_score(y_test, y_test_pred, average='binary', pos_label=1)\n",
    "test_f1_lgb = f1_score(y_test, y_test_pred, average='binary')\n",
    "\n",
    "# Display Results\n",
    "print(\"LightGBM Results:\")\n",
    "print()\n",
    "print(\"Training Performance:\")\n",
    "print(f\"Accuracy : {train_accuracy_lgb:.4f}\")\n",
    "print(f\"Precision: {train_precision_lgb:.4f}\")\n",
    "print(f\"Recall   : {train_recall_lgb:.4f}\")\n",
    "print(f\"F1 Score : {train_f1_lgb:.4f}\")\n",
    "print()\n",
    "print(\"---------------------------------------\")\n",
    "print()\n",
    "print(\"Test Performance:\")\n",
    "print(f\"Accuracy : {test_accuracy_lgb:.4f}\")\n",
    "print(f\"Precision: {test_precision_lgb:.4f}\")\n",
    "print(f\"Recall_0 : {test_recall_0_lgb:.4f}\")\n",
    "print(f\"Recall_1 : {test_recall_1_lgb:.4f}\")\n",
    "print(f\"F1 Score : {test_f1_lgb:.4f}\")\n",
    "print(\"\\nClassification Report:\")\n",
    "print(classification_report(y_test, y_test_pred))"
   ]
  },
  {
   "cell_type": "markdown",
   "id": "b86943d9-81eb-4056-9dac-2199e5c4a273",
   "metadata": {},
   "source": [
    "### Stacking Classifier"
   ]
  },
  {
   "cell_type": "code",
   "execution_count": 36,
   "id": "2c2cb237-ae0f-4a26-a9d9-d50a17dedf6c",
   "metadata": {
    "tags": []
   },
   "outputs": [
    {
     "name": "stdout",
     "output_type": "stream",
     "text": [
      "[LightGBM] [Info] Number of positive: 155564, number of negative: 153341\n",
      "[LightGBM] [Info] Auto-choosing row-wise multi-threading, the overhead of testing was 0.008489 seconds.\n",
      "You can set `force_row_wise=true` to remove the overhead.\n",
      "And if memory is not enough, you can set `force_col_wise=true`.\n",
      "[LightGBM] [Info] Total Bins 209\n",
      "[LightGBM] [Info] Number of data points in the train set: 308905, number of used features: 21\n",
      "[LightGBM] [Info] [binary:BoostFromScore]: pavg=0.503598 -> initscore=0.014393\n",
      "[LightGBM] [Info] Start training from score 0.014393\n",
      "[LightGBM] [Info] Number of positive: 124451, number of negative: 122673\n",
      "[LightGBM] [Info] Auto-choosing row-wise multi-threading, the overhead of testing was 0.009143 seconds.\n",
      "You can set `force_row_wise=true` to remove the overhead.\n",
      "And if memory is not enough, you can set `force_col_wise=true`.\n",
      "[LightGBM] [Info] Total Bins 209\n",
      "[LightGBM] [Info] Number of data points in the train set: 247124, number of used features: 21\n",
      "[LightGBM] [Info] [binary:BoostFromScore]: pavg=0.503597 -> initscore=0.014390\n",
      "[LightGBM] [Info] Start training from score 0.014390\n"
     ]
    },
    {
     "name": "stderr",
     "output_type": "stream",
     "text": [
      "/Users/namithabhaskar/anaconda3/lib/python3.11/site-packages/sklearn/utils/validation.py:2739: UserWarning: X does not have valid feature names, but LGBMClassifier was fitted with feature names\n",
      "  warnings.warn(\n"
     ]
    },
    {
     "name": "stdout",
     "output_type": "stream",
     "text": [
      "[LightGBM] [Info] Number of positive: 124451, number of negative: 122673\n",
      "[LightGBM] [Info] Auto-choosing row-wise multi-threading, the overhead of testing was 0.008187 seconds.\n",
      "You can set `force_row_wise=true` to remove the overhead.\n",
      "And if memory is not enough, you can set `force_col_wise=true`.\n",
      "[LightGBM] [Info] Total Bins 207\n",
      "[LightGBM] [Info] Number of data points in the train set: 247124, number of used features: 21\n",
      "[LightGBM] [Info] [binary:BoostFromScore]: pavg=0.503597 -> initscore=0.014390\n",
      "[LightGBM] [Info] Start training from score 0.014390\n"
     ]
    },
    {
     "name": "stderr",
     "output_type": "stream",
     "text": [
      "/Users/namithabhaskar/anaconda3/lib/python3.11/site-packages/sklearn/utils/validation.py:2739: UserWarning: X does not have valid feature names, but LGBMClassifier was fitted with feature names\n",
      "  warnings.warn(\n"
     ]
    },
    {
     "name": "stdout",
     "output_type": "stream",
     "text": [
      "[LightGBM] [Info] Number of positive: 124451, number of negative: 122673\n",
      "[LightGBM] [Info] Auto-choosing row-wise multi-threading, the overhead of testing was 0.006893 seconds.\n",
      "You can set `force_row_wise=true` to remove the overhead.\n",
      "And if memory is not enough, you can set `force_col_wise=true`.\n",
      "[LightGBM] [Info] Total Bins 208\n",
      "[LightGBM] [Info] Number of data points in the train set: 247124, number of used features: 21\n",
      "[LightGBM] [Info] [binary:BoostFromScore]: pavg=0.503597 -> initscore=0.014390\n",
      "[LightGBM] [Info] Start training from score 0.014390\n"
     ]
    },
    {
     "name": "stderr",
     "output_type": "stream",
     "text": [
      "/Users/namithabhaskar/anaconda3/lib/python3.11/site-packages/sklearn/utils/validation.py:2739: UserWarning: X does not have valid feature names, but LGBMClassifier was fitted with feature names\n",
      "  warnings.warn(\n"
     ]
    },
    {
     "name": "stdout",
     "output_type": "stream",
     "text": [
      "[LightGBM] [Info] Number of positive: 124451, number of negative: 122673\n",
      "[LightGBM] [Info] Auto-choosing row-wise multi-threading, the overhead of testing was 0.007161 seconds.\n",
      "You can set `force_row_wise=true` to remove the overhead.\n",
      "And if memory is not enough, you can set `force_col_wise=true`.\n",
      "[LightGBM] [Info] Total Bins 207\n",
      "[LightGBM] [Info] Number of data points in the train set: 247124, number of used features: 21\n",
      "[LightGBM] [Info] [binary:BoostFromScore]: pavg=0.503597 -> initscore=0.014390\n",
      "[LightGBM] [Info] Start training from score 0.014390\n"
     ]
    },
    {
     "name": "stderr",
     "output_type": "stream",
     "text": [
      "/Users/namithabhaskar/anaconda3/lib/python3.11/site-packages/sklearn/utils/validation.py:2739: UserWarning: X does not have valid feature names, but LGBMClassifier was fitted with feature names\n",
      "  warnings.warn(\n"
     ]
    },
    {
     "name": "stdout",
     "output_type": "stream",
     "text": [
      "[LightGBM] [Info] Number of positive: 124452, number of negative: 122672\n",
      "[LightGBM] [Info] Auto-choosing row-wise multi-threading, the overhead of testing was 0.007205 seconds.\n",
      "You can set `force_row_wise=true` to remove the overhead.\n",
      "And if memory is not enough, you can set `force_col_wise=true`.\n",
      "[LightGBM] [Info] Total Bins 208\n",
      "[LightGBM] [Info] Number of data points in the train set: 247124, number of used features: 21\n",
      "[LightGBM] [Info] [binary:BoostFromScore]: pavg=0.503601 -> initscore=0.014406\n",
      "[LightGBM] [Info] Start training from score 0.014406\n"
     ]
    },
    {
     "name": "stderr",
     "output_type": "stream",
     "text": [
      "/Users/namithabhaskar/anaconda3/lib/python3.11/site-packages/sklearn/utils/validation.py:2739: UserWarning: X does not have valid feature names, but LGBMClassifier was fitted with feature names\n",
      "  warnings.warn(\n",
      "/Users/namithabhaskar/anaconda3/lib/python3.11/site-packages/sklearn/utils/validation.py:2739: UserWarning: X does not have valid feature names, but LGBMClassifier was fitted with feature names\n",
      "  warnings.warn(\n",
      "/Users/namithabhaskar/anaconda3/lib/python3.11/site-packages/sklearn/utils/validation.py:2739: UserWarning: X does not have valid feature names, but LGBMClassifier was fitted with feature names\n",
      "  warnings.warn(\n"
     ]
    },
    {
     "name": "stdout",
     "output_type": "stream",
     "text": [
      "Stacking Results:\n",
      "\n",
      "Training Performance:\n",
      "Accuracy : 0.8404\n",
      "Precision: 0.8193\n",
      "Recall   : 0.8763\n",
      "F1 Score : 0.8468\n",
      "\n",
      "---------------------------------------\n",
      "\n",
      "Test Performance:\n",
      "Accuracy : 0.7329\n",
      "Precision: 0.3127\n",
      "Recall_0 : 0.7553\n",
      "Recall_1 : 0.6101\n",
      "F1 Score : 0.4135\n",
      "\n",
      "Classification Report:\n",
      "              precision    recall  f1-score   support\n",
      "\n",
      "           0       0.91      0.76      0.83     38813\n",
      "           1       0.31      0.61      0.41      7082\n",
      "\n",
      "    accuracy                           0.73     45895\n",
      "   macro avg       0.61      0.68      0.62     45895\n",
      "weighted avg       0.82      0.73      0.76     45895\n",
      "\n"
     ]
    }
   ],
   "source": [
    "# Define estimators\n",
    "from sklearn.ensemble import StackingClassifier\n",
    "from sklearn.linear_model import LogisticRegression\n",
    "\n",
    "estimator_list = [\n",
    "    ('ada',adaboost),\n",
    "    ('gradientBoost',boosting),\n",
    "    ('cat',catboost),\n",
    "    ('lgb',lgb)]\n",
    "\n",
    "# Build stack model\n",
    "stack_model = StackingClassifier(\n",
    "    estimators=estimator_list, final_estimator=LogisticRegression(),\n",
    "    passthrough=True\n",
    ")\n",
    "\n",
    "# Train stacked model\n",
    "stack_model.fit(X_train_resampled, y_train_resampled)\n",
    "\n",
    "# Make predictions\n",
    "y_train_pred = stack_model.predict(X_train_resampled)\n",
    "y_test_pred = stack_model.predict(X_test)\n",
    "\n",
    "# Evaluation on Training Data\n",
    "train_accuracy_sc = accuracy_score(y_train_resampled, y_train_pred)\n",
    "train_precision_sc = precision_score(y_train_resampled, y_train_pred, average='binary')\n",
    "train_recall_sc = recall_score(y_train_resampled, y_train_pred, average='binary')  \n",
    "train_f1_sc = f1_score(y_train_resampled, y_train_pred, average='binary')\n",
    "\n",
    "# Evaluation on Test Data\n",
    "test_accuracy_sc = accuracy_score(y_test, y_test_pred)\n",
    "test_precision_sc = precision_score(y_test, y_test_pred, average='binary')\n",
    "test_recall_0_sc = recall_score(y_test, y_test_pred, average='binary', pos_label=0)\n",
    "test_recall_1_sc = recall_score(y_test, y_test_pred, average='binary', pos_label=1)\n",
    "test_f1_sc = f1_score(y_test, y_test_pred, average='binary')\n",
    "\n",
    "# Display Results\n",
    "print(\"Stacking Results:\")\n",
    "print()\n",
    "print(\"Training Performance:\")\n",
    "print(f\"Accuracy : {train_accuracy_sc:.4f}\")\n",
    "print(f\"Precision: {train_precision_sc:.4f}\")\n",
    "print(f\"Recall   : {train_recall_sc:.4f}\")\n",
    "print(f\"F1 Score : {train_f1_sc:.4f}\")\n",
    "print()\n",
    "print(\"---------------------------------------\")\n",
    "print()\n",
    "print(\"Test Performance:\")\n",
    "print(f\"Accuracy : {test_accuracy_sc:.4f}\")\n",
    "print(f\"Precision: {test_precision_sc:.4f}\")\n",
    "print(f\"Recall_0 : {test_recall_0_sc:.4f}\")\n",
    "print(f\"Recall_1 : {test_recall_1_sc:.4f}\")\n",
    "print(f\"F1 Score : {test_f1_sc:.4f}\")\n",
    "print(\"\\nClassification Report:\")\n",
    "print(classification_report(y_test, y_test_pred))"
   ]
  },
  {
   "cell_type": "markdown",
   "id": "59829843-73c2-4f87-a907-fabd689867f6",
   "metadata": {},
   "source": [
    "### Stacking Classifier with Hyper Parameter Tuning"
   ]
  },
  {
   "cell_type": "code",
   "execution_count": 37,
   "id": "5a3d8698-a7f1-42c2-8518-184d1449a0a4",
   "metadata": {
    "tags": []
   },
   "outputs": [],
   "source": [
    "# from sklearn.linear_model import RidgeClassifier\n",
    "# from sklearn.model_selection import RandomizedSearchCV, StratifiedKFold\n",
    "# from sklearn.metrics import accuracy_score, precision_score, recall_score, f1_score, classification_report\n",
    "# from scipy.stats import uniform, randint\n",
    "\n",
    "# # Define base estimators\n",
    "# base_estimators = [\n",
    "#     ('ada', AdaBoostClassifier(random_state=508312)),\n",
    "#     ('gradientBoost', GradientBoostingClassifier(random_state=42)),\n",
    "#     ('cat', CatBoostClassifier(verbose=False, random_state=42))  # Remove or replace if not using CatBoost\n",
    "# ]\n",
    "\n",
    "# # Choose final estimator (alternative: RandomForestClassifier(n_estimators=100, max_depth=3, random_state=42))\n",
    "# final_estimator = RidgeClassifier()\n",
    "\n",
    "# # Define the StackingClassifier\n",
    "# stack_model = StackingClassifier(\n",
    "#     estimators=base_estimators,\n",
    "#     final_estimator=final_estimator,\n",
    "#     passthrough=True\n",
    "# )\n",
    "\n",
    "# # Define expanded hyperparameter space\n",
    "# param_grid = {\n",
    "#     'passthrough': [True, False],\n",
    "\n",
    "#     'final_estimator__alpha': uniform(0.01, 10),  # Regularization strength for RidgeClassifier\n",
    "\n",
    "#     'gradientBoost__n_estimators': randint(100, 400),\n",
    "#     'gradientBoost__learning_rate': uniform(0.05, 0.2),\n",
    "#     'gradientBoost__max_depth': randint(3, 8),\n",
    "\n",
    "#     'ada__n_estimators': randint(100, 300),\n",
    "#     'ada__learning_rate': uniform(0.5, 1.5),\n",
    "\n",
    "#     'cat__depth': randint(5, 10),\n",
    "#     'cat__learning_rate': uniform(0.03, 0.15),\n",
    "#     'cat__l2_leaf_reg': randint(1, 10),\n",
    "# }\n",
    "\n",
    "# # Cross-validation strategy\n",
    "# cv_strategy = StratifiedKFold(n_splits=5, shuffle=True, random_state=508312)\n",
    "\n",
    "# # Randomized Search\n",
    "# random_search = RandomizedSearchCV(\n",
    "#     estimator=stack_model,\n",
    "#     param_distributions=param_grid,\n",
    "#     n_iter=20,\n",
    "#     cv=cv_strategy,\n",
    "#     scoring='f1',\n",
    "#     verbose=2,\n",
    "#     n_jobs=-1,\n",
    "#     random_state=508312\n",
    "# )\n",
    "\n",
    "# # Fit the model\n",
    "# random_search.fit(X_train_resampled, y_train_resampled)\n",
    "\n",
    "# # Best model\n",
    "# best_stack_model = random_search.best_estimator_\n",
    "\n",
    "# # Predictions\n",
    "# y_train_pred = best_stack_model.predict(X_train_resampled)\n",
    "# y_test_pred = best_stack_model.predict(X_test)\n",
    "\n",
    "# # Train metrics\n",
    "# train_accuracy = accuracy_score(y_train_resampled, y_train_pred)\n",
    "# train_precision = precision_score(y_train_resampled, y_train_pred)\n",
    "# train_recall = recall_score(y_train_resampled, y_train_pred)\n",
    "# train_f1 = f1_score(y_train_resampled, y_train_pred)\n",
    "\n",
    "# # Test metrics\n",
    "# test_accuracy = accuracy_score(y_test, y_test_pred)\n",
    "# test_precision = precision_score(y_test, y_test_pred)\n",
    "# test_recall_0 = recall_score(y_test, y_test_pred, pos_label=0)\n",
    "# test_recall_1 = recall_score(y_test, y_test_pred, pos_label=1)\n",
    "# test_f1 = f1_score(y_test, y_test_pred)\n",
    "\n",
    "# # Output results\n",
    "# print()\n",
    "# print(\"\\nBest Hyperparameters:\", random_search.best_params_)\n",
    "# print(\"Best Cross-Validation F1 Score:\", random_search.best_score_)\n",
    "\n",
    "# print(\"\\nTraining Performance:\")\n",
    "# print(f\"Accuracy : {train_accuracy:.4f}\")\n",
    "# print(f\"Precision: {train_precision:.4f}\")\n",
    "# print(f\"Recall   : {train_recall:.4f}\")\n",
    "# print(f\"F1 Score : {train_f1:.4f}\")\n",
    "\n",
    "# print(\"\\n---------------------------------------\\n\")\n",
    "\n",
    "# print(\"Test Performance:\")\n",
    "# print(f\"Accuracy  : {test_accuracy:.4f}\")\n",
    "# print(f\"Precision : {test_precision:.4f}\")\n",
    "# print(f\"Recall_0  : {test_recall_0:.4f}\")\n",
    "# print(f\"Recall_1  : {test_recall_1:.4f}\")\n",
    "# print(f\"F1 Score  : {test_f1:.4f}\")\n",
    "\n",
    "# print(\"\\nClassification Report:\")\n",
    "# print(classification_report(y_test, y_test_pred))\n"
   ]
  },
  {
   "attachments": {
    "f8ce4500-0c91-40b6-aab7-963252ec7e66.png": {
     "image/png": "[encoded data removed]"
    }
   },
   "cell_type": "markdown",
   "id": "1a724f79-8ba6-4ad3-a54c-96abcd10e1cd",
   "metadata": {},
   "source": [
    "![image.png](attachment:f8ce4500-0c91-40b6-aab7-963252ec7e66.png)\n",
    "\n",
    "**Top Candidate: AdaBoost** \n",
    "- Best F1 score (0.4305) on the test set\n",
    "- Strong recall_1 (0.7234) — the highest among all\n",
    "- Precision is slightly better than others, even though still low overall\n",
    "- Great generalization: training and test scores are well-aligned (no overfitting)"
   ]
  },
  {
   "cell_type": "markdown",
   "id": "27c9c03a-f4cd-4aa1-ae92-61249f9d2c9f",
   "metadata": {},
   "source": [
    "### Hyperparameter Tuning For AdaBoost"
   ]
  },
  {
   "cell_type": "code",
   "execution_count": 40,
   "id": "b3b1a3b6-516d-4fa0-996e-24b5eb14e279",
   "metadata": {
    "tags": []
   },
   "outputs": [
    {
     "name": "stderr",
     "output_type": "stream",
     "text": [
      "[I 2025-04-06 14:24:28,133] A new study created in memory with name: no-name-d6718447-56e0-497d-86da-26902806abe7\n",
      "[I 2025-04-06 14:25:08,682] Trial 0 finished with value: 0.7464781367128034 and parameters: {'max_depth': 4, 'min_samples_split': 8, 'min_samples_leaf': 4, 'n_estimators': 54, 'learning_rate': 0.7412731501734877}. Best is trial 0 with value: 0.7464781367128034.\n",
      "[I 2025-04-06 14:26:35,646] Trial 1 finished with value: 0.7335660739981641 and parameters: {'max_depth': 4, 'min_samples_split': 6, 'min_samples_leaf': 7, 'n_estimators': 125, 'learning_rate': 1.836635404536354}. Best is trial 0 with value: 0.7464781367128034.\n",
      "[I 2025-04-06 14:28:21,028] Trial 2 finished with value: 0.7385816651516818 and parameters: {'max_depth': 2, 'min_samples_split': 3, 'min_samples_leaf': 1, 'n_estimators': 242, 'learning_rate': 0.11188841270446127}. Best is trial 0 with value: 0.7464781367128034.\n",
      "[I 2025-04-06 14:30:20,469] Trial 3 finished with value: 0.7498590449036421 and parameters: {'max_depth': 3, 'min_samples_split': 9, 'min_samples_leaf': 6, 'n_estimators': 207, 'learning_rate': 1.6894633188598442}. Best is trial 3 with value: 0.7498590449036421.\n",
      "[I 2025-04-06 14:33:21,405] Trial 4 finished with value: 0.7459055575569374 and parameters: {'max_depth': 4, 'min_samples_split': 5, 'min_samples_leaf': 1, 'n_estimators': 235, 'learning_rate': 0.43828778632924364}. Best is trial 3 with value: 0.7498590449036421.\n",
      "[I 2025-04-06 14:37:58,224] Trial 5 finished with value: 0.7513214612221545 and parameters: {'max_depth': 5, 'min_samples_split': 4, 'min_samples_leaf': 7, 'n_estimators': 300, 'learning_rate': 0.6567099833380331}. Best is trial 5 with value: 0.7513214612221545.\n",
      "[I 2025-04-06 14:39:36,696] Trial 6 finished with value: 0.7462744217280116 and parameters: {'max_depth': 4, 'min_samples_split': 6, 'min_samples_leaf': 2, 'n_estimators': 129, 'learning_rate': 0.5424185398469119}. Best is trial 5 with value: 0.7513214612221545.\n",
      "[I 2025-04-06 14:40:14,558] Trial 7 finished with value: 0.7411743229663185 and parameters: {'max_depth': 3, 'min_samples_split': 8, 'min_samples_leaf': 7, 'n_estimators': 63, 'learning_rate': 0.19436471575690012}. Best is trial 5 with value: 0.7513214612221545.\n",
      "[I 2025-04-06 14:44:00,579] Trial 8 finished with value: 0.7476004359950424 and parameters: {'max_depth': 4, 'min_samples_split': 2, 'min_samples_leaf': 5, 'n_estimators': 293, 'learning_rate': 0.6109827286022405}. Best is trial 5 with value: 0.7513214612221545.\n",
      "[I 2025-04-06 14:48:07,001] Trial 9 finished with value: 0.748156818850121 and parameters: {'max_depth': 5, 'min_samples_split': 8, 'min_samples_leaf': 10, 'n_estimators': 272, 'learning_rate': 0.1357141743097397}. Best is trial 5 with value: 0.7513214612221545.\n",
      "[I 2025-04-06 14:48:48,724] Trial 10 finished with value: 0.7400848330762174 and parameters: {'max_depth': 1, 'min_samples_split': 4, 'min_samples_leaf': 10, 'n_estimators': 161, 'learning_rate': 1.1877585218928852}. Best is trial 5 with value: 0.7513214612221545.\n",
      "[I 2025-04-06 14:50:18,744] Trial 11 finished with value: 0.7507196841072163 and parameters: {'max_depth': 2, 'min_samples_split': 10, 'min_samples_leaf': 7, 'n_estimators': 210, 'learning_rate': 1.318232151987848}. Best is trial 5 with value: 0.7513214612221545.\n",
      "[I 2025-04-06 14:51:06,352] Trial 12 finished with value: 0.7406043307753943 and parameters: {'max_depth': 1, 'min_samples_split': 10, 'min_samples_leaf': 8, 'n_estimators': 198, 'learning_rate': 1.1473071299958773}. Best is trial 5 with value: 0.7513214612221545.\n",
      "[I 2025-04-06 14:53:11,463] Trial 13 finished with value: 0.7502085694443008 and parameters: {'max_depth': 2, 'min_samples_split': 4, 'min_samples_leaf': 8, 'n_estimators': 298, 'learning_rate': 1.3969245684969385}. Best is trial 5 with value: 0.7513214612221545.\n",
      "[I 2025-04-06 14:56:39,137] Trial 14 finished with value: 0.7578264306451814 and parameters: {'max_depth': 5, 'min_samples_split': 10, 'min_samples_leaf': 5, 'n_estimators': 253, 'learning_rate': 1.470835049196985}. Best is trial 14 with value: 0.7578264306451814.\n",
      "[I 2025-04-06 15:00:33,895] Trial 15 finished with value: 0.7529434697788648 and parameters: {'max_depth': 5, 'min_samples_split': 2, 'min_samples_leaf': 4, 'n_estimators': 254, 'learning_rate': 0.9047020917747159}. Best is trial 14 with value: 0.7578264306451814.\n",
      "[I 2025-04-06 15:04:21,887] Trial 16 finished with value: 0.7531380088992647 and parameters: {'max_depth': 5, 'min_samples_split': 2, 'min_samples_leaf': 3, 'n_estimators': 251, 'learning_rate': 0.9149297015250072}. Best is trial 14 with value: 0.7578264306451814.\n",
      "[I 2025-04-06 15:06:38,098] Trial 17 finished with value: 0.7504238773251134 and parameters: {'max_depth': 5, 'min_samples_split': 7, 'min_samples_leaf': 3, 'n_estimators': 167, 'learning_rate': 1.6207954111800704}. Best is trial 14 with value: 0.7578264306451814.\n",
      "[I 2025-04-06 15:10:37,337] Trial 18 finished with value: 0.7505243609459957 and parameters: {'max_depth': 5, 'min_samples_split': 7, 'min_samples_leaf': 3, 'n_estimators': 257, 'learning_rate': 0.8815775059094637}. Best is trial 14 with value: 0.7578264306451814.\n",
      "[I 2025-04-06 15:12:47,380] Trial 19 finished with value: 0.7527613165564003 and parameters: {'max_depth': 3, 'min_samples_split': 5, 'min_samples_leaf': 5, 'n_estimators': 224, 'learning_rate': 1.4942871848055181}. Best is trial 14 with value: 0.7578264306451814.\n",
      "[I 2025-04-06 15:15:08,140] Trial 20 finished with value: 0.7182742667485625 and parameters: {'max_depth': 5, 'min_samples_split': 3, 'min_samples_leaf': 3, 'n_estimators': 187, 'learning_rate': 1.9477434423807238}. Best is trial 14 with value: 0.7578264306451814.\n",
      "[I 2025-04-06 15:19:16,966] Trial 21 finished with value: 0.7539887403588192 and parameters: {'max_depth': 5, 'min_samples_split': 2, 'min_samples_leaf': 4, 'n_estimators': 268, 'learning_rate': 0.9798707402262262}. Best is trial 14 with value: 0.7578264306451814.\n",
      "[I 2025-04-06 15:23:24,244] Trial 22 finished with value: 0.7531851561996138 and parameters: {'max_depth': 5, 'min_samples_split': 2, 'min_samples_leaf': 4, 'n_estimators': 271, 'learning_rate': 1.07262208827018}. Best is trial 14 with value: 0.7578264306451814.\n",
      "[I 2025-04-06 15:26:46,940] Trial 23 finished with value: 0.7518682250591543 and parameters: {'max_depth': 4, 'min_samples_split': 3, 'min_samples_leaf': 4, 'n_estimators': 269, 'learning_rate': 1.1133047322587517}. Best is trial 14 with value: 0.7578264306451814.\n",
      "[I 2025-04-06 15:30:42,615] Trial 24 finished with value: 0.7559603749034385 and parameters: {'max_depth': 5, 'min_samples_split': 3, 'min_samples_leaf': 5, 'n_estimators': 278, 'learning_rate': 1.3522669890300185}. Best is trial 14 with value: 0.7578264306451814.\n",
      "[I 2025-04-06 15:33:48,331] Trial 25 finished with value: 0.7518118065834786 and parameters: {'max_depth': 4, 'min_samples_split': 5, 'min_samples_leaf': 6, 'n_estimators': 281, 'learning_rate': 1.3147142470723905}. Best is trial 14 with value: 0.7578264306451814.\n",
      "[I 2025-04-06 15:36:39,784] Trial 26 finished with value: 0.7529119442306115 and parameters: {'max_depth': 5, 'min_samples_split': 3, 'min_samples_leaf': 5, 'n_estimators': 229, 'learning_rate': 1.5699101372124142}. Best is trial 14 with value: 0.7578264306451814.\n",
      "[I 2025-04-06 15:39:00,834] Trial 27 finished with value: 0.7517312103736252 and parameters: {'max_depth': 3, 'min_samples_split': 9, 'min_samples_leaf': 6, 'n_estimators': 283, 'learning_rate': 1.7276684084148282}. Best is trial 14 with value: 0.7578264306451814.\n",
      "[I 2025-04-06 15:40:45,260] Trial 28 finished with value: 0.7521835661531021 and parameters: {'max_depth': 5, 'min_samples_split': 4, 'min_samples_leaf': 2, 'n_estimators': 139, 'learning_rate': 1.4416061800984292}. Best is trial 14 with value: 0.7578264306451814.\n",
      "[I 2025-04-06 15:43:07,778] Trial 29 finished with value: 0.748646115608127 and parameters: {'max_depth': 4, 'min_samples_split': 7, 'min_samples_leaf': 5, 'n_estimators': 219, 'learning_rate': 0.7683862217187631}. Best is trial 14 with value: 0.7578264306451814.\n"
     ]
    },
    {
     "name": "stdout",
     "output_type": "stream",
     "text": [
      "\n",
      "Best Hyperparameters:\n",
      "n_estimators     : 253\n",
      "learning_rate    : 1.4708\n",
      "max_depth        : 5\n",
      "min_samples_split: 10\n",
      "min_samples_leaf : 5\n",
      "Best Threshold   : 0.504\n",
      "\n",
      "Training Performance:\n",
      "Accuracy : 0.7524\n",
      "Precision: 0.7600\n",
      "Recall   : 0.7429\n",
      "F1 Score : 0.7513\n",
      "\n",
      "---------------------------------------\n",
      "\n",
      "Test Performance:\n",
      "Accuracy : 0.7307\n",
      "Precision: 0.3109\n",
      "Recall_0 : 0.7522\n",
      "Recall_1 : 0.6128\n",
      "F1 Score : 0.4125\n",
      "\n",
      "Classification Report:\n",
      "               precision    recall  f1-score   support\n",
      "\n",
      "           0       0.91      0.75      0.83     38813\n",
      "           1       0.31      0.61      0.41      7082\n",
      "\n",
      "    accuracy                           0.73     45895\n",
      "   macro avg       0.61      0.68      0.62     45895\n",
      "weighted avg       0.82      0.73      0.76     45895\n",
      "\n"
     ]
    },
    {
     "data": {
      "image/png": "[encoded data removed]",
      "text/plain": [
       "<Figure size 1000x600 with 1 Axes>"
      ]
     },
     "metadata": {},
     "output_type": "display_data"
    }
   ],
   "source": [
    "import optuna\n",
    "from sklearn.model_selection import StratifiedKFold, cross_val_score\n",
    "from sklearn.metrics import (\n",
    "    f1_score, precision_score, recall_score, accuracy_score,\n",
    "    classification_report, precision_recall_curve\n",
    ")\n",
    "\n",
    "# 🎯 Step 1: Define Optuna objective\n",
    "def objective(trial):\n",
    "    # Tune DecisionTreeClassifier\n",
    "    base_estimator = DecisionTreeClassifier(\n",
    "        max_depth=trial.suggest_int('max_depth', 1, 5),\n",
    "        min_samples_split=trial.suggest_int('min_samples_split', 2, 10),\n",
    "        min_samples_leaf=trial.suggest_int('min_samples_leaf', 1, 10),\n",
    "        random_state=42\n",
    "    )\n",
    "\n",
    "    # Tune AdaBoostClassifier\n",
    "    model = AdaBoostClassifier(\n",
    "        estimator=base_estimator,\n",
    "        n_estimators=trial.suggest_int('n_estimators', 50, 300),\n",
    "        learning_rate=trial.suggest_float('learning_rate', 0.01, 2.0),\n",
    "        random_state=42\n",
    "    )\n",
    "\n",
    "    cv = StratifiedKFold(n_splits=3, shuffle=True, random_state=42)\n",
    "    return cross_val_score(model, X_train_resampled, y_train_resampled, cv=cv, scoring='f1').mean()\n",
    "\n",
    "# 🧪 Step 2: Run Optuna\n",
    "study = optuna.create_study(direction='maximize')\n",
    "study.optimize(objective, n_trials=30)\n",
    "\n",
    "# 🏆 Step 3: Train best model\n",
    "best_params = study.best_params\n",
    "best_tree = DecisionTreeClassifier(\n",
    "    max_depth=best_params['max_depth'],\n",
    "    min_samples_split=best_params['min_samples_split'],\n",
    "    min_samples_leaf=best_params['min_samples_leaf'],\n",
    "    random_state=42\n",
    ")\n",
    "\n",
    "model = AdaBoostClassifier(\n",
    "    estimator=best_tree,\n",
    "    n_estimators=best_params['n_estimators'],\n",
    "    learning_rate=best_params['learning_rate'],\n",
    "    random_state=42\n",
    ")\n",
    "\n",
    "model.fit(X_train_resampled, y_train_resampled)\n",
    "\n",
    "# 🔍 Step 4: Threshold Tuning\n",
    "y_probs_test = model.predict_proba(X_test)[:, 1]\n",
    "precisions, recalls, thresholds = precision_recall_curve(y_test, y_probs_test)\n",
    "f1_scores = 2 * (precisions * recalls) / (precisions + recalls + 1e-10)\n",
    "best_idx = np.argmax(f1_scores)\n",
    "best_threshold = thresholds[best_idx]\n",
    "\n",
    "# 🎯 Step 5: Final predictions\n",
    "y_train_probs = model.predict_proba(X_train_resampled)[:, 1]\n",
    "y_train_pred = (y_train_probs >= best_threshold).astype(int)\n",
    "y_test_pred = (y_probs_test >= best_threshold).astype(int)\n",
    "\n",
    "# 📊 Step 6: Evaluation\n",
    "\n",
    "## Training\n",
    "train_accuracy = accuracy_score(y_train_resampled, y_train_pred)\n",
    "train_precision = precision_score(y_train_resampled, y_train_pred)\n",
    "train_recall = recall_score(y_train_resampled, y_train_pred)\n",
    "train_f1 = f1_score(y_train_resampled, y_train_pred)\n",
    "\n",
    "## Test\n",
    "test_accuracy = accuracy_score(y_test, y_test_pred)\n",
    "test_precision = precision_score(y_test, y_test_pred)\n",
    "test_recall_0 = recall_score(y_test, y_test_pred, pos_label=0)\n",
    "test_recall_1 = recall_score(y_test, y_test_pred, pos_label=1)\n",
    "test_f1 = f1_score(y_test, y_test_pred)\n",
    "test_report = classification_report(y_test, y_test_pred)\n",
    "\n",
    "# 🖨️ Step 7: Output\n",
    "print(\"\\nBest Hyperparameters:\")\n",
    "print(f\"n_estimators     : {best_params['n_estimators']}\")\n",
    "print(f\"learning_rate    : {best_params['learning_rate']:.4f}\")\n",
    "print(f\"max_depth        : {best_params['max_depth']}\")\n",
    "print(f\"min_samples_split: {best_params['min_samples_split']}\")\n",
    "print(f\"min_samples_leaf : {best_params['min_samples_leaf']}\")\n",
    "print(f\"Best Threshold   : {best_threshold:.3f}\")\n",
    "\n",
    "print(\"\\nTraining Performance:\")\n",
    "print(f\"Accuracy : {train_accuracy:.4f}\")\n",
    "print(f\"Precision: {train_precision:.4f}\")\n",
    "print(f\"Recall   : {train_recall:.4f}\")\n",
    "print(f\"F1 Score : {train_f1:.4f}\")\n",
    "\n",
    "print(\"\\n---------------------------------------\\n\")\n",
    "\n",
    "print(\"Test Performance:\")\n",
    "print(f\"Accuracy : {test_accuracy:.4f}\")\n",
    "print(f\"Precision: {test_precision:.4f}\")\n",
    "print(f\"Recall_0 : {test_recall_0:.4f}\")\n",
    "print(f\"Recall_1 : {test_recall_1:.4f}\")\n",
    "print(f\"F1 Score : {test_f1:.4f}\")\n",
    "\n",
    "print(\"\\nClassification Report:\\n\", test_report)\n",
    "\n",
    "# 📈 Step 8: Threshold Plot\n",
    "plt.figure(figsize=(10, 6))\n",
    "plt.plot(thresholds, precisions[:-1], label=\"Precision\")\n",
    "plt.plot(thresholds, recalls[:-1], label=\"Recall\")\n",
    "plt.plot(thresholds, f1_scores[:-1], label=\"F1 Score\")\n",
    "plt.axvline(x=best_threshold, color='red', linestyle='--', label=f\"Best Threshold = {best_threshold:.2f}\")\n",
    "plt.xlabel(\"Threshold\")\n",
    "plt.ylabel(\"Score\")\n",
    "plt.title(\"Precision, Recall, and F1 Score vs Threshold\")\n",
    "plt.legend()\n",
    "plt.grid(True)\n",
    "plt.tight_layout()\n",
    "plt.show()\n"
   ]
  },
  {
   "cell_type": "markdown",
   "id": "5045fbe7-4eb8-41f4-80d1-15fffa36b0c6",
   "metadata": {},
   "source": [
    "### Manual Tuning based on the above Hyperparameter Tuning"
   ]
  },
  {
   "cell_type": "code",
   "execution_count": 278,
   "id": "7de8cb88-66a0-4f4d-b355-2858c29ad36b",
   "metadata": {
    "tags": []
   },
   "outputs": [
    {
     "name": "stdout",
     "output_type": "stream",
     "text": [
      "\n",
      "🔁 Run 1 with Params: {'n_estimators': 300, 'learning_rate': 1.0, 'max_depth': 4, 'min_samples_split': 8, 'min_samples_leaf': 3}\n",
      "Best Threshold: 0.503\n",
      "\n",
      "Training Performance:\n",
      "Accuracy : 0.7421\n",
      "Precision: 0.7353\n",
      "Recall   : 0.7623\n",
      "F1 Score : 0.7486\n",
      "\n",
      "Test Performance:\n",
      "Accuracy : 0.7139\n",
      "Precision: 0.3081\n",
      "Recall_0 : 0.7192\n",
      "Recall_1 : 0.6853\n",
      "F1 Score : 0.4250\n",
      "\n",
      "🔁 Run 2 with Params: {'n_estimators': 350, 'learning_rate': 0.9, 'max_depth': 3, 'min_samples_split': 6, 'min_samples_leaf': 2}\n",
      "Best Threshold: 0.529\n",
      "\n",
      "Training Performance:\n",
      "Accuracy : 0.7249\n",
      "Precision: 0.7418\n",
      "Recall   : 0.6961\n",
      "F1 Score : 0.7182\n",
      "\n",
      "Test Performance:\n",
      "Accuracy : 0.7314\n",
      "Precision: 0.3151\n",
      "Recall_0 : 0.7497\n",
      "Recall_1 : 0.6310\n",
      "F1 Score : 0.4203\n",
      "\n",
      "🔁 Run 3 with Params: {'n_estimators': 280, 'learning_rate': 1.2, 'max_depth': 3, 'min_samples_split': 10, 'min_samples_leaf': 5}\n",
      "Best Threshold: 0.504\n",
      "\n",
      "Training Performance:\n",
      "Accuracy : 0.7362\n",
      "Precision: 0.7310\n",
      "Recall   : 0.7535\n",
      "F1 Score : 0.7421\n",
      "\n",
      "Test Performance:\n",
      "Accuracy : 0.7120\n",
      "Precision: 0.3063\n",
      "Recall_0 : 0.7169\n",
      "Recall_1 : 0.6851\n",
      "F1 Score : 0.4233\n",
      "\n",
      "🔁 Run 4 with Params: {'n_estimators': 450, 'learning_rate': 1.07, 'max_depth': 5, 'min_samples_split': 10, 'min_samples_leaf': 5}\n",
      "Best Threshold: 0.512\n",
      "\n",
      "Training Performance:\n",
      "Accuracy : 0.7407\n",
      "Precision: 0.7520\n",
      "Recall   : 0.7237\n",
      "F1 Score : 0.7376\n",
      "\n",
      "Test Performance:\n",
      "Accuracy : 0.7351\n",
      "Precision: 0.3177\n",
      "Recall_0 : 0.7552\n",
      "Recall_1 : 0.6247\n",
      "F1 Score : 0.4212\n",
      "\n",
      "🔁 Run 5 with Params: {'n_estimators': 320, 'learning_rate': 1.05, 'max_depth': 5, 'min_samples_split': 12, 'min_samples_leaf': 5}\n",
      "Best Threshold: 0.506\n",
      "\n",
      "Training Performance:\n",
      "Accuracy : 0.7435\n",
      "Precision: 0.7418\n",
      "Recall   : 0.7526\n",
      "F1 Score : 0.7472\n",
      "\n",
      "Test Performance:\n",
      "Accuracy : 0.7217\n",
      "Precision: 0.3123\n",
      "Recall_0 : 0.7315\n",
      "Recall_1 : 0.6685\n",
      "F1 Score : 0.4257\n",
      "\n",
      "\n",
      "🌟 Best Configuration Based on Test F1:\n",
      "Params      : {'n_estimators': 320, 'learning_rate': 1.05, 'max_depth': 5, 'min_samples_split': 12, 'min_samples_leaf': 5}\n",
      "Threshold   : 0.506\n",
      "F1 Score    : 0.4257\n",
      "Recall (1)  : 0.6685\n",
      "Precision   : 0.3123\n",
      "Accuracy    : 0.7217\n"
     ]
    }
   ],
   "source": [
    "# Define parameter combos to test\n",
    "param_sets = [\n",
    "    {\"n_estimators\": 300, \"learning_rate\": 1.0, \"max_depth\": 4, \"min_samples_split\": 8, \"min_samples_leaf\": 3},\n",
    "    {\"n_estimators\": 350, \"learning_rate\": 0.9, \"max_depth\": 3, \"min_samples_split\": 6, \"min_samples_leaf\": 2},\n",
    "    {\"n_estimators\": 280, \"learning_rate\": 1.2, \"max_depth\": 3, \"min_samples_split\": 10, \"min_samples_leaf\": 5},\n",
    "    {\"n_estimators\": 450, \"learning_rate\": 1.07, \"max_depth\": 5, \"min_samples_split\": 10, \"min_samples_leaf\": 5},\n",
    "    {\"n_estimators\": 320, \"learning_rate\": 1.05, \"max_depth\": 5, \"min_samples_split\": 12, \"min_samples_leaf\": 5}\n",
    "]\n",
    "\n",
    "results = []\n",
    "\n",
    "for i, params in enumerate(param_sets):\n",
    "    # Create balanced base estimator\n",
    "    base = DecisionTreeClassifier(\n",
    "        max_depth=params['max_depth'],\n",
    "        min_samples_split=params['min_samples_split'],\n",
    "        min_samples_leaf=params['min_samples_leaf'],\n",
    "        class_weight='balanced',\n",
    "        random_state=42\n",
    "    )\n",
    "\n",
    "    # Create AdaBoost model\n",
    "    model = AdaBoostClassifier(\n",
    "        estimator=base,\n",
    "        n_estimators=params['n_estimators'],\n",
    "        learning_rate=params['learning_rate'],\n",
    "        random_state=508312\n",
    "    )\n",
    "\n",
    "    # Fit model\n",
    "    model.fit(X_train_resampled, y_train_resampled)\n",
    "\n",
    "    # Predict probabilities\n",
    "    y_probs_test = model.predict_proba(X_test)[:, 1]\n",
    "    precisions, recalls, thresholds = precision_recall_curve(y_test, y_probs_test)\n",
    "    f1_scores = 2 * (precisions * recalls) / (precisions + recalls + 1e-10)\n",
    "    best_idx = np.argmax(f1_scores)\n",
    "    best_threshold = thresholds[best_idx]\n",
    "\n",
    "    # Predict with best threshold\n",
    "    y_train_probs = model.predict_proba(X_train_resampled)[:, 1]\n",
    "    y_train_pred = (y_train_probs >= best_threshold).astype(int)\n",
    "    y_test_pred = (y_probs_test >= best_threshold).astype(int)\n",
    "\n",
    "    # Training Metrics\n",
    "    train_acc = accuracy_score(y_train_resampled, y_train_pred)\n",
    "    train_prec = precision_score(y_train_resampled, y_train_pred)\n",
    "    train_rec = recall_score(y_train_resampled, y_train_pred)\n",
    "    train_f1 = f1_score(y_train_resampled, y_train_pred)\n",
    "\n",
    "    # Testing Metrics\n",
    "    test_acc = accuracy_score(y_test, y_test_pred)\n",
    "    test_prec = precision_score(y_test, y_test_pred)\n",
    "    test_rec0 = recall_score(y_test, y_test_pred, pos_label=0)\n",
    "    test_rec1 = recall_score(y_test, y_test_pred, pos_label=1)\n",
    "    test_f1 = f1_score(y_test, y_test_pred)\n",
    "    test_report = classification_report(y_test, y_test_pred, output_dict=True)\n",
    "\n",
    "    # Store results\n",
    "    results.append({\n",
    "        \"params\": params,\n",
    "        \"threshold\": best_threshold,\n",
    "        \"train_f1\": train_f1,\n",
    "        \"test_f1\": test_f1,\n",
    "        \"test_recall_1\": test_rec1,\n",
    "        \"test_precision\": test_prec,\n",
    "        \"test_accuracy\": test_acc\n",
    "    })\n",
    "\n",
    "    # Print results for this config\n",
    "    print(f\"\\n🔁 Run {i+1} with Params: {params}\")\n",
    "    print(f\"Best Threshold: {best_threshold:.3f}\")\n",
    "    print(\"\\nTraining Performance:\")\n",
    "    print(f\"Accuracy : {train_acc:.4f}\")\n",
    "    print(f\"Precision: {train_prec:.4f}\")\n",
    "    print(f\"Recall   : {train_rec:.4f}\")\n",
    "    print(f\"F1 Score : {train_f1:.4f}\")\n",
    "\n",
    "    print(\"\\nTest Performance:\")\n",
    "    print(f\"Accuracy : {test_acc:.4f}\")\n",
    "    print(f\"Precision: {test_prec:.4f}\")\n",
    "    print(f\"Recall_0 : {test_rec0:.4f}\")\n",
    "    print(f\"Recall_1 : {test_rec1:.4f}\")\n",
    "    print(f\"F1 Score : {test_f1:.4f}\")\n",
    "\n",
    "# 🔝 Find best config by test F1 or recall_1\n",
    "sorted_results = sorted(results, key=lambda x: (x[\"test_f1\"], x[\"test_recall_1\"]), reverse=True)\n",
    "best_config = sorted_results[0]\n",
    "\n",
    "print(\"\\n\\n🌟 Best Configuration Based on Test F1:\")\n",
    "print(f\"Params      : {best_config['params']}\")\n",
    "print(f\"Threshold   : {best_config['threshold']:.3f}\")\n",
    "print(f\"F1 Score    : {best_config['test_f1']:.4f}\")\n",
    "print(f\"Recall (1)  : {best_config['test_recall_1']:.4f}\")\n",
    "print(f\"Precision   : {best_config['test_precision']:.4f}\")\n",
    "print(f\"Accuracy    : {best_config['test_accuracy']:.4f}\")\n"
   ]
  },
  {
   "cell_type": "markdown",
   "id": "2e4193b7-5d5d-4918-aeea-776bc1308d86",
   "metadata": {},
   "source": [
    "### Final Model based on Manual Tuning for ADABOOST"
   ]
  },
  {
   "cell_type": "code",
   "execution_count": 102,
   "id": "6ba6b2c1-85cc-4570-b901-9f8d1b9a6bd1",
   "metadata": {
    "tags": []
   },
   "outputs": [
    {
     "name": "stdout",
     "output_type": "stream",
     "text": [
      "🎯 Final Model Evaluation (Original Test Set)\n",
      "\n",
      "Accuracy : 0.7137\n",
      "Precision: 0.3079\n",
      "Recall_0 : 0.7189\n",
      "Recall_1 : 0.6854\n",
      "F1 Score : 0.4249\n",
      "\n",
      "Classification Report:\n",
      "               precision    recall  f1-score   support\n",
      "\n",
      "           0       0.93      0.72      0.81     38813\n",
      "           1       0.31      0.69      0.42      7082\n",
      "\n",
      "    accuracy                           0.71     45895\n",
      "   macro avg       0.62      0.70      0.62     45895\n",
      "weighted avg       0.83      0.71      0.75     45895\n",
      "\n"
     ]
    }
   ],
   "source": [
    "# 🔹 Build final AdaBoost model with best parameters\n",
    "final_base = DecisionTreeClassifier(\n",
    "    max_depth=4,\n",
    "    min_samples_split=8,\n",
    "    min_samples_leaf=3,\n",
    "    class_weight='balanced',\n",
    "    random_state=508312\n",
    ")\n",
    "\n",
    "final_model = AdaBoostClassifier(\n",
    "    estimator=final_base,\n",
    "    n_estimators=300,\n",
    "    learning_rate=1.0,\n",
    "    random_state=508312\n",
    ")\n",
    "\n",
    "# 🔹 Convert X_train_resampled to DataFrame for training\n",
    "X_res_df = pd.DataFrame(X_train_resampled, columns=X_train.columns)\n",
    "final_model.fit(X_res_df, y_train_resampled)\n",
    "\n",
    "# 🔹 Convert X_test to DataFrame with correct columns\n",
    "X_test_df = pd.DataFrame(X_test, columns=X_train.columns)\n",
    "\n",
    "# 🔹 Predict on test set using best threshold\n",
    "best_threshold = 0.503\n",
    "y_probs = final_model.predict_proba(X_test_df)[:, 1]\n",
    "y_pred = (y_probs >= best_threshold).astype(int)\n",
    "\n",
    "# 🔹 Evaluate performance\n",
    "test_accuracy = accuracy_score(y_test, y_pred)\n",
    "test_precision = precision_score(y_test, y_pred)\n",
    "test_recall_0 = recall_score(y_test, y_pred, pos_label=0)\n",
    "test_recall_1 = recall_score(y_test, y_pred, pos_label=1)\n",
    "test_f1 = f1_score(y_test, y_pred)\n",
    "report = classification_report(y_test, y_pred)\n",
    "\n",
    "# 🔹 Display results\n",
    "print(\"🎯 Final Model Evaluation (Original Test Set)\\n\")\n",
    "print(f\"Accuracy : {test_accuracy:.4f}\")\n",
    "print(f\"Precision: {test_precision:.4f}\")\n",
    "print(f\"Recall_0 : {test_recall_0:.4f}\")\n",
    "print(f\"Recall_1 : {test_recall_1:.4f}\")\n",
    "print(f\"F1 Score : {test_f1:.4f}\")\n",
    "print(\"\\nClassification Report:\\n\", report)\n"
   ]
  },
  {
   "cell_type": "markdown",
   "id": "cb957f22-1868-4b18-af8d-526637888e9f",
   "metadata": {},
   "source": [
    "### Hyperparameter tuning for LightGBM using Optuna"
   ]
  },
  {
   "cell_type": "code",
   "execution_count": 153,
   "id": "a7f090d7-6449-49bf-9cea-e65d7e40b695",
   "metadata": {
    "tags": []
   },
   "outputs": [
    {
     "name": "stderr",
     "output_type": "stream",
     "text": [
      "[I 2025-04-06 23:15:12,518] A new study created in memory with name: no-name-de55850f-c7af-4e2f-9c13-966685752b20\n",
      "/Users/namithabhaskar/anaconda3/lib/python3.11/site-packages/sklearn/utils/validation.py:2739: UserWarning: X does not have valid feature names, but LGBMClassifier was fitted with feature names\n",
      "  warnings.warn(\n",
      "[I 2025-04-06 23:15:15,050] Trial 0 finished with value: 0.4264663668548464 and parameters: {'n_estimators': 211, 'learning_rate': 0.17982678921066053, 'num_leaves': 92, 'max_depth': 7, 'min_child_samples': 14, 'subsample': 0.9417239606031336, 'colsample_bytree': 0.5625730515079482, 'reg_alpha': 4.460175958961866, 'reg_lambda': 2.812968934970914}. Best is trial 0 with value: 0.4264663668548464.\n",
      "/Users/namithabhaskar/anaconda3/lib/python3.11/site-packages/sklearn/utils/validation.py:2739: UserWarning: X does not have valid feature names, but LGBMClassifier was fitted with feature names\n",
      "  warnings.warn(\n",
      "[I 2025-04-06 23:15:17,986] Trial 1 finished with value: 0.42513770655983973 and parameters: {'n_estimators': 402, 'learning_rate': 0.13272652476273505, 'num_leaves': 67, 'max_depth': 7, 'min_child_samples': 45, 'subsample': 0.9238514788154509, 'colsample_bytree': 0.816143671618796, 'reg_alpha': 4.828064552945638, 'reg_lambda': 3.893872833842438}. Best is trial 0 with value: 0.4264663668548464.\n",
      "/Users/namithabhaskar/anaconda3/lib/python3.11/site-packages/sklearn/utils/validation.py:2739: UserWarning: X does not have valid feature names, but LGBMClassifier was fitted with feature names\n",
      "  warnings.warn(\n",
      "[I 2025-04-06 23:15:20,847] Trial 2 finished with value: 0.42599027102154274 and parameters: {'n_estimators': 391, 'learning_rate': 0.13118943909136793, 'num_leaves': 73, 'max_depth': 6, 'min_child_samples': 32, 'subsample': 0.5668743924198874, 'colsample_bytree': 0.6567549025973816, 'reg_alpha': 4.206922231943946, 'reg_lambda': 3.2859067644544124}. Best is trial 0 with value: 0.4264663668548464.\n",
      "/Users/namithabhaskar/anaconda3/lib/python3.11/site-packages/sklearn/utils/validation.py:2739: UserWarning: X does not have valid feature names, but LGBMClassifier was fitted with feature names\n",
      "  warnings.warn(\n",
      "[I 2025-04-06 23:15:24,611] Trial 3 finished with value: 0.42419014759440293 and parameters: {'n_estimators': 480, 'learning_rate': 0.12748412544481055, 'num_leaves': 64, 'max_depth': 7, 'min_child_samples': 20, 'subsample': 0.8694977892759151, 'colsample_bytree': 0.5879651450954188, 'reg_alpha': 0.213034800511111, 'reg_lambda': 0.8698786158051036}. Best is trial 0 with value: 0.4264663668548464.\n",
      "/Users/namithabhaskar/anaconda3/lib/python3.11/site-packages/sklearn/utils/validation.py:2739: UserWarning: X does not have valid feature names, but LGBMClassifier was fitted with feature names\n",
      "  warnings.warn(\n",
      "[I 2025-04-06 23:15:26,318] Trial 4 finished with value: 0.4274427050105511 and parameters: {'n_estimators': 116, 'learning_rate': 0.10315987654818506, 'num_leaves': 90, 'max_depth': 9, 'min_child_samples': 10, 'subsample': 0.84056930329328, 'colsample_bytree': 0.7680532793734782, 'reg_alpha': 2.977249887687012, 'reg_lambda': 3.38604468466746}. Best is trial 4 with value: 0.4274427050105511.\n",
      "/Users/namithabhaskar/anaconda3/lib/python3.11/site-packages/sklearn/utils/validation.py:2739: UserWarning: X does not have valid feature names, but LGBMClassifier was fitted with feature names\n",
      "  warnings.warn(\n",
      "[I 2025-04-06 23:15:29,538] Trial 5 finished with value: 0.4196963643627647 and parameters: {'n_estimators': 389, 'learning_rate': 0.15982278640751255, 'num_leaves': 88, 'max_depth': 9, 'min_child_samples': 42, 'subsample': 0.9461904410872888, 'colsample_bytree': 0.7077960016431567, 'reg_alpha': 3.734371374031256, 'reg_lambda': 1.2068653169813792}. Best is trial 4 with value: 0.4274427050105511.\n",
      "/Users/namithabhaskar/anaconda3/lib/python3.11/site-packages/sklearn/utils/validation.py:2739: UserWarning: X does not have valid feature names, but LGBMClassifier was fitted with feature names\n",
      "  warnings.warn(\n",
      "[I 2025-04-06 23:15:32,915] Trial 6 finished with value: 0.4252979810265142 and parameters: {'n_estimators': 406, 'learning_rate': 0.04981173912647806, 'num_leaves': 93, 'max_depth': 7, 'min_child_samples': 18, 'subsample': 0.6962770774487919, 'colsample_bytree': 0.9288797820977353, 'reg_alpha': 0.08205056424878732, 'reg_lambda': 0.5065323140566613}. Best is trial 4 with value: 0.4274427050105511.\n",
      "/Users/namithabhaskar/anaconda3/lib/python3.11/site-packages/sklearn/utils/validation.py:2739: UserWarning: X does not have valid feature names, but LGBMClassifier was fitted with feature names\n",
      "  warnings.warn(\n",
      "[I 2025-04-06 23:15:36,218] Trial 7 finished with value: 0.42423126496041247 and parameters: {'n_estimators': 397, 'learning_rate': 0.07785205091943465, 'num_leaves': 64, 'max_depth': 10, 'min_child_samples': 36, 'subsample': 0.8723859516460958, 'colsample_bytree': 0.8663377034646276, 'reg_alpha': 1.3510539777897568, 'reg_lambda': 2.3526648648290505}. Best is trial 4 with value: 0.4274427050105511.\n",
      "/Users/namithabhaskar/anaconda3/lib/python3.11/site-packages/sklearn/utils/validation.py:2739: UserWarning: X does not have valid feature names, but LGBMClassifier was fitted with feature names\n",
      "  warnings.warn(\n",
      "[I 2025-04-06 23:15:38,369] Trial 8 finished with value: 0.4303990107956437 and parameters: {'n_estimators': 308, 'learning_rate': 0.054132803251142635, 'num_leaves': 22, 'max_depth': 6, 'min_child_samples': 25, 'subsample': 0.5547203287290425, 'colsample_bytree': 0.7481184547585733, 'reg_alpha': 2.9275635832918327, 'reg_lambda': 3.999184875848961}. Best is trial 8 with value: 0.4303990107956437.\n",
      "/Users/namithabhaskar/anaconda3/lib/python3.11/site-packages/sklearn/utils/validation.py:2739: UserWarning: X does not have valid feature names, but LGBMClassifier was fitted with feature names\n",
      "  warnings.warn(\n",
      "[I 2025-04-06 23:15:40,462] Trial 9 finished with value: 0.4272083136513935 and parameters: {'n_estimators': 248, 'learning_rate': 0.10277096650123438, 'num_leaves': 64, 'max_depth': 6, 'min_child_samples': 15, 'subsample': 0.9784398982153648, 'colsample_bytree': 0.7664877207440703, 'reg_alpha': 3.850154249028572, 'reg_lambda': 2.2444006895482533}. Best is trial 8 with value: 0.4303990107956437.\n",
      "/Users/namithabhaskar/anaconda3/lib/python3.11/site-packages/sklearn/utils/validation.py:2739: UserWarning: X does not have valid feature names, but LGBMClassifier was fitted with feature names\n",
      "  warnings.warn(\n",
      "[I 2025-04-06 23:15:42,215] Trial 10 finished with value: 0.42824514655500573 and parameters: {'n_estimators': 309, 'learning_rate': 0.2619956699583422, 'num_leaves': 20, 'max_depth': 3, 'min_child_samples': 23, 'subsample': 0.506394574424647, 'colsample_bytree': 0.9692852587269647, 'reg_alpha': 2.1087837079996805, 'reg_lambda': 4.589341933624492}. Best is trial 8 with value: 0.4303990107956437.\n",
      "/Users/namithabhaskar/anaconda3/lib/python3.11/site-packages/sklearn/utils/validation.py:2739: UserWarning: X does not have valid feature names, but LGBMClassifier was fitted with feature names\n",
      "  warnings.warn(\n",
      "[I 2025-04-06 23:15:44,027] Trial 11 finished with value: 0.4288329960489544 and parameters: {'n_estimators': 282, 'learning_rate': 0.2721648122273022, 'num_leaves': 20, 'max_depth': 3, 'min_child_samples': 25, 'subsample': 0.5149724692956319, 'colsample_bytree': 0.9756905197980625, 'reg_alpha': 2.0598463967871803, 'reg_lambda': 4.967709439772905}. Best is trial 8 with value: 0.4303990107956437.\n",
      "/Users/namithabhaskar/anaconda3/lib/python3.11/site-packages/sklearn/utils/validation.py:2739: UserWarning: X does not have valid feature names, but LGBMClassifier was fitted with feature names\n",
      "  warnings.warn(\n",
      "[I 2025-04-06 23:15:45,747] Trial 12 finished with value: 0.4282048751603671 and parameters: {'n_estimators': 298, 'learning_rate': 0.29002776492542615, 'num_leaves': 20, 'max_depth': 3, 'min_child_samples': 24, 'subsample': 0.6230549356235778, 'colsample_bytree': 0.8637190112668338, 'reg_alpha': 2.332740278549763, 'reg_lambda': 4.96811055837037}. Best is trial 8 with value: 0.4303990107956437.\n",
      "/Users/namithabhaskar/anaconda3/lib/python3.11/site-packages/sklearn/utils/validation.py:2739: UserWarning: X does not have valid feature names, but LGBMClassifier was fitted with feature names\n",
      "  warnings.warn(\n",
      "[I 2025-04-06 23:15:47,447] Trial 13 finished with value: 0.44792810783824266 and parameters: {'n_estimators': 199, 'learning_rate': 0.017837790129583725, 'num_leaves': 35, 'max_depth': 4, 'min_child_samples': 28, 'subsample': 0.504876045649069, 'colsample_bytree': 0.6523169458312557, 'reg_alpha': 1.4973733461860776, 'reg_lambda': 4.211047675407747}. Best is trial 13 with value: 0.44792810783824266.\n",
      "/Users/namithabhaskar/anaconda3/lib/python3.11/site-packages/sklearn/utils/validation.py:2739: UserWarning: X does not have valid feature names, but LGBMClassifier was fitted with feature names\n",
      "  warnings.warn(\n",
      "[I 2025-04-06 23:15:49,121] Trial 14 finished with value: 0.44506929102229364 and parameters: {'n_estimators': 161, 'learning_rate': 0.015462373219991353, 'num_leaves': 38, 'max_depth': 5, 'min_child_samples': 29, 'subsample': 0.667913772184876, 'colsample_bytree': 0.6482823241622155, 'reg_alpha': 1.1041579341719672, 'reg_lambda': 4.1568175605432724}. Best is trial 13 with value: 0.44792810783824266.\n",
      "/Users/namithabhaskar/anaconda3/lib/python3.11/site-packages/sklearn/utils/validation.py:2739: UserWarning: X does not have valid feature names, but LGBMClassifier was fitted with feature names\n",
      "  warnings.warn(\n",
      "[I 2025-04-06 23:15:50,772] Trial 15 finished with value: 0.44821465859260806 and parameters: {'n_estimators': 154, 'learning_rate': 0.012331659551010947, 'num_leaves': 40, 'max_depth': 4, 'min_child_samples': 32, 'subsample': 0.688929155954127, 'colsample_bytree': 0.6473689169918736, 'reg_alpha': 1.113072865068787, 'reg_lambda': 4.120566339129357}. Best is trial 15 with value: 0.44821465859260806.\n",
      "/Users/namithabhaskar/anaconda3/lib/python3.11/site-packages/sklearn/utils/validation.py:2739: UserWarning: X does not have valid feature names, but LGBMClassifier was fitted with feature names\n",
      "  warnings.warn(\n",
      "[I 2025-04-06 23:15:52,183] Trial 16 finished with value: 0.4481963874149113 and parameters: {'n_estimators': 101, 'learning_rate': 0.01556833056823175, 'num_leaves': 45, 'max_depth': 4, 'min_child_samples': 37, 'subsample': 0.7639548544031591, 'colsample_bytree': 0.5079343823598981, 'reg_alpha': 1.1120993500585845, 'reg_lambda': 1.7454396257227116}. Best is trial 15 with value: 0.44821465859260806.\n",
      "/Users/namithabhaskar/anaconda3/lib/python3.11/site-packages/sklearn/utils/validation.py:2739: UserWarning: X does not have valid feature names, but LGBMClassifier was fitted with feature names\n",
      "  warnings.warn(\n",
      "[I 2025-04-06 23:15:53,738] Trial 17 finished with value: 0.4292568395263373 and parameters: {'n_estimators': 133, 'learning_rate': 0.22340464436220642, 'num_leaves': 48, 'max_depth': 4, 'min_child_samples': 50, 'subsample': 0.771670709435641, 'colsample_bytree': 0.5094827664129484, 'reg_alpha': 0.9510454281056147, 'reg_lambda': 1.5641363362407266}. Best is trial 15 with value: 0.44821465859260806.\n",
      "/Users/namithabhaskar/anaconda3/lib/python3.11/site-packages/sklearn/utils/validation.py:2739: UserWarning: X does not have valid feature names, but LGBMClassifier was fitted with feature names\n",
      "  warnings.warn(\n",
      "[I 2025-04-06 23:15:55,200] Trial 18 finished with value: 0.44078471863706764 and parameters: {'n_estimators': 100, 'learning_rate': 0.049465077160713834, 'num_leaves': 51, 'max_depth': 5, 'min_child_samples': 35, 'subsample': 0.7636452265982645, 'colsample_bytree': 0.5103129789169024, 'reg_alpha': 0.6409456201802177, 'reg_lambda': 1.870000278868431}. Best is trial 15 with value: 0.44821465859260806.\n",
      "/Users/namithabhaskar/anaconda3/lib/python3.11/site-packages/sklearn/utils/validation.py:2739: UserWarning: X does not have valid feature names, but LGBMClassifier was fitted with feature names\n",
      "  warnings.warn(\n",
      "[I 2025-04-06 23:15:56,891] Trial 19 finished with value: 0.44759814181428353 and parameters: {'n_estimators': 170, 'learning_rate': 0.011198490931075333, 'num_leaves': 37, 'max_depth': 4, 'min_child_samples': 40, 'subsample': 0.7110588379955106, 'colsample_bytree': 0.5870162361587591, 'reg_alpha': 1.6964189506459315, 'reg_lambda': 2.8047242073952017}. Best is trial 15 with value: 0.44821465859260806.\n",
      "/Users/namithabhaskar/anaconda3/lib/python3.11/site-packages/sklearn/utils/validation.py:2739: UserWarning: X does not have valid feature names, but LGBMClassifier was fitted with feature names\n",
      "  warnings.warn(\n",
      "[I 2025-04-06 23:15:58,681] Trial 20 finished with value: 0.4263585971092576 and parameters: {'n_estimators': 154, 'learning_rate': 0.21064014245137702, 'num_leaves': 51, 'max_depth': 5, 'min_child_samples': 37, 'subsample': 0.8126028711804438, 'colsample_bytree': 0.5493588846050406, 'reg_alpha': 0.6532870247372258, 'reg_lambda': 0.1682213200083824}. Best is trial 15 with value: 0.44821465859260806.\n",
      "/Users/namithabhaskar/anaconda3/lib/python3.11/site-packages/sklearn/utils/validation.py:2739: UserWarning: X does not have valid feature names, but LGBMClassifier was fitted with feature names\n",
      "  warnings.warn(\n",
      "[I 2025-04-06 23:16:00,425] Trial 21 finished with value: 0.44058169710620376 and parameters: {'n_estimators': 204, 'learning_rate': 0.037035850911874786, 'num_leaves': 35, 'max_depth': 4, 'min_child_samples': 30, 'subsample': 0.6174412346639456, 'colsample_bytree': 0.6410634371246697, 'reg_alpha': 1.528583639745184, 'reg_lambda': 3.5899608674329153}. Best is trial 15 with value: 0.44821465859260806.\n",
      "/Users/namithabhaskar/anaconda3/lib/python3.11/site-packages/sklearn/utils/validation.py:2739: UserWarning: X does not have valid feature names, but LGBMClassifier was fitted with feature names\n",
      "  warnings.warn(\n",
      "[I 2025-04-06 23:16:02,023] Trial 22 finished with value: 0.4327169137173483 and parameters: {'n_estimators': 204, 'learning_rate': 0.07915021323089055, 'num_leaves': 31, 'max_depth': 4, 'min_child_samples': 33, 'subsample': 0.6521325761859573, 'colsample_bytree': 0.6926434841990197, 'reg_alpha': 1.7664831821257123, 'reg_lambda': 4.377865241106434}. Best is trial 15 with value: 0.44821465859260806.\n",
      "/Users/namithabhaskar/anaconda3/lib/python3.11/site-packages/sklearn/utils/validation.py:2739: UserWarning: X does not have valid feature names, but LGBMClassifier was fitted with feature names\n",
      "  warnings.warn(\n",
      "[I 2025-04-06 23:16:03,841] Trial 23 finished with value: 0.4399271844660194 and parameters: {'n_estimators': 180, 'learning_rate': 0.029926012261594914, 'num_leaves': 43, 'max_depth': 5, 'min_child_samples': 29, 'subsample': 0.7332166533282914, 'colsample_bytree': 0.6149189243404609, 'reg_alpha': 0.6236241829067334, 'reg_lambda': 1.7643846795923848}. Best is trial 15 with value: 0.44821465859260806.\n",
      "/Users/namithabhaskar/anaconda3/lib/python3.11/site-packages/sklearn/utils/validation.py:2739: UserWarning: X does not have valid feature names, but LGBMClassifier was fitted with feature names\n",
      "  warnings.warn(\n",
      "[I 2025-04-06 23:16:05,434] Trial 24 finished with value: 0.4333398209420008 and parameters: {'n_estimators': 236, 'learning_rate': 0.0718110752728629, 'num_leaves': 29, 'max_depth': 3, 'min_child_samples': 40, 'subsample': 0.7983343155483057, 'colsample_bytree': 0.6979701768854292, 'reg_alpha': 2.876471227308522, 'reg_lambda': 2.9638320176580253}. Best is trial 15 with value: 0.44821465859260806.\n",
      "/Users/namithabhaskar/anaconda3/lib/python3.11/site-packages/sklearn/utils/validation.py:2739: UserWarning: X does not have valid feature names, but LGBMClassifier was fitted with feature names\n",
      "  warnings.warn(\n",
      "[I 2025-04-06 23:16:07,140] Trial 25 finished with value: 0.44782308223911543 and parameters: {'n_estimators': 137, 'learning_rate': 0.02419190558332881, 'num_leaves': 56, 'max_depth': 4, 'min_child_samples': 45, 'subsample': 0.5719205493800139, 'colsample_bytree': 0.5492555156505469, 'reg_alpha': 1.1877578868577765, 'reg_lambda': 3.682902299012909}. Best is trial 15 with value: 0.44821465859260806.\n",
      "/Users/namithabhaskar/anaconda3/lib/python3.11/site-packages/sklearn/utils/validation.py:2739: UserWarning: X does not have valid feature names, but LGBMClassifier was fitted with feature names\n",
      "  warnings.warn(\n",
      "[I 2025-04-06 23:16:08,561] Trial 26 finished with value: 0.4396525293817067 and parameters: {'n_estimators': 101, 'learning_rate': 0.05736989115154594, 'num_leaves': 44, 'max_depth': 5, 'min_child_samples': 27, 'subsample': 0.6064601620189392, 'colsample_bytree': 0.613556691272201, 'reg_alpha': 1.8304873330827047, 'reg_lambda': 4.428357465003345}. Best is trial 15 with value: 0.44821465859260806.\n",
      "/Users/namithabhaskar/anaconda3/lib/python3.11/site-packages/sklearn/utils/validation.py:2739: UserWarning: X does not have valid feature names, but LGBMClassifier was fitted with feature names\n",
      "  warnings.warn(\n",
      "[I 2025-04-06 23:16:10,319] Trial 27 finished with value: 0.4297414643773436 and parameters: {'n_estimators': 257, 'learning_rate': 0.09165037627743164, 'num_leaves': 29, 'max_depth': 4, 'min_child_samples': 32, 'subsample': 0.6785345928695492, 'colsample_bytree': 0.7237530291059479, 'reg_alpha': 0.9061880025545773, 'reg_lambda': 2.1248669195557612}. Best is trial 15 with value: 0.44821465859260806.\n",
      "/Users/namithabhaskar/anaconda3/lib/python3.11/site-packages/sklearn/utils/validation.py:2739: UserWarning: X does not have valid feature names, but LGBMClassifier was fitted with feature names\n",
      "  warnings.warn(\n",
      "[I 2025-04-06 23:16:11,676] Trial 28 finished with value: 0.4480651731160896 and parameters: {'n_estimators': 136, 'learning_rate': 0.03553529648234707, 'num_leaves': 56, 'max_depth': 3, 'min_child_samples': 37, 'subsample': 0.7322890223262833, 'colsample_bytree': 0.6772286248296339, 'reg_alpha': 0.35851722088014526, 'reg_lambda': 1.1006907067025682}. Best is trial 15 with value: 0.44821465859260806.\n",
      "/Users/namithabhaskar/anaconda3/lib/python3.11/site-packages/sklearn/utils/validation.py:2739: UserWarning: X does not have valid feature names, but LGBMClassifier was fitted with feature names\n",
      "  warnings.warn(\n",
      "[I 2025-04-06 23:16:13,254] Trial 29 finished with value: 0.4395737589010656 and parameters: {'n_estimators': 226, 'learning_rate': 0.04394478337883439, 'num_leaves': 75, 'max_depth': 3, 'min_child_samples': 39, 'subsample': 0.7361066883593173, 'colsample_bytree': 0.796778906082172, 'reg_alpha': 0.268047310329352, 'reg_lambda': 1.2602733159566608}. Best is trial 15 with value: 0.44821465859260806.\n"
     ]
    },
    {
     "name": "stdout",
     "output_type": "stream",
     "text": [
      "\n",
      "🎯 Best Hyperparameters: {'n_estimators': 154, 'learning_rate': 0.012331659551010947, 'num_leaves': 40, 'max_depth': 4, 'min_child_samples': 32, 'subsample': 0.688929155954127, 'colsample_bytree': 0.6473689169918736, 'reg_alpha': 1.113072865068787, 'reg_lambda': 4.120566339129357}\n"
     ]
    },
    {
     "name": "stderr",
     "output_type": "stream",
     "text": [
      "/Users/namithabhaskar/anaconda3/lib/python3.11/site-packages/sklearn/utils/validation.py:2739: UserWarning: X does not have valid feature names, but LGBMClassifier was fitted with feature names\n",
      "  warnings.warn(\n",
      "/Users/namithabhaskar/anaconda3/lib/python3.11/site-packages/sklearn/utils/validation.py:2739: UserWarning: X does not have valid feature names, but LGBMClassifier was fitted with feature names\n",
      "  warnings.warn(\n"
     ]
    },
    {
     "name": "stdout",
     "output_type": "stream",
     "text": [
      "\n",
      "✅ Best Threshold: 0.579\n",
      "\n",
      "🔹 Training Performance:\n",
      "Accuracy : 0.7130\n",
      "Precision: 0.7621\n",
      "Recall   : 0.6254\n",
      "F1 Score : 0.6870\n",
      "\n",
      "---------------------------------------\n",
      "\n",
      "🔹 Test Performance:\n",
      "Accuracy : 0.7697\n",
      "Precision: 0.3556\n",
      "Recall_0 : 0.7995\n",
      "Recall_1 : 0.6062\n",
      "F1 Score : 0.4482\n",
      "\n",
      "Classification Report:\n",
      "               precision    recall  f1-score   support\n",
      "\n",
      "           0       0.92      0.80      0.85     38813\n",
      "           1       0.36      0.61      0.45      7082\n",
      "\n",
      "    accuracy                           0.77     45895\n",
      "   macro avg       0.64      0.70      0.65     45895\n",
      "weighted avg       0.83      0.77      0.79     45895\n",
      "\n"
     ]
    }
   ],
   "source": [
    "import lightgbm as lgb\n",
    "\n",
    "# Step 1: Define the Optuna objective function\n",
    "def objective(trial):\n",
    "    params = {\n",
    "        \"objective\": \"binary\",\n",
    "        \"metric\": \"binary_logloss\",\n",
    "        \"boosting_type\": \"gbdt\",\n",
    "        \"verbosity\": -1,\n",
    "        \"random_state\": 508312,\n",
    "        \"n_estimators\": trial.suggest_int(\"n_estimators\", 100, 500),\n",
    "        \"learning_rate\": trial.suggest_float(\"learning_rate\", 0.01, 0.3),\n",
    "        \"num_leaves\": trial.suggest_int(\"num_leaves\", 20, 100),\n",
    "        \"max_depth\": trial.suggest_int(\"max_depth\", 3, 10),\n",
    "        \"min_child_samples\": trial.suggest_int(\"min_child_samples\", 10, 50),\n",
    "        \"subsample\": trial.suggest_float(\"subsample\", 0.5, 1.0),\n",
    "        \"colsample_bytree\": trial.suggest_float(\"colsample_bytree\", 0.5, 1.0),\n",
    "        \"reg_alpha\": trial.suggest_float(\"reg_alpha\", 0.0, 5.0),\n",
    "        \"reg_lambda\": trial.suggest_float(\"reg_lambda\", 0.0, 5.0)\n",
    "    }\n",
    "\n",
    "    model = lgb.LGBMClassifier(**params)\n",
    "    model.fit(X_train_resampled, y_train_resampled)\n",
    "\n",
    "    y_probs = model.predict_proba(X_test)[:, 1]\n",
    "    thresholds = np.linspace(0.3, 0.7, 100)\n",
    "    f1s = [f1_score(y_test, y_probs >= t) for t in thresholds]\n",
    "    return max(f1s)\n",
    "\n",
    "# Step 2: Run Optuna optimization\n",
    "study = optuna.create_study(direction=\"maximize\")\n",
    "study.optimize(objective, n_trials=30)\n",
    "\n",
    "# Step 3: Train best LightGBM model\n",
    "best_params = study.best_trial.params\n",
    "print(\"\\n🎯 Best Hyperparameters:\", best_params)\n",
    "\n",
    "final_lgbm = lgb.LGBMClassifier(\n",
    "    objective=\"binary\", metric=\"binary_logloss\", random_state=508312, **best_params\n",
    ")\n",
    "final_lgbm.fit(X_train_resampled, y_train_resampled)\n",
    "\n",
    "# Step 4: Threshold tuning on test set\n",
    "y_test_probs = final_lgbm.predict_proba(X_test)[:, 1]\n",
    "thresholds = np.linspace(0.3, 0.7, 100)\n",
    "f1s = [f1_score(y_test, y_test_probs >= t) for t in thresholds]\n",
    "best_threshold = thresholds[np.argmax(f1s)]\n",
    "\n",
    "# Step 5: Predict and evaluate on both train and test\n",
    "y_train_probs = final_lgbm.predict_proba(X_train_resampled)[:, 1]\n",
    "y_train_pred = (y_train_probs >= best_threshold).astype(int)\n",
    "y_test_pred = (y_test_probs >= best_threshold).astype(int)\n",
    "\n",
    "# Training Metrics\n",
    "train_acc = accuracy_score(y_train_resampled, y_train_pred)\n",
    "train_prec = precision_score(y_train_resampled, y_train_pred)\n",
    "train_rec = recall_score(y_train_resampled, y_train_pred)\n",
    "train_f1 = f1_score(y_train_resampled, y_train_pred)\n",
    "\n",
    "# Test Metrics\n",
    "test_acc = accuracy_score(y_test, y_test_pred)\n",
    "test_prec = precision_score(y_test, y_test_pred)\n",
    "test_rec_0 = recall_score(y_test, y_test_pred, pos_label=0)\n",
    "test_rec_1 = recall_score(y_test, y_test_pred, pos_label=1)\n",
    "test_f1 = f1_score(y_test, y_test_pred)\n",
    "test_report = classification_report(y_test, y_test_pred)\n",
    "\n",
    "# Print Results\n",
    "print(f\"\\n✅ Best Threshold: {best_threshold:.3f}\")\n",
    "\n",
    "print(\"\\n🔹 Training Performance:\")\n",
    "print(f\"Accuracy : {train_acc:.4f}\")\n",
    "print(f\"Precision: {train_prec:.4f}\")\n",
    "print(f\"Recall   : {train_rec:.4f}\")\n",
    "print(f\"F1 Score : {train_f1:.4f}\")\n",
    "\n",
    "print(\"\\n---------------------------------------\\n\")\n",
    "\n",
    "print(\"🔹 Test Performance:\")\n",
    "print(f\"Accuracy : {test_acc:.4f}\")\n",
    "print(f\"Precision: {test_prec:.4f}\")\n",
    "print(f\"Recall_0 : {test_rec_0:.4f}\")\n",
    "print(f\"Recall_1 : {test_rec_1:.4f}\")\n",
    "print(f\"F1 Score : {test_f1:.4f}\")\n",
    "\n",
    "print(\"\\nClassification Report:\\n\", test_report)"
   ]
  },
  {
   "cell_type": "markdown",
   "id": "b5c43a52-db8c-411d-abcb-e2b52e4f552c",
   "metadata": {},
   "source": [
    "### Manual Tuning of LightGBM based on the above OPTUNA hyperparameter tuning"
   ]
  },
  {
   "cell_type": "code",
   "execution_count": 366,
   "id": "ac951ba2-3750-4469-b5d5-408e68ce439d",
   "metadata": {
    "tags": []
   },
   "outputs": [
    {
     "name": "stderr",
     "output_type": "stream",
     "text": [
      "/Users/namithabhaskar/anaconda3/lib/python3.11/site-packages/sklearn/utils/validation.py:2739: UserWarning: X does not have valid feature names, but LGBMClassifier was fitted with feature names\n",
      "  warnings.warn(\n",
      "/Users/namithabhaskar/anaconda3/lib/python3.11/site-packages/sklearn/utils/validation.py:2739: UserWarning: X does not have valid feature names, but LGBMClassifier was fitted with feature names\n",
      "  warnings.warn(\n"
     ]
    },
    {
     "name": "stdout",
     "output_type": "stream",
     "text": [
      "\n",
      "✅ Best Threshold: 0.563\n",
      "\n",
      "🔹 Training Performance:\n",
      "Accuracy : 0.7303\n",
      "Precision: 0.7521\n",
      "Recall   : 0.6929\n",
      "F1 Score : 0.7212\n",
      "\n",
      "---------------------------------------\n",
      "\n",
      "🔹 Test Performance:\n",
      "Accuracy : 0.7481\n",
      "Precision: 0.3368\n",
      "Recall_0 : 0.7654\n",
      "Recall_1 : 0.6531\n",
      "F1 Score : 0.4444\n",
      "\n",
      "Classification Report:\n",
      "               precision    recall  f1-score   support\n",
      "\n",
      "           0       0.92      0.77      0.84     38813\n",
      "           1       0.34      0.65      0.44      7082\n",
      "\n",
      "    accuracy                           0.75     45895\n",
      "   macro avg       0.63      0.71      0.64     45895\n",
      "weighted avg       0.83      0.75      0.78     45895\n",
      "\n"
     ]
    },
    {
     "data": {
      "image/png": "[encoded data removed]",
      "text/plain": [
       "<Figure size 600x500 with 2 Axes>"
      ]
     },
     "metadata": {},
     "output_type": "display_data"
    }
   ],
   "source": [
    "import lightgbm as lgb\n",
    "from sklearn.metrics import confusion_matrix, ConfusionMatrixDisplay\n",
    "import matplotlib.pyplot as plt\n",
    "\n",
    "# 🛠️ Step 1: Manually set LightGBM parameters\n",
    "manual_params = {\n",
    "    \"n_estimators\": 163, #95, 180\n",
    "    \"learning_rate\": 0.025, #0.025\n",
    "    \"num_leaves\": 60, #60, 40\n",
    "    \"max_depth\": 4, #5\n",
    "    \"min_child_samples\": 15,\n",
    "    \"subsample\": 0.8,\n",
    "    \"colsample_bytree\": 0.7,\n",
    "    \"reg_alpha\": 1.0,\n",
    "    \"reg_lambda\": 4.0,\n",
    "    \"random_state\": 508312,\n",
    "    \"objective\": \"binary\",\n",
    "    \"metric\": \"binary_logloss\"\n",
    "}\n",
    "\n",
    "# 🔁 Step 2: Train the model\n",
    "manual_lgbm = lgb.LGBMClassifier(**manual_params)\n",
    "manual_lgbm.fit(X_train_resampled, y_train_resampled)\n",
    "\n",
    "# 📈 Step 3: Threshold tuning on test set\n",
    "y_test_probs = manual_lgbm.predict_proba(X_test)[:, 1]\n",
    "thresholds = np.linspace(0.3, 0.7, 100)\n",
    "f1s = [f1_score(y_test, y_test_probs >= t) for t in thresholds]\n",
    "best_threshold = thresholds[np.argmax(f1s)]\n",
    "\n",
    "# 🎯 Step 4: Evaluate on training + test sets\n",
    "y_train_probs = manual_lgbm.predict_proba(X_train_resampled)[:, 1]\n",
    "y_train_pred = (y_train_probs >= best_threshold).astype(int)\n",
    "y_test_pred = (y_test_probs >= best_threshold).astype(int)\n",
    "\n",
    "# Training Evaluation\n",
    "train_acc = accuracy_score(y_train_resampled, y_train_pred)\n",
    "train_prec = precision_score(y_train_resampled, y_train_pred)\n",
    "train_rec = recall_score(y_train_resampled, y_train_pred)\n",
    "train_f1 = f1_score(y_train_resampled, y_train_pred)\n",
    "\n",
    "# Test Evaluation\n",
    "test_acc = accuracy_score(y_test, y_test_pred)\n",
    "test_prec = precision_score(y_test, y_test_pred)\n",
    "test_rec_0 = recall_score(y_test, y_test_pred, pos_label=0)\n",
    "test_rec_1 = recall_score(y_test, y_test_pred, pos_label=1)\n",
    "test_f1 = f1_score(y_test, y_test_pred)\n",
    "test_report = classification_report(y_test, y_test_pred)\n",
    "\n",
    "# 📊 Step 5: Display results\n",
    "print(f\"\\n✅ Best Threshold: {best_threshold:.3f}\")\n",
    "\n",
    "print(\"\\n🔹 Training Performance:\")\n",
    "print(f\"Accuracy : {train_acc:.4f}\")\n",
    "print(f\"Precision: {train_prec:.4f}\")\n",
    "print(f\"Recall   : {train_rec:.4f}\")\n",
    "print(f\"F1 Score : {train_f1:.4f}\")\n",
    "\n",
    "print(\"\\n---------------------------------------\\n\")\n",
    "\n",
    "print(\"🔹 Test Performance:\")\n",
    "print(f\"Accuracy : {test_acc:.4f}\")\n",
    "print(f\"Precision: {test_prec:.4f}\")\n",
    "print(f\"Recall_0 : {test_rec_0:.4f}\")\n",
    "print(f\"Recall_1 : {test_rec_1:.4f}\")\n",
    "print(f\"F1 Score : {test_f1:.4f}\")\n",
    "\n",
    "print(\"\\nClassification Report:\\n\", test_report)\n",
    "\n",
    "\n",
    "cm = confusion_matrix(y_test, y_test_pred)\n",
    "\n",
    "# Plot using seaborn for full control\n",
    "plt.figure(figsize=(6, 5))\n",
    "sns.heatmap(cm, annot=True, fmt='d', cmap=\"Blues\", xticklabels=[\"No Diabetes\", \"Diabetes\"], yticklabels=[\"No Diabetes\", \"Diabetes\"])\n",
    "plt.xlabel(\"Predicted Label\")\n",
    "plt.ylabel(\"True Label\")\n",
    "plt.title(\"Confusion Matrix - LightGBM on Original Test Set\")\n",
    "plt.tight_layout()\n",
    "plt.show()"
   ]
  },
  {
   "cell_type": "markdown",
   "id": "c50d84d4-0e52-4782-a63d-e279c672b73b",
   "metadata": {},
   "source": [
    "### Hyperparameter Tuning for XGBoost"
   ]
  },
  {
   "cell_type": "code",
   "execution_count": 155,
   "id": "fb1f68f6-c808-4fb4-a2df-ffc41c691e3e",
   "metadata": {
    "tags": []
   },
   "outputs": [
    {
     "name": "stderr",
     "output_type": "stream",
     "text": [
      "[I 2025-04-06 23:26:11,814] A new study created in memory with name: no-name-eebb8fee-663a-4afa-a4cf-5994eb1a7493\n",
      "/Users/namithabhaskar/anaconda3/lib/python3.11/site-packages/xgboost/core.py:158: UserWarning: [23:26:11] WARNING: /Users/runner/work/xgboost/xgboost/src/learner.cc:740: \n",
      "Parameters: { \"use_label_encoder\" } are not used.\n",
      "\n",
      "  warnings.warn(smsg, UserWarning)\n",
      "[I 2025-04-06 23:26:14,147] Trial 0 finished with value: 0.4180161943319838 and parameters: {'n_estimators': 267, 'max_depth': 8, 'learning_rate': 0.1505294764685276, 'subsample': 0.9739787319168784, 'colsample_bytree': 0.6806362392149359, 'reg_alpha': 2.682543824187494, 'reg_lambda': 3.3056788412836466, 'min_child_weight': 2}. Best is trial 0 with value: 0.4180161943319838.\n",
      "/Users/namithabhaskar/anaconda3/lib/python3.11/site-packages/xgboost/core.py:158: UserWarning: [23:26:14] WARNING: /Users/runner/work/xgboost/xgboost/src/learner.cc:740: \n",
      "Parameters: { \"use_label_encoder\" } are not used.\n",
      "\n",
      "  warnings.warn(smsg, UserWarning)\n",
      "[I 2025-04-06 23:26:15,423] Trial 1 finished with value: 0.4295409984415062 and parameters: {'n_estimators': 141, 'max_depth': 4, 'learning_rate': 0.27531825705425267, 'subsample': 0.6036669674428843, 'colsample_bytree': 0.8955106153889281, 'reg_alpha': 0.008824285518264086, 'reg_lambda': 3.035006821295382, 'min_child_weight': 8}. Best is trial 1 with value: 0.4295409984415062.\n",
      "/Users/namithabhaskar/anaconda3/lib/python3.11/site-packages/xgboost/core.py:158: UserWarning: [23:26:15] WARNING: /Users/runner/work/xgboost/xgboost/src/learner.cc:740: \n",
      "Parameters: { \"use_label_encoder\" } are not used.\n",
      "\n",
      "  warnings.warn(smsg, UserWarning)\n",
      "[I 2025-04-06 23:26:18,340] Trial 2 finished with value: 0.41541070995880786 and parameters: {'n_estimators': 353, 'max_depth': 8, 'learning_rate': 0.1472624220234163, 'subsample': 0.8285081459236805, 'colsample_bytree': 0.6022903979705634, 'reg_alpha': 0.7977146319354506, 'reg_lambda': 2.2313009384869353, 'min_child_weight': 3}. Best is trial 1 with value: 0.4295409984415062.\n",
      "/Users/namithabhaskar/anaconda3/lib/python3.11/site-packages/xgboost/core.py:158: UserWarning: [23:26:18] WARNING: /Users/runner/work/xgboost/xgboost/src/learner.cc:740: \n",
      "Parameters: { \"use_label_encoder\" } are not used.\n",
      "\n",
      "  warnings.warn(smsg, UserWarning)\n",
      "[I 2025-04-06 23:26:22,069] Trial 3 finished with value: 0.3941145049288593 and parameters: {'n_estimators': 388, 'max_depth': 10, 'learning_rate': 0.2320187892210583, 'subsample': 0.93789214510859, 'colsample_bytree': 0.5302744385405578, 'reg_alpha': 0.7046169139393355, 'reg_lambda': 2.259305952892836, 'min_child_weight': 5}. Best is trial 1 with value: 0.4295409984415062.\n",
      "/Users/namithabhaskar/anaconda3/lib/python3.11/site-packages/xgboost/core.py:158: UserWarning: [23:26:22] WARNING: /Users/runner/work/xgboost/xgboost/src/learner.cc:740: \n",
      "Parameters: { \"use_label_encoder\" } are not used.\n",
      "\n",
      "  warnings.warn(smsg, UserWarning)\n",
      "[I 2025-04-06 23:26:24,042] Trial 4 finished with value: 0.4275394368273625 and parameters: {'n_estimators': 400, 'max_depth': 3, 'learning_rate': 0.18167213935241108, 'subsample': 0.5086320448154523, 'colsample_bytree': 0.7616091641897843, 'reg_alpha': 3.751657741236169, 'reg_lambda': 0.3699983023853426, 'min_child_weight': 3}. Best is trial 1 with value: 0.4295409984415062.\n",
      "/Users/namithabhaskar/anaconda3/lib/python3.11/site-packages/xgboost/core.py:158: UserWarning: [23:26:24] WARNING: /Users/runner/work/xgboost/xgboost/src/learner.cc:740: \n",
      "Parameters: { \"use_label_encoder\" } are not used.\n",
      "\n",
      "  warnings.warn(smsg, UserWarning)\n",
      "[I 2025-04-06 23:26:25,635] Trial 5 finished with value: 0.4302549183965288 and parameters: {'n_estimators': 230, 'max_depth': 4, 'learning_rate': 0.09583619964013156, 'subsample': 0.7066985588671281, 'colsample_bytree': 0.8739697891123542, 'reg_alpha': 0.6871310935451447, 'reg_lambda': 2.320351484708474, 'min_child_weight': 4}. Best is trial 5 with value: 0.4302549183965288.\n",
      "/Users/namithabhaskar/anaconda3/lib/python3.11/site-packages/xgboost/core.py:158: UserWarning: [23:26:25] WARNING: /Users/runner/work/xgboost/xgboost/src/learner.cc:740: \n",
      "Parameters: { \"use_label_encoder\" } are not used.\n",
      "\n",
      "  warnings.warn(smsg, UserWarning)\n",
      "[I 2025-04-06 23:26:27,774] Trial 6 finished with value: 0.42385411532774764 and parameters: {'n_estimators': 278, 'max_depth': 6, 'learning_rate': 0.18869481217061732, 'subsample': 0.7455288161446848, 'colsample_bytree': 0.8122794272977929, 'reg_alpha': 2.697328116209256, 'reg_lambda': 0.37459641229646456, 'min_child_weight': 3}. Best is trial 5 with value: 0.4302549183965288.\n",
      "/Users/namithabhaskar/anaconda3/lib/python3.11/site-packages/xgboost/core.py:158: UserWarning: [23:26:27] WARNING: /Users/runner/work/xgboost/xgboost/src/learner.cc:740: \n",
      "Parameters: { \"use_label_encoder\" } are not used.\n",
      "\n",
      "  warnings.warn(smsg, UserWarning)\n",
      "[I 2025-04-06 23:26:29,723] Trial 7 finished with value: 0.43056618209640396 and parameters: {'n_estimators': 317, 'max_depth': 5, 'learning_rate': 0.07949114576158527, 'subsample': 0.9883546329673955, 'colsample_bytree': 0.5060418132500586, 'reg_alpha': 0.40711861876752353, 'reg_lambda': 2.07979450238758, 'min_child_weight': 7}. Best is trial 7 with value: 0.43056618209640396.\n",
      "/Users/namithabhaskar/anaconda3/lib/python3.11/site-packages/xgboost/core.py:158: UserWarning: [23:26:29] WARNING: /Users/runner/work/xgboost/xgboost/src/learner.cc:740: \n",
      "Parameters: { \"use_label_encoder\" } are not used.\n",
      "\n",
      "  warnings.warn(smsg, UserWarning)\n",
      "[I 2025-04-06 23:26:31,381] Trial 8 finished with value: 0.42378497790868924 and parameters: {'n_estimators': 111, 'max_depth': 9, 'learning_rate': 0.09519041220096436, 'subsample': 0.8470857723647982, 'colsample_bytree': 0.9821053303837266, 'reg_alpha': 0.9956711813922536, 'reg_lambda': 3.1069537784979238, 'min_child_weight': 5}. Best is trial 7 with value: 0.43056618209640396.\n",
      "/Users/namithabhaskar/anaconda3/lib/python3.11/site-packages/xgboost/core.py:158: UserWarning: [23:26:31] WARNING: /Users/runner/work/xgboost/xgboost/src/learner.cc:740: \n",
      "Parameters: { \"use_label_encoder\" } are not used.\n",
      "\n",
      "  warnings.warn(smsg, UserWarning)\n",
      "[I 2025-04-06 23:26:33,499] Trial 9 finished with value: 0.4163855421686747 and parameters: {'n_estimators': 230, 'max_depth': 8, 'learning_rate': 0.19373977386410413, 'subsample': 0.6188265988511464, 'colsample_bytree': 0.6392114492229173, 'reg_alpha': 2.5412742027732387, 'reg_lambda': 2.8133233445065176, 'min_child_weight': 10}. Best is trial 7 with value: 0.43056618209640396.\n",
      "/Users/namithabhaskar/anaconda3/lib/python3.11/site-packages/xgboost/core.py:158: UserWarning: [23:26:33] WARNING: /Users/runner/work/xgboost/xgboost/src/learner.cc:740: \n",
      "Parameters: { \"use_label_encoder\" } are not used.\n",
      "\n",
      "  warnings.warn(smsg, UserWarning)\n",
      "[I 2025-04-06 23:26:35,537] Trial 10 finished with value: 0.43873815136165306 and parameters: {'n_estimators': 320, 'max_depth': 5, 'learning_rate': 0.019216577110777906, 'subsample': 0.8644844757774437, 'colsample_bytree': 0.5007186153572525, 'reg_alpha': 4.859604452687263, 'reg_lambda': 4.511478134008755, 'min_child_weight': 7}. Best is trial 10 with value: 0.43873815136165306.\n",
      "/Users/namithabhaskar/anaconda3/lib/python3.11/site-packages/xgboost/core.py:158: UserWarning: [23:26:35] WARNING: /Users/runner/work/xgboost/xgboost/src/learner.cc:740: \n",
      "Parameters: { \"use_label_encoder\" } are not used.\n",
      "\n",
      "  warnings.warn(smsg, UserWarning)\n",
      "[I 2025-04-06 23:26:37,831] Trial 11 finished with value: 0.4377054493263577 and parameters: {'n_estimators': 318, 'max_depth': 6, 'learning_rate': 0.016820484188837276, 'subsample': 0.8893345438746688, 'colsample_bytree': 0.5098927550399959, 'reg_alpha': 4.6584364823916165, 'reg_lambda': 4.8408248202407425, 'min_child_weight': 7}. Best is trial 10 with value: 0.43873815136165306.\n",
      "/Users/namithabhaskar/anaconda3/lib/python3.11/site-packages/xgboost/core.py:158: UserWarning: [23:26:37] WARNING: /Users/runner/work/xgboost/xgboost/src/learner.cc:740: \n",
      "Parameters: { \"use_label_encoder\" } are not used.\n",
      "\n",
      "  warnings.warn(smsg, UserWarning)\n",
      "[I 2025-04-06 23:26:40,164] Trial 12 finished with value: 0.4420169706427387 and parameters: {'n_estimators': 323, 'max_depth': 6, 'learning_rate': 0.010762372367027373, 'subsample': 0.8670907534449055, 'colsample_bytree': 0.5757280783050182, 'reg_alpha': 4.722218685542076, 'reg_lambda': 4.893884130858259, 'min_child_weight': 7}. Best is trial 12 with value: 0.4420169706427387.\n",
      "/Users/namithabhaskar/anaconda3/lib/python3.11/site-packages/xgboost/core.py:158: UserWarning: [23:26:40] WARNING: /Users/runner/work/xgboost/xgboost/src/learner.cc:740: \n",
      "Parameters: { \"use_label_encoder\" } are not used.\n",
      "\n",
      "  warnings.warn(smsg, UserWarning)\n",
      "[I 2025-04-06 23:26:42,325] Trial 13 finished with value: 0.44136291600633915 and parameters: {'n_estimators': 315, 'max_depth': 5, 'learning_rate': 0.01656249132502581, 'subsample': 0.8149132659640983, 'colsample_bytree': 0.5971624320727726, 'reg_alpha': 4.93693991923836, 'reg_lambda': 4.889712360100172, 'min_child_weight': 9}. Best is trial 12 with value: 0.4420169706427387.\n",
      "/Users/namithabhaskar/anaconda3/lib/python3.11/site-packages/xgboost/core.py:158: UserWarning: [23:26:42] WARNING: /Users/runner/work/xgboost/xgboost/src/learner.cc:740: \n",
      "Parameters: { \"use_label_encoder\" } are not used.\n",
      "\n",
      "  warnings.warn(smsg, UserWarning)\n",
      "[I 2025-04-06 23:26:44,096] Trial 14 finished with value: 0.43213216114385083 and parameters: {'n_estimators': 191, 'max_depth': 7, 'learning_rate': 0.05152831476601405, 'subsample': 0.7903342606890521, 'colsample_bytree': 0.5969394848222656, 'reg_alpha': 3.7319876769824267, 'reg_lambda': 4.104609542768451, 'min_child_weight': 10}. Best is trial 12 with value: 0.4420169706427387.\n",
      "/Users/namithabhaskar/anaconda3/lib/python3.11/site-packages/xgboost/core.py:158: UserWarning: [23:26:44] WARNING: /Users/runner/work/xgboost/xgboost/src/learner.cc:740: \n",
      "Parameters: { \"use_label_encoder\" } are not used.\n",
      "\n",
      "  warnings.warn(smsg, UserWarning)\n",
      "[I 2025-04-06 23:26:46,269] Trial 15 finished with value: 0.4300606060606061 and parameters: {'n_estimators': 350, 'max_depth': 5, 'learning_rate': 0.057637179707660066, 'subsample': 0.6936554712555698, 'colsample_bytree': 0.6726224402417224, 'reg_alpha': 3.9458023980974666, 'reg_lambda': 3.9793493924013434, 'min_child_weight': 9}. Best is trial 12 with value: 0.4420169706427387.\n",
      "/Users/namithabhaskar/anaconda3/lib/python3.11/site-packages/xgboost/core.py:158: UserWarning: [23:26:46] WARNING: /Users/runner/work/xgboost/xgboost/src/learner.cc:740: \n",
      "Parameters: { \"use_label_encoder\" } are not used.\n",
      "\n",
      "  warnings.warn(smsg, UserWarning)\n",
      "[I 2025-04-06 23:26:48,485] Trial 16 finished with value: 0.4307635078582721 and parameters: {'n_estimators': 288, 'max_depth': 7, 'learning_rate': 0.03732276556566641, 'subsample': 0.906156411676996, 'colsample_bytree': 0.710597646190146, 'reg_alpha': 4.315002659831386, 'reg_lambda': 1.3484572254522145, 'min_child_weight': 8}. Best is trial 12 with value: 0.4420169706427387.\n",
      "/Users/namithabhaskar/anaconda3/lib/python3.11/site-packages/xgboost/core.py:158: UserWarning: [23:26:48] WARNING: /Users/runner/work/xgboost/xgboost/src/learner.cc:740: \n",
      "Parameters: { \"use_label_encoder\" } are not used.\n",
      "\n",
      "  warnings.warn(smsg, UserWarning)\n",
      "[I 2025-04-06 23:26:50,288] Trial 17 finished with value: 0.42891995871258326 and parameters: {'n_estimators': 356, 'max_depth': 3, 'learning_rate': 0.12300621787056133, 'subsample': 0.7962680421575851, 'colsample_bytree': 0.5861719483787983, 'reg_alpha': 4.934331820312852, 'reg_lambda': 4.992341372549004, 'min_child_weight': 6}. Best is trial 12 with value: 0.4420169706427387.\n",
      "/Users/namithabhaskar/anaconda3/lib/python3.11/site-packages/xgboost/core.py:158: UserWarning: [23:26:50] WARNING: /Users/runner/work/xgboost/xgboost/src/learner.cc:740: \n",
      "Parameters: { \"use_label_encoder\" } are not used.\n",
      "\n",
      "  warnings.warn(smsg, UserWarning)\n",
      "[I 2025-04-06 23:26:52,021] Trial 18 finished with value: 0.42599718442045986 and parameters: {'n_estimators': 200, 'max_depth': 6, 'learning_rate': 0.2944947426793605, 'subsample': 0.7670029173770891, 'colsample_bytree': 0.5593964077988742, 'reg_alpha': 3.1970583683526774, 'reg_lambda': 3.78522956053034, 'min_child_weight': 9}. Best is trial 12 with value: 0.4420169706427387.\n",
      "/Users/namithabhaskar/anaconda3/lib/python3.11/site-packages/xgboost/core.py:158: UserWarning: [23:26:52] WARNING: /Users/runner/work/xgboost/xgboost/src/learner.cc:740: \n",
      "Parameters: { \"use_label_encoder\" } are not used.\n",
      "\n",
      "  warnings.warn(smsg, UserWarning)\n",
      "[I 2025-04-06 23:26:53,905] Trial 19 finished with value: 0.43191881000945226 and parameters: {'n_estimators': 298, 'max_depth': 4, 'learning_rate': 0.07729269786295218, 'subsample': 0.9278359865881306, 'colsample_bytree': 0.7467842971984691, 'reg_alpha': 1.5514003223699504, 'reg_lambda': 4.4155581288772225, 'min_child_weight': 1}. Best is trial 12 with value: 0.4420169706427387.\n",
      "/Users/namithabhaskar/anaconda3/lib/python3.11/site-packages/xgboost/core.py:158: UserWarning: [23:26:53] WARNING: /Users/runner/work/xgboost/xgboost/src/learner.cc:740: \n",
      "Parameters: { \"use_label_encoder\" } are not used.\n",
      "\n",
      "  warnings.warn(smsg, UserWarning)\n",
      "[I 2025-04-06 23:26:56,301] Trial 20 finished with value: 0.4413641594309028 and parameters: {'n_estimators': 250, 'max_depth': 7, 'learning_rate': 0.013093750967900273, 'subsample': 0.7081924879716914, 'colsample_bytree': 0.6397783445094956, 'reg_alpha': 1.8647595874440976, 'reg_lambda': 3.724854186827271, 'min_child_weight': 6}. Best is trial 12 with value: 0.4420169706427387.\n",
      "/Users/namithabhaskar/anaconda3/lib/python3.11/site-packages/xgboost/core.py:158: UserWarning: [23:26:56] WARNING: /Users/runner/work/xgboost/xgboost/src/learner.cc:740: \n",
      "Parameters: { \"use_label_encoder\" } are not used.\n",
      "\n",
      "  warnings.warn(smsg, UserWarning)\n",
      "[I 2025-04-06 23:26:58,495] Trial 21 finished with value: 0.4413041177093257 and parameters: {'n_estimators': 239, 'max_depth': 7, 'learning_rate': 0.014357284707990109, 'subsample': 0.6591241119399593, 'colsample_bytree': 0.6351246206515757, 'reg_alpha': 1.8222451131975381, 'reg_lambda': 3.602617568256778, 'min_child_weight': 6}. Best is trial 12 with value: 0.4420169706427387.\n",
      "/Users/namithabhaskar/anaconda3/lib/python3.11/site-packages/xgboost/core.py:158: UserWarning: [23:26:58] WARNING: /Users/runner/work/xgboost/xgboost/src/learner.cc:740: \n",
      "Parameters: { \"use_label_encoder\" } are not used.\n",
      "\n",
      "  warnings.warn(smsg, UserWarning)\n",
      "[I 2025-04-06 23:27:00,524] Trial 22 finished with value: 0.43184236088625744 and parameters: {'n_estimators': 258, 'max_depth': 6, 'learning_rate': 0.04404124867825994, 'subsample': 0.7294477124062603, 'colsample_bytree': 0.6352591953639612, 'reg_alpha': 1.7781174852156036, 'reg_lambda': 4.46893028545865, 'min_child_weight': 8}. Best is trial 12 with value: 0.4420169706427387.\n",
      "/Users/namithabhaskar/anaconda3/lib/python3.11/site-packages/xgboost/core.py:158: UserWarning: [23:27:00] WARNING: /Users/runner/work/xgboost/xgboost/src/learner.cc:740: \n",
      "Parameters: { \"use_label_encoder\" } are not used.\n",
      "\n",
      "  warnings.warn(smsg, UserWarning)\n",
      "[I 2025-04-06 23:27:02,224] Trial 23 finished with value: 0.4454704011490715 and parameters: {'n_estimators': 204, 'max_depth': 5, 'learning_rate': 0.010868060288988509, 'subsample': 0.8254298527746229, 'colsample_bytree': 0.5598516552965486, 'reg_alpha': 4.39303534190846, 'reg_lambda': 4.978227852490376, 'min_child_weight': 9}. Best is trial 23 with value: 0.4454704011490715.\n",
      "/Users/namithabhaskar/anaconda3/lib/python3.11/site-packages/xgboost/core.py:158: UserWarning: [23:27:02] WARNING: /Users/runner/work/xgboost/xgboost/src/learner.cc:740: \n",
      "Parameters: { \"use_label_encoder\" } are not used.\n",
      "\n",
      "  warnings.warn(smsg, UserWarning)\n",
      "[I 2025-04-06 23:27:04,000] Trial 24 finished with value: 0.4317632552404439 and parameters: {'n_estimators': 190, 'max_depth': 7, 'learning_rate': 0.06375491267108745, 'subsample': 0.8636571605101235, 'colsample_bytree': 0.5640063146024946, 'reg_alpha': 3.261748656806308, 'reg_lambda': 4.200060892792426, 'min_child_weight': 6}. Best is trial 23 with value: 0.4454704011490715.\n",
      "/Users/namithabhaskar/anaconda3/lib/python3.11/site-packages/xgboost/core.py:158: UserWarning: [23:27:04] WARNING: /Users/runner/work/xgboost/xgboost/src/learner.cc:740: \n",
      "Parameters: { \"use_label_encoder\" } are not used.\n",
      "\n",
      "  warnings.warn(smsg, UserWarning)\n",
      "[I 2025-04-06 23:27:05,883] Trial 25 finished with value: 0.4341934286244663 and parameters: {'n_estimators': 159, 'max_depth': 9, 'learning_rate': 0.038392456683432, 'subsample': 0.6588623928884987, 'colsample_bytree': 0.5456512796732087, 'reg_alpha': 4.368257934930328, 'reg_lambda': 3.5513503786354157, 'min_child_weight': 7}. Best is trial 23 with value: 0.4454704011490715.\n",
      "/Users/namithabhaskar/anaconda3/lib/python3.11/site-packages/xgboost/core.py:158: UserWarning: [23:27:05] WARNING: /Users/runner/work/xgboost/xgboost/src/learner.cc:740: \n",
      "Parameters: { \"use_label_encoder\" } are not used.\n",
      "\n",
      "  warnings.warn(smsg, UserWarning)\n",
      "[I 2025-04-06 23:27:07,624] Trial 26 finished with value: 0.4275348481955318 and parameters: {'n_estimators': 215, 'max_depth': 6, 'learning_rate': 0.1159587378619336, 'subsample': 0.7736971854734687, 'colsample_bytree': 0.6783381900552382, 'reg_alpha': 2.0834042581428407, 'reg_lambda': 4.61122128231535, 'min_child_weight': 5}. Best is trial 23 with value: 0.4454704011490715.\n",
      "/Users/namithabhaskar/anaconda3/lib/python3.11/site-packages/xgboost/core.py:158: UserWarning: [23:27:07] WARNING: /Users/runner/work/xgboost/xgboost/src/learner.cc:740: \n",
      "Parameters: { \"use_label_encoder\" } are not used.\n",
      "\n",
      "  warnings.warn(smsg, UserWarning)\n",
      "[I 2025-04-06 23:27:09,060] Trial 27 finished with value: 0.44196270655414627 and parameters: {'n_estimators': 146, 'max_depth': 5, 'learning_rate': 0.03125940204537381, 'subsample': 0.588685392671643, 'colsample_bytree': 0.729608022671033, 'reg_alpha': 3.3508448763305156, 'reg_lambda': 1.4511792687762473, 'min_child_weight': 8}. Best is trial 23 with value: 0.4454704011490715.\n",
      "/Users/namithabhaskar/anaconda3/lib/python3.11/site-packages/xgboost/core.py:158: UserWarning: [23:27:09] WARNING: /Users/runner/work/xgboost/xgboost/src/learner.cc:740: \n",
      "Parameters: { \"use_label_encoder\" } are not used.\n",
      "\n",
      "  warnings.warn(smsg, UserWarning)\n",
      "[I 2025-04-06 23:27:10,414] Trial 28 finished with value: 0.44042696413116644 and parameters: {'n_estimators': 155, 'max_depth': 4, 'learning_rate': 0.03810860051145308, 'subsample': 0.5588567331126479, 'colsample_bytree': 0.7966447959860111, 'reg_alpha': 3.2233897935477986, 'reg_lambda': 1.508345711599297, 'min_child_weight': 8}. Best is trial 23 with value: 0.4454704011490715.\n",
      "/Users/namithabhaskar/anaconda3/lib/python3.11/site-packages/xgboost/core.py:158: UserWarning: [23:27:10] WARNING: /Users/runner/work/xgboost/xgboost/src/learner.cc:740: \n",
      "Parameters: { \"use_label_encoder\" } are not used.\n",
      "\n",
      "  warnings.warn(smsg, UserWarning)\n",
      "[I 2025-04-06 23:27:11,615] Trial 29 finished with value: 0.4364729458917836 and parameters: {'n_estimators': 101, 'max_depth': 5, 'learning_rate': 0.07351536654475523, 'subsample': 0.9482370551185366, 'colsample_bytree': 0.7204404587025475, 'reg_alpha': 4.207496131930945, 'reg_lambda': 1.4885927749497072, 'min_child_weight': 10}. Best is trial 23 with value: 0.4454704011490715.\n",
      "/Users/namithabhaskar/anaconda3/lib/python3.11/site-packages/xgboost/core.py:158: UserWarning: [23:27:11] WARNING: /Users/runner/work/xgboost/xgboost/src/learner.cc:740: \n",
      "Parameters: { \"use_label_encoder\" } are not used.\n",
      "\n",
      "  warnings.warn(smsg, UserWarning)\n"
     ]
    },
    {
     "name": "stdout",
     "output_type": "stream",
     "text": [
      "\n",
      "🎯 Best Hyperparameters: {'n_estimators': 204, 'max_depth': 5, 'learning_rate': 0.010868060288988509, 'subsample': 0.8254298527746229, 'colsample_bytree': 0.5598516552965486, 'reg_alpha': 4.39303534190846, 'reg_lambda': 4.978227852490376, 'min_child_weight': 9}\n",
      "\n",
      "✅ Best Threshold: 0.575\n",
      "\n",
      "🔹 Training Performance:\n",
      "Accuracy : 0.7222\n",
      "Precision: 0.7634\n",
      "Recall   : 0.6496\n",
      "F1 Score : 0.7019\n",
      "\n",
      "---------------------------------------\n",
      "\n",
      "🔹 Test Performance:\n",
      "Accuracy : 0.7645\n",
      "Precision: 0.3498\n",
      "Recall_0 : 0.7921\n",
      "Recall_1 : 0.6131\n",
      "F1 Score : 0.4455\n",
      "\n",
      "Classification Report:\n",
      "               precision    recall  f1-score   support\n",
      "\n",
      "           0       0.92      0.79      0.85     38813\n",
      "           1       0.35      0.61      0.45      7082\n",
      "\n",
      "    accuracy                           0.76     45895\n",
      "   macro avg       0.63      0.70      0.65     45895\n",
      "weighted avg       0.83      0.76      0.79     45895\n",
      "\n"
     ]
    }
   ],
   "source": [
    "import xgboost as xgb\n",
    "\n",
    "# Step 1: Define Optuna objective\n",
    "def objective(trial):\n",
    "    params = {\n",
    "        \"objective\": \"binary:logistic\",\n",
    "        \"eval_metric\": \"logloss\",\n",
    "        \"use_label_encoder\": False,\n",
    "        \"random_state\": 508312,\n",
    "        \"n_estimators\": trial.suggest_int(\"n_estimators\", 100, 400),\n",
    "        \"max_depth\": trial.suggest_int(\"max_depth\", 3, 10),\n",
    "        \"learning_rate\": trial.suggest_float(\"learning_rate\", 0.01, 0.3),\n",
    "        \"subsample\": trial.suggest_float(\"subsample\", 0.5, 1.0),\n",
    "        \"colsample_bytree\": trial.suggest_float(\"colsample_bytree\", 0.5, 1.0),\n",
    "        \"reg_alpha\": trial.suggest_float(\"reg_alpha\", 0.0, 5.0),\n",
    "        \"reg_lambda\": trial.suggest_float(\"reg_lambda\", 0.0, 5.0),\n",
    "        \"min_child_weight\": trial.suggest_int(\"min_child_weight\", 1, 10),\n",
    "    }\n",
    "\n",
    "    model = xgb.XGBClassifier(**params)\n",
    "    model.fit(X_train_resampled, y_train_resampled)\n",
    "\n",
    "    y_probs = model.predict_proba(X_test)[:, 1]\n",
    "    thresholds = np.linspace(0.3, 0.7, 100)\n",
    "    f1s = [f1_score(y_test, y_probs >= t) for t in thresholds]\n",
    "    return max(f1s)\n",
    "\n",
    "# Step 2: Run Optuna\n",
    "study = optuna.create_study(direction=\"maximize\")\n",
    "study.optimize(objective, n_trials=30)\n",
    "\n",
    "# Step 3: Train final model with best params\n",
    "best_params = study.best_trial.params\n",
    "print(\"\\n🎯 Best Hyperparameters:\", best_params)\n",
    "\n",
    "final_xgb = xgb.XGBClassifier(\n",
    "    objective=\"binary:logistic\", eval_metric=\"logloss\",\n",
    "    use_label_encoder=False, random_state=508312, **best_params\n",
    ")\n",
    "final_xgb.fit(X_train_resampled, y_train_resampled)\n",
    "\n",
    "# Step 4: Threshold tuning on test set\n",
    "y_test_probs = final_xgb.predict_proba(X_test)[:, 1]\n",
    "thresholds = np.linspace(0.3, 0.7, 100)\n",
    "f1s = [f1_score(y_test, y_test_probs >= t) for t in thresholds]\n",
    "best_threshold = thresholds[np.argmax(f1s)]\n",
    "\n",
    "# Step 5: Train + test predictions\n",
    "y_train_probs = final_xgb.predict_proba(X_train_resampled)[:, 1]\n",
    "y_train_pred = (y_train_probs >= best_threshold).astype(int)\n",
    "y_test_pred = (y_test_probs >= best_threshold).astype(int)\n",
    "\n",
    "# 🔹 Train Evaluation\n",
    "train_acc = accuracy_score(y_train_resampled, y_train_pred)\n",
    "train_prec = precision_score(y_train_resampled, y_train_pred)\n",
    "train_rec = recall_score(y_train_resampled, y_train_pred)\n",
    "train_f1 = f1_score(y_train_resampled, y_train_pred)\n",
    "\n",
    "# 🔹 Test Evaluation\n",
    "test_acc = accuracy_score(y_test, y_test_pred)\n",
    "test_prec = precision_score(y_test, y_test_pred)\n",
    "test_rec_0 = recall_score(y_test, y_test_pred, pos_label=0)\n",
    "test_rec_1 = recall_score(y_test, y_test_pred, pos_label=1)\n",
    "test_f1 = f1_score(y_test, y_test_pred)\n",
    "test_report = classification_report(y_test, y_test_pred)\n",
    "\n",
    "# 🔹 Print Results\n",
    "print(f\"\\n✅ Best Threshold: {best_threshold:.3f}\")\n",
    "\n",
    "print(\"\\n🔹 Training Performance:\")\n",
    "print(f\"Accuracy : {train_acc:.4f}\")\n",
    "print(f\"Precision: {train_prec:.4f}\")\n",
    "print(f\"Recall   : {train_rec:.4f}\")\n",
    "print(f\"F1 Score : {train_f1:.4f}\")\n",
    "\n",
    "print(\"\\n---------------------------------------\\n\")\n",
    "\n",
    "print(\"🔹 Test Performance:\")\n",
    "print(f\"Accuracy : {test_acc:.4f}\")\n",
    "print(f\"Precision: {test_prec:.4f}\")\n",
    "print(f\"Recall_0 : {test_rec_0:.4f}\")\n",
    "print(f\"Recall_1 : {test_rec_1:.4f}\")\n",
    "print(f\"F1 Score : {test_f1:.4f}\")\n",
    "\n",
    "print(\"\\nClassification Report:\\n\", test_report)"
   ]
  },
  {
   "cell_type": "markdown",
   "id": "30025edf-7bc1-45f1-abad-44d491967d3d",
   "metadata": {},
   "source": [
    "### Manual Tuning for XGBoost"
   ]
  },
  {
   "cell_type": "code",
   "execution_count": 377,
   "id": "be1f0eab-b7d9-46bf-80c8-c64ed10562b1",
   "metadata": {
    "tags": []
   },
   "outputs": [
    {
     "name": "stderr",
     "output_type": "stream",
     "text": [
      "/Users/namithabhaskar/anaconda3/lib/python3.11/site-packages/xgboost/core.py:158: UserWarning: [17:14:56] WARNING: /Users/runner/work/xgboost/xgboost/src/learner.cc:740: \n",
      "Parameters: { \"use_label_encoder\" } are not used.\n",
      "\n",
      "  warnings.warn(smsg, UserWarning)\n"
     ]
    },
    {
     "name": "stdout",
     "output_type": "stream",
     "text": [
      "\n",
      "✅ Best Threshold: 0.555\n",
      "\n",
      "🔹 Training Performance:\n",
      "Accuracy : 0.7360\n",
      "Precision: 0.7498\n",
      "Recall   : 0.7139\n",
      "F1 Score : 0.7314\n",
      "\n",
      "---------------------------------------\n",
      "\n",
      "🔹 Test Performance:\n",
      "Accuracy : 0.7408\n",
      "Precision: 0.3304\n",
      "Recall_0 : 0.7551\n",
      "Recall_1 : 0.6622\n",
      "F1 Score : 0.4409\n",
      "\n",
      "Classification Report:\n",
      "               precision    recall  f1-score   support\n",
      "\n",
      "           0       0.92      0.76      0.83     38813\n",
      "           1       0.33      0.66      0.44      7082\n",
      "\n",
      "    accuracy                           0.74     45895\n",
      "   macro avg       0.63      0.71      0.64     45895\n",
      "weighted avg       0.83      0.74      0.77     45895\n",
      "\n"
     ]
    },
    {
     "data": {
      "image/png": "[encoded data removed]",
      "text/plain": [
       "<Figure size 640x480 with 2 Axes>"
      ]
     },
     "metadata": {},
     "output_type": "display_data"
    }
   ],
   "source": [
    "from sklearn.metrics import confusion_matrix, ConfusionMatrixDisplay\n",
    "import matplotlib.pyplot as plt\n",
    "\n",
    "# Step 1: Define manual hyperparameters\n",
    "manual_xgb_params = {\n",
    "    \"n_estimators\": 128,\n",
    "    \"max_depth\": 5,\n",
    "    \"learning_rate\": 0.04,\n",
    "    \"subsample\": 0.8,\n",
    "    \"colsample_bytree\": 0.7,\n",
    "    \"reg_alpha\": 1.0,\n",
    "    \"reg_lambda\": 4.0,\n",
    "    \"min_child_weight\": 5,\n",
    "    \"objective\": \"binary:logistic\",\n",
    "    \"eval_metric\": \"logloss\",\n",
    "    \"use_label_encoder\": False,\n",
    "    \"random_state\": 508312\n",
    "}\n",
    "\n",
    "# Step 2: Train XGBoost model with manual parameters\n",
    "manual_xgb = xgb.XGBClassifier(**manual_xgb_params)\n",
    "manual_xgb.fit(X_train_resampled, y_train_resampled)\n",
    "\n",
    "# Step 3: Predict probabilities and tune threshold\n",
    "y_test_probs = manual_xgb.predict_proba(X_test)[:, 1]\n",
    "thresholds = np.linspace(0.3, 0.7, 100)\n",
    "f1s = [f1_score(y_test, y_test_probs >= t) for t in thresholds]\n",
    "best_threshold = thresholds[np.argmax(f1s)]\n",
    "\n",
    "# Step 4: Evaluate on training and test sets\n",
    "y_train_probs = manual_xgb.predict_proba(X_train_resampled)[:, 1]\n",
    "y_train_pred = (y_train_probs >= best_threshold).astype(int)\n",
    "y_test_pred = (y_test_probs >= best_threshold).astype(int)\n",
    "\n",
    "# Training metrics\n",
    "train_acc = accuracy_score(y_train_resampled, y_train_pred)\n",
    "train_prec = precision_score(y_train_resampled, y_train_pred)\n",
    "train_rec = recall_score(y_train_resampled, y_train_pred)\n",
    "train_f1 = f1_score(y_train_resampled, y_train_pred)\n",
    "\n",
    "# Test metrics\n",
    "test_acc = accuracy_score(y_test, y_test_pred)\n",
    "test_prec = precision_score(y_test, y_test_pred)\n",
    "test_rec0 = recall_score(y_test, y_test_pred, pos_label=0)\n",
    "test_rec1 = recall_score(y_test, y_test_pred, pos_label=1)\n",
    "test_f1 = f1_score(y_test, y_test_pred)\n",
    "test_report = classification_report(y_test, y_test_pred)\n",
    "\n",
    "# Print results\n",
    "print(f\"\\n✅ Best Threshold: {best_threshold:.3f}\")\n",
    "\n",
    "print(\"\\n🔹 Training Performance:\")\n",
    "print(f\"Accuracy : {train_acc:.4f}\")\n",
    "print(f\"Precision: {train_prec:.4f}\")\n",
    "print(f\"Recall   : {train_rec:.4f}\")\n",
    "print(f\"F1 Score : {train_f1:.4f}\")\n",
    "\n",
    "print(\"\\n---------------------------------------\\n\")\n",
    "\n",
    "print(\"🔹 Test Performance:\")\n",
    "print(f\"Accuracy : {test_acc:.4f}\")\n",
    "print(f\"Precision: {test_prec:.4f}\")\n",
    "print(f\"Recall_0 : {test_rec0:.4f}\")\n",
    "print(f\"Recall_1 : {test_rec1:.4f}\")\n",
    "print(f\"F1 Score : {test_f1:.4f}\")\n",
    "\n",
    "print(\"\\nClassification Report:\\n\", test_report)\n",
    "\n",
    "# Generate and plot confusion matrix\n",
    "cm = confusion_matrix(y_test, y_test_pred)  # y_test_pred should be from the current model\n",
    "disp = ConfusionMatrixDisplay(confusion_matrix=cm, display_labels=[\"No Diabetes (0)\", \"Diabetes (1)\"])\n",
    "disp.plot(cmap=plt.cm.Blues)\n",
    "plt.title(\"Confusion Matrix - XGBoost on Original Test Set\")  # Update [Model Name]\n",
    "plt.show()"
   ]
  },
  {
   "cell_type": "markdown",
   "id": "feb6c57f-b3b9-46fa-8f2d-188e60155416",
   "metadata": {},
   "source": [
    "### Testing on the Balanced Dataset to see how model performs "
   ]
  },
  {
   "cell_type": "code",
   "execution_count": 81,
   "id": "3dc7876e-9c79-41cd-ba13-d3f15c8f9fa7",
   "metadata": {
    "tags": []
   },
   "outputs": [
    {
     "name": "stdout",
     "output_type": "stream",
     "text": [
      "<class 'pandas.core.frame.DataFrame'>\n",
      "RangeIndex: 70692 entries, 0 to 70691\n",
      "Data columns (total 22 columns):\n",
      " #   Column                Non-Null Count  Dtype  \n",
      "---  ------                --------------  -----  \n",
      " 0   Diabetes_binary       70692 non-null  float64\n",
      " 1   HighBP                70692 non-null  float64\n",
      " 2   HighChol              70692 non-null  float64\n",
      " 3   CholCheck             70692 non-null  float64\n",
      " 4   BMI                   70692 non-null  float64\n",
      " 5   Smoker                70692 non-null  float64\n",
      " 6   Stroke                70692 non-null  float64\n",
      " 7   HeartDiseaseorAttack  70692 non-null  float64\n",
      " 8   PhysActivity          70692 non-null  float64\n",
      " 9   Fruits                70692 non-null  float64\n",
      " 10  Veggies               70692 non-null  float64\n",
      " 11  HvyAlcoholConsump     70692 non-null  float64\n",
      " 12  AnyHealthcare         70692 non-null  float64\n",
      " 13  NoDocbcCost           70692 non-null  float64\n",
      " 14  GenHlth               70692 non-null  float64\n",
      " 15  MentHlth              70692 non-null  float64\n",
      " 16  PhysHlth              70692 non-null  float64\n",
      " 17  DiffWalk              70692 non-null  float64\n",
      " 18  Sex                   70692 non-null  float64\n",
      " 19  Age                   70692 non-null  float64\n",
      " 20  Education             70692 non-null  float64\n",
      " 21  Income                70692 non-null  float64\n",
      "dtypes: float64(22)\n",
      "memory usage: 11.9 MB\n"
     ]
    }
   ],
   "source": [
    "baldf.info()"
   ]
  },
  {
   "cell_type": "code",
   "execution_count": 82,
   "id": "931391c1-81c6-4752-83e5-bdecd54155ef",
   "metadata": {
    "tags": []
   },
   "outputs": [
    {
     "data": {
      "text/plain": [
       "(70692, 22)"
      ]
     },
     "execution_count": 82,
     "metadata": {},
     "output_type": "execute_result"
    }
   ],
   "source": [
    "baldf.shape"
   ]
  },
  {
   "cell_type": "code",
   "execution_count": 83,
   "id": "6f5b0680-4d3c-43b5-b898-7e66e72abde6",
   "metadata": {
    "tags": []
   },
   "outputs": [
    {
     "data": {
      "text/plain": [
       "Diabetes_binary         0\n",
       "HighBP                  0\n",
       "HighChol                0\n",
       "CholCheck               0\n",
       "BMI                     0\n",
       "Smoker                  0\n",
       "Stroke                  0\n",
       "HeartDiseaseorAttack    0\n",
       "PhysActivity            0\n",
       "Fruits                  0\n",
       "Veggies                 0\n",
       "HvyAlcoholConsump       0\n",
       "AnyHealthcare           0\n",
       "NoDocbcCost             0\n",
       "GenHlth                 0\n",
       "MentHlth                0\n",
       "PhysHlth                0\n",
       "DiffWalk                0\n",
       "Sex                     0\n",
       "Age                     0\n",
       "Education               0\n",
       "Income                  0\n",
       "dtype: int64"
      ]
     },
     "execution_count": 83,
     "metadata": {},
     "output_type": "execute_result"
    }
   ],
   "source": [
    "baldf.isna().sum()"
   ]
  },
  {
   "cell_type": "code",
   "execution_count": 84,
   "id": "ae12132d-2852-4dca-848c-587346646d3f",
   "metadata": {
    "tags": []
   },
   "outputs": [
    {
     "data": {
      "text/plain": [
       "1635"
      ]
     },
     "execution_count": 84,
     "metadata": {},
     "output_type": "execute_result"
    }
   ],
   "source": [
    "baldf.duplicated().sum()"
   ]
  },
  {
   "cell_type": "code",
   "execution_count": 85,
   "id": "3bd7ff21-705a-4d81-b826-31b8cb80b6c1",
   "metadata": {
    "tags": []
   },
   "outputs": [],
   "source": [
    "baldf.drop_duplicates(inplace=True)"
   ]
  },
  {
   "cell_type": "code",
   "execution_count": 86,
   "id": "5131d1f0-0c8e-4998-932e-b0960ca100d0",
   "metadata": {
    "tags": []
   },
   "outputs": [
    {
     "data": {
      "text/plain": [
       "0"
      ]
     },
     "execution_count": 86,
     "metadata": {},
     "output_type": "execute_result"
    }
   ],
   "source": [
    "baldf.duplicated().sum()"
   ]
  },
  {
   "cell_type": "code",
   "execution_count": 87,
   "id": "7d6e0197-cf94-47d8-9f7d-bd57742d8a83",
   "metadata": {
    "tags": []
   },
   "outputs": [],
   "source": [
    "baldf1 = baldf"
   ]
  },
  {
   "cell_type": "code",
   "execution_count": 88,
   "id": "dd938234-f0ff-4674-957c-fb00b09947f7",
   "metadata": {
    "tags": []
   },
   "outputs": [
    {
     "name": "stdout",
     "output_type": "stream",
     "text": [
      "<class 'pandas.core.frame.DataFrame'>\n",
      "Index: 69057 entries, 0 to 70691\n",
      "Data columns (total 22 columns):\n",
      " #   Column                Non-Null Count  Dtype  \n",
      "---  ------                --------------  -----  \n",
      " 0   Diabetes_binary       69057 non-null  float64\n",
      " 1   HighBP                69057 non-null  float64\n",
      " 2   HighChol              69057 non-null  float64\n",
      " 3   CholCheck             69057 non-null  float64\n",
      " 4   BMI                   69057 non-null  float64\n",
      " 5   Smoker                69057 non-null  float64\n",
      " 6   Stroke                69057 non-null  float64\n",
      " 7   HeartDiseaseorAttack  69057 non-null  float64\n",
      " 8   PhysActivity          69057 non-null  float64\n",
      " 9   Fruits                69057 non-null  float64\n",
      " 10  Veggies               69057 non-null  float64\n",
      " 11  HvyAlcoholConsump     69057 non-null  float64\n",
      " 12  AnyHealthcare         69057 non-null  float64\n",
      " 13  NoDocbcCost           69057 non-null  float64\n",
      " 14  GenHlth               69057 non-null  float64\n",
      " 15  MentHlth              69057 non-null  float64\n",
      " 16  PhysHlth              69057 non-null  float64\n",
      " 17  DiffWalk              69057 non-null  float64\n",
      " 18  Sex                   69057 non-null  float64\n",
      " 19  Age                   69057 non-null  float64\n",
      " 20  Education             69057 non-null  float64\n",
      " 21  Income                69057 non-null  float64\n",
      "dtypes: float64(22)\n",
      "memory usage: 12.1 MB\n"
     ]
    }
   ],
   "source": [
    "baldf1.info()"
   ]
  },
  {
   "cell_type": "code",
   "execution_count": 89,
   "id": "edb5d5b6-4605-41f9-ba73-8b79619bbc3f",
   "metadata": {
    "tags": []
   },
   "outputs": [
    {
     "name": "stdout",
     "output_type": "stream",
     "text": [
      "Age_Categorized\n",
      "2    32751\n",
      "3    29271\n",
      "1     7035\n",
      "Name: count, dtype: int64\n"
     ]
    }
   ],
   "source": [
    "# AGE \n",
    "# Define the mapping from 13 categories to 3 integer groups\n",
    "age_mapping = {\n",
    "    1: 1, 2: 1, 3: 1, 4: 1,  # Categories 1-4 → 1 (18-39)\n",
    "    5: 2, 6: 2, 7: 2, 8: 2, 9: 2,  # Categories 5-9 → 2 (40-64)\n",
    "    10: 3, 11: 3, 12: 3, 13: 3  # Categories 10-13 → 3 (65-99)\n",
    "}\n",
    "\n",
    "# Apply the mapping to create a new column\n",
    "baldf1[\"Age_Categorized\"] = baldf1[\"Age\"].map(age_mapping)\n",
    "\n",
    "# Display the counts of new categories\n",
    "print(baldf1[\"Age_Categorized\"].value_counts())"
   ]
  },
  {
   "cell_type": "code",
   "execution_count": 90,
   "id": "c393d50d-bfe0-4358-8492-f7e41781af0f",
   "metadata": {
    "tags": []
   },
   "outputs": [
    {
     "name": "stdout",
     "output_type": "stream",
     "text": [
      "Education_Categorized\n",
      "3    24646\n",
      "1    24566\n",
      "2    19845\n",
      "Name: count, dtype: int64\n"
     ]
    }
   ],
   "source": [
    "# EDUCATION\n",
    "# Define the mapping for Education categories\n",
    "education_mapping = {\n",
    "    1: 1, 2: 1, 3: 1, 4: 1,  # Combine categories 1-4 → 1 (Up to High School)\n",
    "    5: 2,  # Keep category 5 → 2 (Some College)\n",
    "    6: 3   # Keep category 6 → 3 (College Graduate)\n",
    "}\n",
    "\n",
    "# Apply the mapping to create a new column\n",
    "baldf1[\"Education_Categorized\"] = baldf1[\"Education\"].map(education_mapping)\n",
    "\n",
    "# Display the counts of new categories\n",
    "print(baldf1[\"Education_Categorized\"].value_counts())"
   ]
  },
  {
   "cell_type": "code",
   "execution_count": 91,
   "id": "bd84395b-93c0-4481-86bc-e3b61b4df913",
   "metadata": {
    "tags": []
   },
   "outputs": [
    {
     "name": "stdout",
     "output_type": "stream",
     "text": [
      "Income_Categorized\n",
      "1    28281\n",
      "2    21469\n",
      "3    19307\n",
      "Name: count, dtype: int64\n"
     ]
    }
   ],
   "source": [
    "# INCOME\n",
    "# Define the mapping for Education categories\n",
    "income_mapping = {\n",
    "    1: 1, 2: 1, 3: 1, 4: 1, 5: 1,  # Combine categories 1-5 → 1 ($0 - $35,000)\n",
    "    6: 2, 7: 2,  # Keep category 6-7 → 2 ($35,000 - $75,000)\n",
    "    8: 3   # Keep category 8 → 3 (more than $75,000)\n",
    "}\n",
    "\n",
    "# Apply the mapping to create a new column\n",
    "baldf1[\"Income_Categorized\"] = baldf1[\"Income\"].map(income_mapping)\n",
    "\n",
    "# Display the counts of new categories\n",
    "print(baldf1[\"Income_Categorized\"].value_counts())"
   ]
  },
  {
   "cell_type": "code",
   "execution_count": 92,
   "id": "fed0540e-988b-42f1-a181-1148e13d14fc",
   "metadata": {
    "tags": []
   },
   "outputs": [],
   "source": [
    "baldf1 = baldf1.drop(columns=['Age','Education','Income'])"
   ]
  },
  {
   "cell_type": "code",
   "execution_count": 93,
   "id": "948bd95e-eeb5-4662-864c-3e21ce595156",
   "metadata": {
    "tags": []
   },
   "outputs": [
    {
     "name": "stdout",
     "output_type": "stream",
     "text": [
      "<class 'pandas.core.frame.DataFrame'>\n",
      "Index: 69057 entries, 0 to 70691\n",
      "Data columns (total 22 columns):\n",
      " #   Column                 Non-Null Count  Dtype  \n",
      "---  ------                 --------------  -----  \n",
      " 0   Diabetes_binary        69057 non-null  float64\n",
      " 1   HighBP                 69057 non-null  float64\n",
      " 2   HighChol               69057 non-null  float64\n",
      " 3   CholCheck              69057 non-null  float64\n",
      " 4   BMI                    69057 non-null  float64\n",
      " 5   Smoker                 69057 non-null  float64\n",
      " 6   Stroke                 69057 non-null  float64\n",
      " 7   HeartDiseaseorAttack   69057 non-null  float64\n",
      " 8   PhysActivity           69057 non-null  float64\n",
      " 9   Fruits                 69057 non-null  float64\n",
      " 10  Veggies                69057 non-null  float64\n",
      " 11  HvyAlcoholConsump      69057 non-null  float64\n",
      " 12  AnyHealthcare          69057 non-null  float64\n",
      " 13  NoDocbcCost            69057 non-null  float64\n",
      " 14  GenHlth                69057 non-null  float64\n",
      " 15  MentHlth               69057 non-null  float64\n",
      " 16  PhysHlth               69057 non-null  float64\n",
      " 17  DiffWalk               69057 non-null  float64\n",
      " 18  Sex                    69057 non-null  float64\n",
      " 19  Age_Categorized        69057 non-null  int64  \n",
      " 20  Education_Categorized  69057 non-null  int64  \n",
      " 21  Income_Categorized     69057 non-null  int64  \n",
      "dtypes: float64(19), int64(3)\n",
      "memory usage: 12.1 MB\n"
     ]
    }
   ],
   "source": [
    "baldf1.info()"
   ]
  },
  {
   "cell_type": "code",
   "execution_count": 104,
   "id": "3e5df7bd-7148-4429-ac8f-083b437b5bb7",
   "metadata": {
    "tags": []
   },
   "outputs": [],
   "source": [
    "baldf1 = baldf1.astype(int)"
   ]
  },
  {
   "cell_type": "code",
   "execution_count": 106,
   "id": "204338d9-82da-4397-9cbd-8908d4f45eaf",
   "metadata": {
    "tags": []
   },
   "outputs": [
    {
     "name": "stdout",
     "output_type": "stream",
     "text": [
      "<class 'pandas.core.frame.DataFrame'>\n",
      "Index: 69057 entries, 0 to 70691\n",
      "Data columns (total 22 columns):\n",
      " #   Column                 Non-Null Count  Dtype\n",
      "---  ------                 --------------  -----\n",
      " 0   Diabetes_binary        69057 non-null  int64\n",
      " 1   HighBP                 69057 non-null  int64\n",
      " 2   HighChol               69057 non-null  int64\n",
      " 3   CholCheck              69057 non-null  int64\n",
      " 4   BMI                    69057 non-null  int64\n",
      " 5   Smoker                 69057 non-null  int64\n",
      " 6   Stroke                 69057 non-null  int64\n",
      " 7   HeartDiseaseorAttack   69057 non-null  int64\n",
      " 8   PhysActivity           69057 non-null  int64\n",
      " 9   Fruits                 69057 non-null  int64\n",
      " 10  Veggies                69057 non-null  int64\n",
      " 11  HvyAlcoholConsump      69057 non-null  int64\n",
      " 12  AnyHealthcare          69057 non-null  int64\n",
      " 13  NoDocbcCost            69057 non-null  int64\n",
      " 14  GenHlth                69057 non-null  int64\n",
      " 15  MentHlth               69057 non-null  int64\n",
      " 16  PhysHlth               69057 non-null  int64\n",
      " 17  DiffWalk               69057 non-null  int64\n",
      " 18  Sex                    69057 non-null  int64\n",
      " 19  Age_Categorized        69057 non-null  int64\n",
      " 20  Education_Categorized  69057 non-null  int64\n",
      " 21  Income_Categorized     69057 non-null  int64\n",
      "dtypes: int64(22)\n",
      "memory usage: 12.1 MB\n"
     ]
    }
   ],
   "source": [
    "baldf1.info()"
   ]
  },
  {
   "cell_type": "code",
   "execution_count": 107,
   "id": "fca858ae-5737-4e1b-a210-29d7e62b3972",
   "metadata": {
    "tags": []
   },
   "outputs": [],
   "source": [
    "bX = baldf1.drop(columns=['Diabetes_binary']) \n",
    "by = baldf1['Diabetes_binary']  "
   ]
  },
  {
   "cell_type": "code",
   "execution_count": 108,
   "id": "0f925a0a-65c2-416a-8723-c7baa961e82a",
   "metadata": {
    "tags": []
   },
   "outputs": [
    {
     "data": {
      "text/plain": [
       "(69057, 21)"
      ]
     },
     "execution_count": 108,
     "metadata": {},
     "output_type": "execute_result"
    }
   ],
   "source": [
    "bX.shape"
   ]
  },
  {
   "cell_type": "code",
   "execution_count": 109,
   "id": "29a9776b-aa04-471d-9761-630cdda08f05",
   "metadata": {
    "tags": []
   },
   "outputs": [
    {
     "data": {
      "text/plain": [
       "(69057,)"
      ]
     },
     "execution_count": 109,
     "metadata": {},
     "output_type": "execute_result"
    }
   ],
   "source": [
    "by.shape"
   ]
  },
  {
   "cell_type": "code",
   "execution_count": 110,
   "id": "7575917b-2750-4710-b7ba-eb7130f11ca8",
   "metadata": {
    "tags": []
   },
   "outputs": [
    {
     "data": {
      "text/plain": [
       "Counter({1: 35097, 0: 33960})"
      ]
     },
     "execution_count": 110,
     "metadata": {},
     "output_type": "execute_result"
    }
   ],
   "source": [
    "Counter(by)"
   ]
  },
  {
   "cell_type": "markdown",
   "id": "ac89cc77-faa0-4827-b96e-c367b0fe71b7",
   "metadata": {},
   "source": [
    "### Testing AdaBoost on Balanced Data"
   ]
  },
  {
   "cell_type": "code",
   "execution_count": 133,
   "id": "ce2df05b-ac2b-4def-b313-f0b137e0b06c",
   "metadata": {
    "tags": []
   },
   "outputs": [
    {
     "name": "stdout",
     "output_type": "stream",
     "text": [
      "📊 Final Model Evaluation on Balanced Test Set\n",
      "\n",
      "Accuracy : 0.5507\n",
      "Precision: 0.5463\n",
      "Recall_0 : 0.4138\n",
      "Recall_1 : 0.6831\n",
      "F1 Score : 0.6071\n",
      "\n",
      "Classification Report:\n",
      "               precision    recall  f1-score   support\n",
      "\n",
      "         0.0       0.56      0.41      0.48     33960\n",
      "         1.0       0.55      0.68      0.61     35097\n",
      "\n",
      "    accuracy                           0.55     69057\n",
      "   macro avg       0.55      0.55      0.54     69057\n",
      "weighted avg       0.55      0.55      0.54     69057\n",
      "\n"
     ]
    }
   ],
   "source": [
    "# 🔹 Step 1: Match features with training data\n",
    "X_bal = baldf[X_train.columns]\n",
    "y_bal = baldf[\"Diabetes_binary\"]\n",
    "\n",
    "# 🔹 Step 2: Predict using the trained final model\n",
    "y_probs_bal = final_model.predict_proba(X_bal)[:, 1]\n",
    "y_pred_bal = (y_probs_bal >= 0.414).astype(int)\n",
    "\n",
    "# 🔹 Step 3: Evaluate performance\n",
    "acc = accuracy_score(y_bal, y_pred_bal)\n",
    "prec = precision_score(y_bal, y_pred_bal)\n",
    "rec0 = recall_score(y_bal, y_pred_bal, pos_label=0)\n",
    "rec1 = recall_score(y_bal, y_pred_bal, pos_label=1)\n",
    "f1 = f1_score(y_bal, y_pred_bal)\n",
    "report = classification_report(y_bal, y_pred_bal)\n",
    "\n",
    "# 🔹 Step 4: Display results\n",
    "print(\"📊 Final Model Evaluation on Balanced Test Set\\n\")\n",
    "print(f\"Accuracy : {acc:.4f}\")\n",
    "print(f\"Precision: {prec:.4f}\")\n",
    "print(f\"Recall_0 : {rec0:.4f}\")\n",
    "print(f\"Recall_1 : {rec1:.4f}\")\n",
    "print(f\"F1 Score : {f1:.4f}\")\n",
    "print(\"\\nClassification Report:\\n\", report)"
   ]
  },
  {
   "cell_type": "code",
   "execution_count": 112,
   "id": "c4293409-1e76-41a0-8549-7c28c75f4368",
   "metadata": {
    "tags": []
   },
   "outputs": [
    {
     "name": "stdout",
     "output_type": "stream",
     "text": [
      "Predicted class counts: (array([0, 1]), array([68424,   633]))\n"
     ]
    }
   ],
   "source": [
    "print(\"Predicted class counts:\", np.unique(y_pred_bal, return_counts=True))"
   ]
  },
  {
   "cell_type": "code",
   "execution_count": 113,
   "id": "cbe7f64e-aa38-403a-a0de-d1d6492d8711",
   "metadata": {
    "tags": []
   },
   "outputs": [
    {
     "name": "stdout",
     "output_type": "stream",
     "text": [
      "Min prob: 0.3529622023686239\n",
      "Max prob: 0.5104682857173111\n",
      "Median prob: 0.42523749269973066\n"
     ]
    }
   ],
   "source": [
    "print(\"Min prob:\", y_probs_bal.min())\n",
    "print(\"Max prob:\", y_probs_bal.max())\n",
    "print(\"Median prob:\", np.median(y_probs_bal))"
   ]
  },
  {
   "cell_type": "markdown",
   "id": "59d19d62-1f71-4bce-b55d-f7aee1d3c244",
   "metadata": {},
   "source": [
    "### feature importance of AdaBoost"
   ]
  },
  {
   "cell_type": "code",
   "execution_count": 150,
   "id": "e70db83e-253f-4484-be8f-1ee22520ebbe",
   "metadata": {
    "tags": []
   },
   "outputs": [
    {
     "data": {
      "image/png": "[encoded data removed]",
      "text/plain": [
       "<Figure size 1000x600 with 1 Axes>"
      ]
     },
     "metadata": {},
     "output_type": "display_data"
    }
   ],
   "source": [
    "import matplotlib.pyplot as plt\n",
    "\n",
    "# Feature importance from AdaBoost\n",
    "importances = final_model.feature_importances_\n",
    "features = X_train.columns\n",
    "\n",
    "# Colors (pick your favorite colormap)\n",
    "colors = plt.cm.viridis(np.linspace(0, 1, len(features)))\n",
    "\n",
    "# Plot\n",
    "plt.figure(figsize=(10, 6))\n",
    "plt.barh(features, importances, color=colors)\n",
    "plt.xlabel(\"Feature Importance\")\n",
    "plt.title(\"AdaBoost Feature Importances\")\n",
    "plt.gca().invert_yaxis()\n",
    "plt.tight_layout()\n",
    "plt.show()"
   ]
  },
  {
   "cell_type": "markdown",
   "id": "0dda2fd4-cdef-42a8-b40c-7112a178101e",
   "metadata": {},
   "source": [
    "### Testing lightGBM (optuna) of Balanced Data"
   ]
  },
  {
   "cell_type": "code",
   "execution_count": 154,
   "id": "77891072-e732-42bb-b6eb-7f9e8fd475d3",
   "metadata": {
    "tags": []
   },
   "outputs": [
    {
     "name": "stdout",
     "output_type": "stream",
     "text": [
      "📊 Final Model Evaluation on Balanced Test Set\n",
      "\n",
      "Accuracy : 0.6742\n",
      "Precision: 0.6783\n",
      "Recall_0 : 0.6655\n",
      "Recall_1 : 0.6826\n",
      "F1 Score : 0.6804\n",
      "\n",
      "Classification Report:\n",
      "               precision    recall  f1-score   support\n",
      "\n",
      "         0.0       0.67      0.67      0.67     33960\n",
      "         1.0       0.68      0.68      0.68     35097\n",
      "\n",
      "    accuracy                           0.67     69057\n",
      "   macro avg       0.67      0.67      0.67     69057\n",
      "weighted avg       0.67      0.67      0.67     69057\n",
      "\n"
     ]
    }
   ],
   "source": [
    "# 🔹 Step 1: Match features with training data\n",
    "X_bal = baldf[X_train.columns]\n",
    "y_bal = baldf[\"Diabetes_binary\"]\n",
    "\n",
    "# 🔹 Step 2: Predict using the trained final model\n",
    "y_probs_bal = final_lgbm.predict_proba(X_bal)[:, 1]\n",
    "y_pred_bal = (y_probs_bal >= 0.579).astype(int)\n",
    "\n",
    "# 🔹 Step 3: Evaluate performance\n",
    "acc = accuracy_score(y_bal, y_pred_bal)\n",
    "prec = precision_score(y_bal, y_pred_bal)\n",
    "rec0 = recall_score(y_bal, y_pred_bal, pos_label=0)\n",
    "rec1 = recall_score(y_bal, y_pred_bal, pos_label=1)\n",
    "f1 = f1_score(y_bal, y_pred_bal)\n",
    "report = classification_report(y_bal, y_pred_bal)\n",
    "\n",
    "# 🔹 Step 4: Display results\n",
    "print(\"📊 Final Model Evaluation on Balanced Test Set\\n\")\n",
    "print(f\"Accuracy : {acc:.4f}\")\n",
    "print(f\"Precision: {prec:.4f}\")\n",
    "print(f\"Recall_0 : {rec0:.4f}\")\n",
    "print(f\"Recall_1 : {rec1:.4f}\")\n",
    "print(f\"F1 Score : {f1:.4f}\")\n",
    "print(\"\\nClassification Report:\\n\", report)"
   ]
  },
  {
   "cell_type": "markdown",
   "id": "9b843187-782a-4257-9fbe-63f519371c87",
   "metadata": {},
   "source": [
    "### Testing manual light gbm with balanced data"
   ]
  },
  {
   "cell_type": "code",
   "execution_count": 284,
   "id": "7083727b-78c1-4f2e-9562-aed39fe14982",
   "metadata": {
    "tags": []
   },
   "outputs": [
    {
     "name": "stdout",
     "output_type": "stream",
     "text": [
      "📊 Final Model Evaluation on Balanced Test Set\n",
      "\n",
      "Accuracy : 0.6677\n",
      "Precision: 0.6665\n",
      "Recall_0 : 0.6418\n",
      "Recall_1 : 0.6929\n",
      "F1 Score : 0.6794\n",
      "\n",
      "Classification Report:\n",
      "               precision    recall  f1-score   support\n",
      "\n",
      "         0.0       0.67      0.64      0.66     33960\n",
      "         1.0       0.67      0.69      0.68     35097\n",
      "\n",
      "    accuracy                           0.67     69057\n",
      "   macro avg       0.67      0.67      0.67     69057\n",
      "weighted avg       0.67      0.67      0.67     69057\n",
      "\n"
     ]
    }
   ],
   "source": [
    "# 🔹 Step 1: Match features with training data\n",
    "X_bal = baldf[X_train.columns]\n",
    "y_bal = baldf[\"Diabetes_binary\"]\n",
    "\n",
    "# 🔹 Step 2: Predict using the trained final model\n",
    "y_probs_bal = manual_lgbm.predict_proba(X_bal)[:, 1]\n",
    "y_pred_bal = (y_probs_bal >= 0.5).astype(int)\n",
    "\n",
    "# 🔹 Step 3: Evaluate performance\n",
    "acc = accuracy_score(y_bal, y_pred_bal)\n",
    "prec = precision_score(y_bal, y_pred_bal)\n",
    "rec0 = recall_score(y_bal, y_pred_bal, pos_label=0)\n",
    "rec1 = recall_score(y_bal, y_pred_bal, pos_label=1)\n",
    "f1 = f1_score(y_bal, y_pred_bal)\n",
    "report = classification_report(y_bal, y_pred_bal)\n",
    "\n",
    "# 🔹 Step 4: Display results\n",
    "print(\"📊 Final Model Evaluation on Balanced Test Set\\n\")\n",
    "print(f\"Accuracy : {acc:.4f}\")\n",
    "print(f\"Precision: {prec:.4f}\")\n",
    "print(f\"Recall_0 : {rec0:.4f}\")\n",
    "print(f\"Recall_1 : {rec1:.4f}\")\n",
    "print(f\"F1 Score : {f1:.4f}\")\n",
    "print(\"\\nClassification Report:\\n\", report)"
   ]
  },
  {
   "cell_type": "markdown",
   "id": "ae8a718b-a40c-4979-9a4c-16b3ab414ba5",
   "metadata": {},
   "source": [
    "### Testing XGBoost with Balanced Data"
   ]
  },
  {
   "cell_type": "code",
   "execution_count": 156,
   "id": "684e98c4-be92-4869-bd77-bab692686d0c",
   "metadata": {
    "tags": []
   },
   "outputs": [
    {
     "name": "stdout",
     "output_type": "stream",
     "text": [
      "📊 Final Model Evaluation on Balanced Test Set\n",
      "\n",
      "Accuracy : 0.6674\n",
      "Precision: 0.6819\n",
      "Recall_0 : 0.6877\n",
      "Recall_1 : 0.6478\n",
      "F1 Score : 0.6644\n",
      "\n",
      "Classification Report:\n",
      "               precision    recall  f1-score   support\n",
      "\n",
      "         0.0       0.65      0.69      0.67     33960\n",
      "         1.0       0.68      0.65      0.66     35097\n",
      "\n",
      "    accuracy                           0.67     69057\n",
      "   macro avg       0.67      0.67      0.67     69057\n",
      "weighted avg       0.67      0.67      0.67     69057\n",
      "\n"
     ]
    }
   ],
   "source": [
    "# 🔹 Step 1: Match features with training data\n",
    "X_bal = baldf[X_train.columns]\n",
    "y_bal = baldf[\"Diabetes_binary\"]\n",
    "\n",
    "# 🔹 Step 2: Predict using the trained final model\n",
    "y_probs_bal = final_xgb.predict_proba(X_bal)[:, 1]\n",
    "y_pred_bal = (y_probs_bal >= 0.579).astype(int)\n",
    "\n",
    "# 🔹 Step 3: Evaluate performance\n",
    "acc = accuracy_score(y_bal, y_pred_bal)\n",
    "prec = precision_score(y_bal, y_pred_bal)\n",
    "rec0 = recall_score(y_bal, y_pred_bal, pos_label=0)\n",
    "rec1 = recall_score(y_bal, y_pred_bal, pos_label=1)\n",
    "f1 = f1_score(y_bal, y_pred_bal)\n",
    "report = classification_report(y_bal, y_pred_bal)\n",
    "\n",
    "# 🔹 Step 4: Display results\n",
    "print(\"📊 Final Model Evaluation on Balanced Test Set\\n\")\n",
    "print(f\"Accuracy : {acc:.4f}\")\n",
    "print(f\"Precision: {prec:.4f}\")\n",
    "print(f\"Recall_0 : {rec0:.4f}\")\n",
    "print(f\"Recall_1 : {rec1:.4f}\")\n",
    "print(f\"F1 Score : {f1:.4f}\")\n",
    "print(\"\\nClassification Report:\\n\", report)"
   ]
  },
  {
   "cell_type": "markdown",
   "id": "577c9bdf-eb9b-43b9-8d4d-8ebd6391906b",
   "metadata": {},
   "source": [
    "### Testing manual XGBoost model with Balanced data"
   ]
  },
  {
   "cell_type": "code",
   "execution_count": 311,
   "id": "14667ba4-5242-414f-938f-c987c87fe5ce",
   "metadata": {
    "tags": []
   },
   "outputs": [
    {
     "name": "stdout",
     "output_type": "stream",
     "text": [
      "📊 Final Model Evaluation on Balanced Test Set\n",
      "\n",
      "Accuracy : 0.6601\n",
      "Precision: 0.6482\n",
      "Recall_0 : 0.5939\n",
      "Recall_1 : 0.7242\n",
      "F1 Score : 0.6841\n",
      "\n",
      "Classification Report:\n",
      "               precision    recall  f1-score   support\n",
      "\n",
      "         0.0       0.68      0.59      0.63     33960\n",
      "         1.0       0.65      0.72      0.68     35097\n",
      "\n",
      "    accuracy                           0.66     69057\n",
      "   macro avg       0.66      0.66      0.66     69057\n",
      "weighted avg       0.66      0.66      0.66     69057\n",
      "\n"
     ]
    }
   ],
   "source": [
    "# 🔹 Step 1: Match features with training data\n",
    "X_bal = baldf[X_train.columns]\n",
    "y_bal = baldf[\"Diabetes_binary\"]\n",
    "\n",
    "# 🔹 Step 2: Predict using the trained final model\n",
    "y_probs_bal = manual_xgb.predict_proba(X_bal)[:, 1]\n",
    "y_pred_bal = (y_probs_bal >= 0.555).astype(int)\n",
    "\n",
    "# 🔹 Step 3: Evaluate performance\n",
    "acc = accuracy_score(y_bal, y_pred_bal)\n",
    "prec = precision_score(y_bal, y_pred_bal)\n",
    "rec0 = recall_score(y_bal, y_pred_bal, pos_label=0)\n",
    "rec1 = recall_score(y_bal, y_pred_bal, pos_label=1)\n",
    "f1 = f1_score(y_bal, y_pred_bal)\n",
    "report = classification_report(y_bal, y_pred_bal)\n",
    "\n",
    "# 🔹 Step 4: Display results\n",
    "print(\"📊 Final Model Evaluation on Balanced Test Set\\n\")\n",
    "print(f\"Accuracy : {acc:.4f}\")\n",
    "print(f\"Precision: {prec:.4f}\")\n",
    "print(f\"Recall_0 : {rec0:.4f}\")\n",
    "print(f\"Recall_1 : {rec1:.4f}\")\n",
    "print(f\"F1 Score : {f1:.4f}\")\n",
    "print(\"\\nClassification Report:\\n\", report)"
   ]
  },
  {
   "cell_type": "markdown",
   "id": "09e23b55-7631-4772-adef-c71c1173f5fc",
   "metadata": {},
   "source": [
    "### SHAP for LightGBM model"
   ]
  },
  {
   "cell_type": "code",
   "execution_count": 312,
   "id": "c72ca9d4-5caf-4cde-b097-5dd394d1cb36",
   "metadata": {
    "tags": []
   },
   "outputs": [
    {
     "data": {
      "image/png": "[encoded data removed]",
      "text/plain": [
       "<Figure size 800x650 with 1 Axes>"
      ]
     },
     "metadata": {},
     "output_type": "display_data"
    },
    {
     "data": {
      "image/png": "[encoded data removed]",
      "text/plain": [
       "<Figure size 800x550 with 2 Axes>"
      ]
     },
     "metadata": {},
     "output_type": "display_data"
    }
   ],
   "source": [
    "import shap\n",
    "\n",
    "# Step 1: Prepare training data as DataFrame\n",
    "X_train_df = pd.DataFrame(X_train_resampled, columns=X_train.columns)\n",
    "\n",
    "# Step 2: Use TreeExplainer (works perfectly with LightGBM)\n",
    "# explainer = shap.TreeExplainer(final_lgbm)\n",
    "explainer = shap.TreeExplainer(manual_lgbm)\n",
    "\n",
    "# Step 3: Compute SHAP values\n",
    "shap_values = explainer(X_train_df)\n",
    "\n",
    "# Step 4: Summary Plot (Bar)\n",
    "# shap.summary_plot(shap_values, X_train_df, plot_type=\"bar\", max_display=15)\n",
    "\n",
    "shap.plots.bar(shap_values)\n",
    "\n",
    "# Step 5: Beeswarm Plot\n",
    "# shap.summary_plot(shap_values, X_train_df, max_display=15)\n",
    "\n",
    "shap.plots.beeswarm(shap_values)"
   ]
  },
  {
   "cell_type": "markdown",
   "id": "7736f22d-11f8-45ae-8672-02d0a9810491",
   "metadata": {},
   "source": [
    "### 🔷 1. **Bar Plot – Global Feature Importance**\n",
    "\n",
    "> Shows which features had the **biggest average impact** on the model's predictions.\n",
    "\n",
    "#### 🔝 Top Contributors:\n",
    "- **GenHlth** : Most impactful feature — poor general health strongly pushes predictions toward diabetes\n",
    "- **HighBP** : High blood pressure is highly predictive of diabetes\n",
    "- **BMI** : A high BMI increases the likelihood of being classified as diabetic\n",
    "- **Income_Categorized** : Lower income brackets may correlate with higher risk\n",
    "- **Age_Categorized** : Older individuals have higher SHAP values (greater impact)\n",
    "\n",
    "🧠 Interpretation:\n",
    "> The model learned health-related and socio-economic features are the most important drivers of diabetes classification.\n",
    "\n",
    "---\n",
    "\n",
    "### 🌈 2. **Beeswarm Plot – Distribution of SHAP Impacts**\n",
    "\n",
    "> Shows how individual feature values (high or low) affect each prediction.\n",
    "\n",
    "#### Key Observations:\n",
    "- **GenHlth (General Health)**: Red = poor health → pushes prediction toward diabetes. Blue (good health) lowers risk.\n",
    "- **HighBP**: High blood pressure (red) increases SHAP value → model leans toward class 1.\n",
    "- **BMI**: Higher BMI (red) increases risk; lower BMI (blue) reduces it.\n",
    "- **Income & Age**: Lower income and older age generally push predictions up.\n",
    "\n",
    "🧪 We also get a sense of **variability** — e.g., even for the same BMI or income level, the effect can vary across individuals.\n",
    "\n",
    "---\n",
    "\n",
    "### 💡 Final SHAP Takeaway\n",
    "\n",
    "> SHAP confirms that the model is **aligned with medical expectations** — general health, blood pressure, BMI, and income are intuitive and explainable indicators of diabetes risk."
   ]
  },
  {
   "cell_type": "markdown",
   "id": "7b6c54dd-ddf2-45f9-bfaa-331fca0ecee9",
   "metadata": {},
   "source": [
    "### SHAP for XGBoost"
   ]
  },
  {
   "cell_type": "code",
   "execution_count": 313,
   "id": "a609bb57-07e4-411b-b738-d0669c6e2149",
   "metadata": {
    "tags": []
   },
   "outputs": [
    {
     "data": {
      "image/png": "[encoded data removed]",
      "text/plain": [
       "<Figure size 800x650 with 1 Axes>"
      ]
     },
     "metadata": {},
     "output_type": "display_data"
    },
    {
     "data": {
      "image/png": "[encoded data removed]",
      "text/plain": [
       "<Figure size 800x550 with 2 Axes>"
      ]
     },
     "metadata": {},
     "output_type": "display_data"
    }
   ],
   "source": [
    "import shap\n",
    "\n",
    "# Step 1: Prepare training data as DataFrame\n",
    "X_train_df = pd.DataFrame(X_train_resampled, columns=X_train.columns)\n",
    "\n",
    "# Step 2: Use TreeExplainer (works perfectly with XGB)\n",
    "explainer = shap.TreeExplainer(manual_xgb)\n",
    "\n",
    "# Step 3: Compute SHAP values\n",
    "shap_values = explainer(X_train_df)\n",
    "\n",
    "# Step 4: Summary Plot (Bar)\n",
    "# shap.summary_plot(shap_values, X_train_df, plot_type=\"bar\", max_display=15)\n",
    "\n",
    "shap.plots.bar(shap_values)\n",
    "\n",
    "# Step 5: Beeswarm Plot\n",
    "# shap.summary_plot(shap_values, X_train_df, max_display=15)\n",
    "\n",
    "shap.plots.beeswarm(shap_values)"
   ]
  },
  {
   "cell_type": "code",
   "execution_count": 316,
   "id": "b4b80525-1f01-4f4e-87ff-84325268094d",
   "metadata": {
    "tags": []
   },
   "outputs": [],
   "source": [
    "import joblib"
   ]
  },
  {
   "cell_type": "code",
   "execution_count": 317,
   "id": "5879415b-85d1-40a3-bd30-7987790b8189",
   "metadata": {
    "tags": []
   },
   "outputs": [
    {
     "data": {
      "text/plain": [
       "['AdaBoostManual_model.pkl']"
      ]
     },
     "execution_count": 317,
     "metadata": {},
     "output_type": "execute_result"
    }
   ],
   "source": [
    "joblib.dump(final_model, \"AdaBoostManual_model.pkl\")"
   ]
  },
  {
   "cell_type": "code",
   "execution_count": 318,
   "id": "240aaeb3-86d6-48fb-9d0d-9565bfd42041",
   "metadata": {
    "tags": []
   },
   "outputs": [
    {
     "data": {
      "text/plain": [
       "['LightGBM_Manual_model.pkl']"
      ]
     },
     "execution_count": 318,
     "metadata": {},
     "output_type": "execute_result"
    }
   ],
   "source": [
    "# LightGBM Manual Tuned Model\n",
    "joblib.dump(manual_lgbm, \"LightGBM_Manual_model.pkl\")"
   ]
  },
  {
   "cell_type": "code",
   "execution_count": 319,
   "id": "089d34ae-0aa9-4f1c-8edf-f34d85ac5123",
   "metadata": {
    "tags": []
   },
   "outputs": [
    {
     "data": {
      "text/plain": [
       "['XGBoost_Manual_model.pkl']"
      ]
     },
     "execution_count": 319,
     "metadata": {},
     "output_type": "execute_result"
    }
   ],
   "source": [
    "# XGBoost Manual Tuned Model\n",
    "joblib.dump(manual_xgb, \"XGBoost_Manual_model.pkl\")"
   ]
  },
  {
   "cell_type": "code",
   "execution_count": 335,
   "id": "296bb05a-de90-4fba-bcf3-bb2ceedef3dd",
   "metadata": {
    "tags": []
   },
   "outputs": [
    {
     "name": "stdout",
     "output_type": "stream",
     "text": [
      "['HighBP', 'HighChol', 'CholCheck', 'BMI', 'Smoker', 'Stroke', 'HeartDiseaseorAttack', 'PhysActivity', 'Fruits', 'Veggies', 'HvyAlcoholConsump', 'AnyHealthcare', 'NoDocbcCost', 'GenHlth', 'MentHlth', 'PhysHlth', 'DiffWalk', 'Sex', 'Age_Categorized', 'Education_Categorized', 'Income_Categorized']\n"
     ]
    }
   ],
   "source": [
    "print(X_train.columns.tolist())"
   ]
  },
  {
   "cell_type": "code",
   "execution_count": null,
   "id": "5a2cba57-ddc2-460f-afdc-0dbb2cf4be36",
   "metadata": {},
   "outputs": [],
   "source": []
  }
 ],
 "metadata": {
  "kernelspec": {
   "display_name": "Python 3 (ipykernel)",
   "language": "python",
   "name": "python3"
  },
  "language_info": {
   "codemirror_mode": {
    "name": "ipython",
    "version": 3
   },
   "file_extension": ".py",
   "mimetype": "text/x-python",
   "name": "python",
   "nbconvert_exporter": "python",
   "pygments_lexer": "ipython3",
   "version": "3.11.5"
  }
 },
 "nbformat": 4,
 "nbformat_minor": 5
}
